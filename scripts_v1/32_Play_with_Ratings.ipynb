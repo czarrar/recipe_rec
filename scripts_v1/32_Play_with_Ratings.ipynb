{
 "cells": [
  {
   "cell_type": "code",
   "execution_count": 1,
   "metadata": {},
   "outputs": [],
   "source": [
    "# Load in packages to use throughout\n",
    "import pandas as pd\n",
    "import seaborn as sns\n",
    "import matplotlib.pyplot as plt\n",
    "import numpy as np"
   ]
  },
  {
   "cell_type": "markdown",
   "metadata": {},
   "source": [
    "# Read in Data"
   ]
  },
  {
   "cell_type": "code",
   "execution_count": 2,
   "metadata": {},
   "outputs": [
    {
     "data": {
      "text/html": [
       "<div>\n",
       "<style scoped>\n",
       "    .dataframe tbody tr th:only-of-type {\n",
       "        vertical-align: middle;\n",
       "    }\n",
       "\n",
       "    .dataframe tbody tr th {\n",
       "        vertical-align: top;\n",
       "    }\n",
       "\n",
       "    .dataframe thead th {\n",
       "        text-align: right;\n",
       "    }\n",
       "</style>\n",
       "<table border=\"1\" class=\"dataframe\">\n",
       "  <thead>\n",
       "    <tr style=\"text-align: right;\">\n",
       "      <th></th>\n",
       "      <th>recipe_id</th>\n",
       "      <th>aver_rate</th>\n",
       "      <th>review_nums</th>\n",
       "      <th>recipe_name</th>\n",
       "      <th>ingredients</th>\n",
       "    </tr>\n",
       "  </thead>\n",
       "  <tbody>\n",
       "    <tr>\n",
       "      <th>0</th>\n",
       "      <td>240488</td>\n",
       "      <td>4.764706</td>\n",
       "      <td>29</td>\n",
       "      <td>Pork Loin, Apples, and Sauerkraut</td>\n",
       "      <td>sauerkraut drained^Granny Smith apples sliced^...</td>\n",
       "    </tr>\n",
       "    <tr>\n",
       "      <th>1</th>\n",
       "      <td>218939</td>\n",
       "      <td>4.571429</td>\n",
       "      <td>12</td>\n",
       "      <td>Foolproof Rosemary Chicken Wings</td>\n",
       "      <td>chicken wings^sprigs rosemary^head garlic^oliv...</td>\n",
       "    </tr>\n",
       "    <tr>\n",
       "      <th>2</th>\n",
       "      <td>87211</td>\n",
       "      <td>4.625000</td>\n",
       "      <td>163</td>\n",
       "      <td>Chicken Pesto Paninis</td>\n",
       "      <td>focaccia bread quartered^prepared basil pesto^...</td>\n",
       "    </tr>\n",
       "    <tr>\n",
       "      <th>3</th>\n",
       "      <td>245714</td>\n",
       "      <td>4.500000</td>\n",
       "      <td>2</td>\n",
       "      <td>Potato Bacon Pizza</td>\n",
       "      <td>red potatoes^strips bacon^Sauce:^heavy whippin...</td>\n",
       "    </tr>\n",
       "    <tr>\n",
       "      <th>4</th>\n",
       "      <td>218545</td>\n",
       "      <td>4.605769</td>\n",
       "      <td>85</td>\n",
       "      <td>Latin-Inspired Spicy Cream Chicken Stew</td>\n",
       "      <td>skinless boneless chicken breast halves^diced ...</td>\n",
       "    </tr>\n",
       "  </tbody>\n",
       "</table>\n",
       "</div>"
      ],
      "text/plain": [
       "   recipe_id  aver_rate  review_nums                              recipe_name  \\\n",
       "0     240488   4.764706           29        Pork Loin, Apples, and Sauerkraut   \n",
       "1     218939   4.571429           12         Foolproof Rosemary Chicken Wings   \n",
       "2      87211   4.625000          163                    Chicken Pesto Paninis   \n",
       "3     245714   4.500000            2                       Potato Bacon Pizza   \n",
       "4     218545   4.605769           85  Latin-Inspired Spicy Cream Chicken Stew   \n",
       "\n",
       "                                         ingredients  \n",
       "0  sauerkraut drained^Granny Smith apples sliced^...  \n",
       "1  chicken wings^sprigs rosemary^head garlic^oliv...  \n",
       "2  focaccia bread quartered^prepared basil pesto^...  \n",
       "3  red potatoes^strips bacon^Sauce:^heavy whippin...  \n",
       "4  skinless boneless chicken breast halves^diced ...  "
      ]
     },
     "execution_count": 2,
     "metadata": {},
     "output_type": "execute_result"
    }
   ],
   "source": [
    "recipes = pd.read_csv('../data/30_ingredients+ave_ratings.csv').iloc[:,1:]\n",
    "recipes.head()"
   ]
  },
  {
   "cell_type": "code",
   "execution_count": null,
   "metadata": {},
   "outputs": [],
   "source": [
    "recipes."
   ]
  },
  {
   "cell_type": "markdown",
   "metadata": {},
   "source": [
    "# Play with Ratings\n",
    "\n",
    "My goal is to see what the ratings are and how they are distributed. It actually seems like all the recipes have some ratings and so you could see how well the suggested ratings from the proximity model is what \"someone\" likes, where someone is the average rating."
   ]
  },
  {
   "cell_type": "markdown",
   "metadata": {},
   "source": [
    "## Average Ratings"
   ]
  },
  {
   "cell_type": "code",
   "execution_count": 46,
   "metadata": {},
   "outputs": [
    {
     "data": {
      "text/plain": [
       "<matplotlib.axes._subplots.AxesSubplot at 0x7fde47d159d0>"
      ]
     },
     "execution_count": 46,
     "metadata": {},
     "output_type": "execute_result"
    },
    {
     "data": {
      "image/png": "[encoded data removed]",
      "text/plain": [
       "<Figure size 432x288 with 1 Axes>"
      ]
     },
     "metadata": {
      "needs_background": "light"
     },
     "output_type": "display_data"
    }
   ],
   "source": [
    "sns.distplot(recipes.aver_rate, axlabel=\"Average Ratings\")"
   ]
  },
  {
   "cell_type": "code",
   "execution_count": 52,
   "metadata": {},
   "outputs": [
    {
     "data": {
      "text/plain": [
       "<matplotlib.axes._subplots.AxesSubplot at 0x7fde3dced3d0>"
      ]
     },
     "execution_count": 52,
     "metadata": {},
     "output_type": "execute_result"
    },
    {
     "data": {
      "image/png": "[encoded data removed]",
      "text/plain": [
       "<Figure size 432x288 with 1 Axes>"
      ]
     },
     "metadata": {
      "needs_background": "light"
     },
     "output_type": "display_data"
    }
   ],
   "source": [
    "sns.distplot(recipes.aver_rate, axlabel=\"Average Ratings\", hist=True, kde=False)"
   ]
  },
  {
   "cell_type": "code",
   "execution_count": 56,
   "metadata": {},
   "outputs": [
    {
     "name": "stdout",
     "output_type": "stream",
     "text": [
      "below 5:  43724\n",
      "below 4:  7076\n",
      "below 3:  569\n",
      "below 2:  57\n",
      "below 1:  2\n"
     ]
    }
   ],
   "source": [
    "# Examine the distribution of ratings via this table\n",
    "# Apparent from this and above that most of the ratings are above 4\n",
    "print('below 5: ', np.sum(recipes.aver_rate < 5))\n",
    "print('below 4: ', np.sum(recipes.aver_rate < 4))\n",
    "print('below 3: ', np.sum(recipes.aver_rate < 3))\n",
    "print('below 2: ', np.sum(recipes.aver_rate < 2))\n",
    "print('below 1: ', np.sum(recipes.aver_rate < 1))"
   ]
  },
  {
   "cell_type": "markdown",
   "metadata": {},
   "source": [
    "## Number of Ratings"
   ]
  },
  {
   "cell_type": "code",
   "execution_count": 45,
   "metadata": {},
   "outputs": [
    {
     "data": {
      "text/plain": [
       "<matplotlib.axes._subplots.AxesSubplot at 0x7fde4835bb80>"
      ]
     },
     "execution_count": 45,
     "metadata": {},
     "output_type": "execute_result"
    },
    {
     "data": {
      "image/png": "[encoded data removed]",
      "text/plain": [
       "<Figure size 432x288 with 1 Axes>"
      ]
     },
     "metadata": {
      "needs_background": "light"
     },
     "output_type": "display_data"
    }
   ],
   "source": [
    "sns.distplot(recipes.review_nums, axlabel=\"Number of Ratings Per Recipe\")"
   ]
  },
  {
   "cell_type": "code",
   "execution_count": 44,
   "metadata": {},
   "outputs": [
    {
     "data": {
      "image/png": "[encoded data removed]",
      "text/plain": [
       "<Figure size 432x288 with 1 Axes>"
      ]
     },
     "metadata": {
      "needs_background": "light"
     },
     "output_type": "display_data"
    }
   ],
   "source": [
    "ax = sns.distplot(np.log(recipes.review_nums), axlabel=\"Number of Ratings on a Log Scale\")\n",
    "ax.set_xticklabels(np.exp([0.0001,2,4,6,8,10]).round(0));"
   ]
  },
  {
   "cell_type": "code",
   "execution_count": null,
   "metadata": {},
   "outputs": [],
   "source": []
  }
 ],
 "metadata": {
  "kernelspec": {
   "display_name": "Python 3",
   "language": "python",
   "name": "python3"
  },
  "language_info": {
   "codemirror_mode": {
    "name": "ipython",
    "version": 3
   },
   "file_extension": ".py",
   "mimetype": "text/x-python",
   "name": "python",
   "nbconvert_exporter": "python",
   "pygments_lexer": "ipython3",
   "version": "3.8.3"
  }
 },
 "nbformat": 4,
 "nbformat_minor": 4
}
