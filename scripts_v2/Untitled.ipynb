{
 "cells": [
  {
   "cell_type": "code",
   "execution_count": 4,
   "metadata": {},
   "outputs": [
    {
     "name": "stdout",
     "output_type": "stream",
     "text": [
      "core-data-test_rating.csv   \u001b[34mcore_images\u001b[m\u001b[m/\n",
      "core-data-train_rating.csv  \u001b[34mraw-data-images\u001b[m\u001b[m/\n",
      "core-data-valid_rating.csv  raw-data_interaction.csv\n",
      "core-data_recipe.csv        raw-data_recipe.csv\n"
     ]
    }
   ],
   "source": [
    "ls ../data/RecSys/"
   ]
  },
  {
   "cell_type": "code",
   "execution_count": 13,
   "metadata": {},
   "outputs": [],
   "source": [
    "import pandas as pd\n",
    "import numpy as np"
   ]
  },
  {
   "cell_type": "code",
   "execution_count": 2,
   "metadata": {},
   "outputs": [],
   "source": [
    "core_train = pd.read_csv('../data/RecSys/core-data-train_rating.csv')\n",
    "core_valid = pd.read_csv('../data/RecSys/core-data-valid_rating.csv')\n",
    "core_test  = pd.read_csv('../data/RecSys/core-data-test_rating.csv')"
   ]
  },
  {
   "cell_type": "code",
   "execution_count": null,
   "metadata": {},
   "outputs": [],
   "source": [
    "core_train.head()"
   ]
  },
  {
   "cell_type": "code",
   "execution_count": null,
   "metadata": {},
   "outputs": [],
   "source": [
    "core_valid.head()"
   ]
  },
  {
   "cell_type": "code",
   "execution_count": 5,
   "metadata": {},
   "outputs": [
    {
     "data": {
      "text/plain": [
       "(68768,)"
      ]
     },
     "execution_count": 5,
     "metadata": {},
     "output_type": "execute_result"
    }
   ],
   "source": [
    "core_train.user_id.unique().shape"
   ]
  },
  {
   "cell_type": "code",
   "execution_count": 6,
   "metadata": {},
   "outputs": [
    {
     "data": {
      "text/plain": [
       "(29303,)"
      ]
     },
     "execution_count": 6,
     "metadata": {},
     "output_type": "execute_result"
    }
   ],
   "source": [
    "core_valid.user_id.unique().shape"
   ]
  },
  {
   "cell_type": "code",
   "execution_count": 7,
   "metadata": {},
   "outputs": [
    {
     "data": {
      "text/plain": [
       "(68768,)"
      ]
     },
     "execution_count": 7,
     "metadata": {},
     "output_type": "execute_result"
    }
   ],
   "source": [
    "core_test.user_id.unique().shape"
   ]
  },
  {
   "cell_type": "code",
   "execution_count": null,
   "metadata": {},
   "outputs": [],
   "source": [
    "[ x in core_train.user_id.unique() for x in core_valid.user_id.unique() ]"
   ]
  },
  {
   "cell_type": "code",
   "execution_count": 9,
   "metadata": {},
   "outputs": [
    {
     "data": {
      "text/plain": [
       "array([1313770,  880574, 4053950, ..., 6582644, 2430357, 3656393])"
      ]
     },
     "execution_count": 9,
     "metadata": {},
     "output_type": "execute_result"
    }
   ],
   "source": [
    "core_valid.user_id.unique()"
   ]
  },
  {
   "cell_type": "code",
   "execution_count": 22,
   "metadata": {},
   "outputs": [
    {
     "data": {
      "text/plain": [
       "[True, True, True, True, True, True, True, True, True, True]"
      ]
     },
     "execution_count": 22,
     "metadata": {},
     "output_type": "execute_result"
    }
   ],
   "source": [
    "[ x in core_train.user_id.unique() for x in np.random.choice(core_valid.user_id.unique(), 10)]"
   ]
  },
  {
   "cell_type": "code",
   "execution_count": 12,
   "metadata": {},
   "outputs": [
    {
     "ename": "AttributeError",
     "evalue": "'numpy.ndarray' object has no attribute 'sample'",
     "output_type": "error",
     "traceback": [
      "\u001b[0;31m---------------------------------------------------------------------------\u001b[0m",
      "\u001b[0;31mAttributeError\u001b[0m                            Traceback (most recent call last)",
      "\u001b[0;32m<ipython-input-12-959ac1197686>\u001b[0m in \u001b[0;36m<module>\u001b[0;34m\u001b[0m\n\u001b[0;32m----> 1\u001b[0;31m \u001b[0mcore_valid\u001b[0m\u001b[0;34m.\u001b[0m\u001b[0muser_id\u001b[0m\u001b[0;34m.\u001b[0m\u001b[0munique\u001b[0m\u001b[0;34m(\u001b[0m\u001b[0;34m)\u001b[0m\u001b[0;34m.\u001b[0m\u001b[0msample\u001b[0m\u001b[0;34m(\u001b[0m\u001b[0;36m10\u001b[0m\u001b[0;34m)\u001b[0m\u001b[0;34m\u001b[0m\u001b[0;34m\u001b[0m\u001b[0m\n\u001b[0m",
      "\u001b[0;31mAttributeError\u001b[0m: 'numpy.ndarray' object has no attribute 'sample'"
     ]
    }
   ],
   "source": [
    "core_valid.user_id.unique().sample(10)"
   ]
  },
  {
   "cell_type": "code",
   "execution_count": 37,
   "metadata": {},
   "outputs": [
    {
     "data": {
      "text/plain": [
       "(68768, 1)"
      ]
     },
     "execution_count": 37,
     "metadata": {},
     "output_type": "execute_result"
    }
   ],
   "source": [
    "# Validation has a subset of subjects in it\n",
    "ct = pd.DataFrame(data={'user_id':core_train.user_id.unique()})\n",
    "cv = pd.DataFrame(data={'user_id':core_valid.user_id.unique()})\n",
    "pd.merge(ct, cv, how=\"outer\", on=\"user_id\").shape"
   ]
  },
  {
   "cell_type": "code",
   "execution_count": 41,
   "metadata": {},
   "outputs": [
    {
     "data": {
      "text/html": [
       "<div>\n",
       "<style scoped>\n",
       "    .dataframe tbody tr th:only-of-type {\n",
       "        vertical-align: middle;\n",
       "    }\n",
       "\n",
       "    .dataframe tbody tr th {\n",
       "        vertical-align: top;\n",
       "    }\n",
       "\n",
       "    .dataframe thead th {\n",
       "        text-align: right;\n",
       "    }\n",
       "</style>\n",
       "<table border=\"1\" class=\"dataframe\">\n",
       "  <thead>\n",
       "    <tr style=\"text-align: right;\">\n",
       "      <th></th>\n",
       "      <th>user_id</th>\n",
       "      <th>recipe_id</th>\n",
       "      <th>rating</th>\n",
       "      <th>dateLastModified</th>\n",
       "    </tr>\n",
       "  </thead>\n",
       "  <tbody>\n",
       "    <tr>\n",
       "      <th>0</th>\n",
       "      <td>1313770</td>\n",
       "      <td>13988</td>\n",
       "      <td>5</td>\n",
       "      <td>2012-01-25T09:11:57.003\\n</td>\n",
       "    </tr>\n",
       "  </tbody>\n",
       "</table>\n",
       "</div>"
      ],
      "text/plain": [
       "   user_id  recipe_id  rating           dateLastModified\n",
       "0  1313770      13988       5  2012-01-25T09:11:57.003\\n"
      ]
     },
     "execution_count": 41,
     "metadata": {},
     "output_type": "execute_result"
    }
   ],
   "source": [
    "core_valid[core_valid.user_id == 1313770]"
   ]
  },
  {
   "cell_type": "code",
   "execution_count": 43,
   "metadata": {},
   "outputs": [
    {
     "data": {
      "text/html": [
       "<div>\n",
       "<style scoped>\n",
       "    .dataframe tbody tr th:only-of-type {\n",
       "        vertical-align: middle;\n",
       "    }\n",
       "\n",
       "    .dataframe tbody tr th {\n",
       "        vertical-align: top;\n",
       "    }\n",
       "\n",
       "    .dataframe thead th {\n",
       "        text-align: right;\n",
       "    }\n",
       "</style>\n",
       "<table border=\"1\" class=\"dataframe\">\n",
       "  <thead>\n",
       "    <tr style=\"text-align: right;\">\n",
       "      <th></th>\n",
       "      <th>user_id</th>\n",
       "      <th>recipe_id</th>\n",
       "      <th>rating</th>\n",
       "      <th>dateLastModified</th>\n",
       "    </tr>\n",
       "  </thead>\n",
       "  <tbody>\n",
       "    <tr>\n",
       "      <th>4</th>\n",
       "      <td>1313770</td>\n",
       "      <td>47519</td>\n",
       "      <td>5</td>\n",
       "      <td>2005-10-04T15:43:36.653\\n</td>\n",
       "    </tr>\n",
       "    <tr>\n",
       "      <th>5</th>\n",
       "      <td>1313770</td>\n",
       "      <td>42964</td>\n",
       "      <td>5</td>\n",
       "      <td>2005-09-04T16:28:14.5\\n</td>\n",
       "    </tr>\n",
       "    <tr>\n",
       "      <th>6</th>\n",
       "      <td>1313770</td>\n",
       "      <td>47822</td>\n",
       "      <td>5</td>\n",
       "      <td>2005-06-24T18:45:25.903\\n</td>\n",
       "    </tr>\n",
       "    <tr>\n",
       "      <th>7</th>\n",
       "      <td>1313770</td>\n",
       "      <td>11815</td>\n",
       "      <td>5</td>\n",
       "      <td>2005-01-06T14:24:21.217\\n</td>\n",
       "    </tr>\n",
       "    <tr>\n",
       "      <th>8</th>\n",
       "      <td>1313770</td>\n",
       "      <td>12780</td>\n",
       "      <td>5</td>\n",
       "      <td>2005-06-04T17:41:53.95\\n</td>\n",
       "    </tr>\n",
       "    <tr>\n",
       "      <th>9</th>\n",
       "      <td>1313770</td>\n",
       "      <td>150711</td>\n",
       "      <td>5</td>\n",
       "      <td>2009-07-28T16:11:57.573\\n</td>\n",
       "    </tr>\n",
       "  </tbody>\n",
       "</table>\n",
       "</div>"
      ],
      "text/plain": [
       "   user_id  recipe_id  rating           dateLastModified\n",
       "4  1313770      47519       5  2005-10-04T15:43:36.653\\n\n",
       "5  1313770      42964       5    2005-09-04T16:28:14.5\\n\n",
       "6  1313770      47822       5  2005-06-24T18:45:25.903\\n\n",
       "7  1313770      11815       5  2005-01-06T14:24:21.217\\n\n",
       "8  1313770      12780       5   2005-06-04T17:41:53.95\\n\n",
       "9  1313770     150711       5  2009-07-28T16:11:57.573\\n"
      ]
     },
     "execution_count": 43,
     "metadata": {},
     "output_type": "execute_result"
    }
   ],
   "source": [
    "core_train[core_train.user_id == 1313770]"
   ]
  },
  {
   "cell_type": "code",
   "execution_count": 44,
   "metadata": {},
   "outputs": [
    {
     "data": {
      "text/html": [
       "<div>\n",
       "<style scoped>\n",
       "    .dataframe tbody tr th:only-of-type {\n",
       "        vertical-align: middle;\n",
       "    }\n",
       "\n",
       "    .dataframe tbody tr th {\n",
       "        vertical-align: top;\n",
       "    }\n",
       "\n",
       "    .dataframe thead th {\n",
       "        text-align: right;\n",
       "    }\n",
       "</style>\n",
       "<table border=\"1\" class=\"dataframe\">\n",
       "  <thead>\n",
       "    <tr style=\"text-align: right;\">\n",
       "      <th></th>\n",
       "      <th>user_id</th>\n",
       "      <th>recipe_id</th>\n",
       "      <th>rating</th>\n",
       "      <th>dateLastModified</th>\n",
       "    </tr>\n",
       "  </thead>\n",
       "  <tbody>\n",
       "    <tr>\n",
       "      <th>4</th>\n",
       "      <td>1313770</td>\n",
       "      <td>55641</td>\n",
       "      <td>5</td>\n",
       "      <td>2015-06-24T19:07:02.493\\n</td>\n",
       "    </tr>\n",
       "    <tr>\n",
       "      <th>5</th>\n",
       "      <td>1313770</td>\n",
       "      <td>21307</td>\n",
       "      <td>5</td>\n",
       "      <td>2013-02-17T15:33:04.357\\n</td>\n",
       "    </tr>\n",
       "    <tr>\n",
       "      <th>6</th>\n",
       "      <td>1313770</td>\n",
       "      <td>80969</td>\n",
       "      <td>5</td>\n",
       "      <td>2013-04-23T18:07:15.82\\n</td>\n",
       "    </tr>\n",
       "    <tr>\n",
       "      <th>7</th>\n",
       "      <td>1313770</td>\n",
       "      <td>16644</td>\n",
       "      <td>5</td>\n",
       "      <td>2013-10-10T19:44:32.74\\n</td>\n",
       "    </tr>\n",
       "  </tbody>\n",
       "</table>\n",
       "</div>"
      ],
      "text/plain": [
       "   user_id  recipe_id  rating           dateLastModified\n",
       "4  1313770      55641       5  2015-06-24T19:07:02.493\\n\n",
       "5  1313770      21307       5  2013-02-17T15:33:04.357\\n\n",
       "6  1313770      80969       5   2013-04-23T18:07:15.82\\n\n",
       "7  1313770      16644       5   2013-10-10T19:44:32.74\\n"
      ]
     },
     "execution_count": 44,
     "metadata": {},
     "output_type": "execute_result"
    }
   ],
   "source": [
    "core_test[core_test.user_id == 1313770]"
   ]
  },
  {
   "cell_type": "code",
   "execution_count": 49,
   "metadata": {},
   "outputs": [
    {
     "name": "stdout",
     "output_type": "stream",
     "text": [
      "   user_id  recipe_id  rating           dateLastModified\n",
      "1   880574      67952       4   2012-03-24T05:37:12.64\\n\n",
      "2   880574      85389       5  2012-03-05T18:09:22.573\\n\n",
      "3   880574     218597       4  2012-03-03T10:23:05.127\\n\n",
      "4   880574     143069       3  2012-11-25T06:55:33.463\\n\n",
      "5   880574     162760       4   2012-03-03T10:27:16.65\\n\n",
      "6   880574      78023       4  2012-03-03T10:25:09.823\\n\n",
      "     user_id  recipe_id  rating           dateLastModified\n",
      "11    880574      16700       4  2004-01-25T07:10:59.123\\n\n",
      "12    880574     176682       4  2010-02-11T18:57:39.793\\n\n",
      "13    880574     141846       3  2011-02-03T04:35:22.727\\n\n",
      "14    880574      52464       3   2006-05-18T15:10:33.48\\n\n",
      "15    880574      23260       4   2008-01-10T10:27:11.54\\n\n",
      "..       ...        ...     ...                        ...\n",
      "534   880574      17066       5  2009-09-10T11:04:53.987\\n\n",
      "535   880574      22228       5  2007-08-07T16:32:51.323\\n\n",
      "536   880574     139012       5   2010-02-07T17:44:36.72\\n\n",
      "537   880574      40573       5  2007-03-18T16:23:43.523\\n\n",
      "538   880574      83117       4    2006-10-14T19:16:56.2\\n\n",
      "\n",
      "[528 rows x 4 columns]\n",
      "    user_id  recipe_id  rating           dateLastModified\n",
      "10   880574     190226       4  2013-07-28T09:53:12.847\\n\n",
      "11   880574      12409       5  2013-09-15T17:43:24.603\\n\n",
      "12   880574     174365       5    2013-03-12T10:34:31.1\\n\n",
      "13   880574      47613       4   2013-04-29T20:19:03.07\\n\n",
      "14   880574     147103       4   2013-04-15T18:01:23.34\\n\n",
      "15   880574     180502       4  2013-03-17T06:48:35.737\\n\n",
      "16   880574      16719       3   2013-04-14T07:43:27.25\\n\n",
      "17   880574      14050       4    2013-07-28T09:50:36.1\\n\n",
      "18   880574     103898       3   2013-03-12T10:31:28.86\\n\n",
      "19   880574      18074       5  2013-04-29T20:16:13.647\\n\n",
      "20   880574     229088       4  2013-03-17T06:50:59.503\\n\n",
      "21   880574     222581       4   2013-04-06T05:42:48.57\\n\n",
      "22   880574     220225       4  2013-04-15T18:05:31.807\\n\n",
      "23   880574     218989       3  2013-06-11T11:09:07.063\\n\n",
      "24   880574     218593       4  2013-09-16T18:06:47.867\\n\n",
      "25   880574     231578       5  2013-05-02T20:01:27.453\\n\n",
      "26   880574     228663       4   2013-05-01T18:37:53.26\\n\n"
     ]
    }
   ],
   "source": [
    "uid = 880574\n",
    "print(core_valid[core_valid.user_id == uid])\n",
    "print(core_train[core_train.user_id == uid])\n",
    "print(core_test[core_test.user_id == uid])"
   ]
  },
  {
   "cell_type": "code",
   "execution_count": 51,
   "metadata": {},
   "outputs": [],
   "source": [
    "recipes = pd.read_csv(\"../data/30_ingredients+ave_ratings.csv\")"
   ]
  },
  {
   "cell_type": "code",
   "execution_count": 52,
   "metadata": {},
   "outputs": [
    {
     "data": {
      "text/html": [
       "<div>\n",
       "<style scoped>\n",
       "    .dataframe tbody tr th:only-of-type {\n",
       "        vertical-align: middle;\n",
       "    }\n",
       "\n",
       "    .dataframe tbody tr th {\n",
       "        vertical-align: top;\n",
       "    }\n",
       "\n",
       "    .dataframe thead th {\n",
       "        text-align: right;\n",
       "    }\n",
       "</style>\n",
       "<table border=\"1\" class=\"dataframe\">\n",
       "  <thead>\n",
       "    <tr style=\"text-align: right;\">\n",
       "      <th></th>\n",
       "      <th>Unnamed: 0</th>\n",
       "      <th>recipe_id</th>\n",
       "      <th>ave_rating</th>\n",
       "      <th>num_reviews</th>\n",
       "      <th>name</th>\n",
       "      <th>ingredients</th>\n",
       "      <th>img_path</th>\n",
       "    </tr>\n",
       "  </thead>\n",
       "  <tbody>\n",
       "    <tr>\n",
       "      <th>0</th>\n",
       "      <td>0</td>\n",
       "      <td>240488</td>\n",
       "      <td>4.764706</td>\n",
       "      <td>29</td>\n",
       "      <td>Pork Loin, Apples, and Sauerkraut</td>\n",
       "      <td>sauerkraut drained, Granny Smith apples sliced...</td>\n",
       "      <td>../data/RecSys/core_images/240488.jpg</td>\n",
       "    </tr>\n",
       "    <tr>\n",
       "      <th>1</th>\n",
       "      <td>1</td>\n",
       "      <td>218939</td>\n",
       "      <td>4.571429</td>\n",
       "      <td>12</td>\n",
       "      <td>Foolproof Rosemary Chicken Wings</td>\n",
       "      <td>chicken wings, sprigs rosemary, head garlic, o...</td>\n",
       "      <td>../data/RecSys/core_images/218939.jpg</td>\n",
       "    </tr>\n",
       "    <tr>\n",
       "      <th>2</th>\n",
       "      <td>2</td>\n",
       "      <td>87211</td>\n",
       "      <td>4.625000</td>\n",
       "      <td>163</td>\n",
       "      <td>Chicken Pesto Paninis</td>\n",
       "      <td>focaccia bread quartered, prepared basil pesto...</td>\n",
       "      <td>../data/RecSys/core_images/87211.jpg</td>\n",
       "    </tr>\n",
       "    <tr>\n",
       "      <th>3</th>\n",
       "      <td>3</td>\n",
       "      <td>245714</td>\n",
       "      <td>4.500000</td>\n",
       "      <td>2</td>\n",
       "      <td>Potato Bacon Pizza</td>\n",
       "      <td>red potatoes, strips bacon, Sauce:, heavy whip...</td>\n",
       "      <td>../data/RecSys/core_images/245714.jpg</td>\n",
       "    </tr>\n",
       "    <tr>\n",
       "      <th>4</th>\n",
       "      <td>4</td>\n",
       "      <td>218545</td>\n",
       "      <td>4.605769</td>\n",
       "      <td>85</td>\n",
       "      <td>Latin-Inspired Spicy Cream Chicken Stew</td>\n",
       "      <td>skinless boneless chicken breast halves, diced...</td>\n",
       "      <td>../data/RecSys/core_images/218545.jpg</td>\n",
       "    </tr>\n",
       "  </tbody>\n",
       "</table>\n",
       "</div>"
      ],
      "text/plain": [
       "   Unnamed: 0  recipe_id  ave_rating  num_reviews  \\\n",
       "0           0     240488    4.764706           29   \n",
       "1           1     218939    4.571429           12   \n",
       "2           2      87211    4.625000          163   \n",
       "3           3     245714    4.500000            2   \n",
       "4           4     218545    4.605769           85   \n",
       "\n",
       "                                      name  \\\n",
       "0        Pork Loin, Apples, and Sauerkraut   \n",
       "1         Foolproof Rosemary Chicken Wings   \n",
       "2                    Chicken Pesto Paninis   \n",
       "3                       Potato Bacon Pizza   \n",
       "4  Latin-Inspired Spicy Cream Chicken Stew   \n",
       "\n",
       "                                         ingredients  \\\n",
       "0  sauerkraut drained, Granny Smith apples sliced...   \n",
       "1  chicken wings, sprigs rosemary, head garlic, o...   \n",
       "2  focaccia bread quartered, prepared basil pesto...   \n",
       "3  red potatoes, strips bacon, Sauce:, heavy whip...   \n",
       "4  skinless boneless chicken breast halves, diced...   \n",
       "\n",
       "                                img_path  \n",
       "0  ../data/RecSys/core_images/240488.jpg  \n",
       "1  ../data/RecSys/core_images/218939.jpg  \n",
       "2   ../data/RecSys/core_images/87211.jpg  \n",
       "3  ../data/RecSys/core_images/245714.jpg  \n",
       "4  ../data/RecSys/core_images/218545.jpg  "
      ]
     },
     "execution_count": 52,
     "metadata": {},
     "output_type": "execute_result"
    }
   ],
   "source": [
    "recipes.head()"
   ]
  },
  {
   "cell_type": "code",
   "execution_count": null,
   "metadata": {},
   "outputs": [],
   "source": []
  }
 ],
 "metadata": {
  "kernelspec": {
   "display_name": "Python 3",
   "language": "python",
   "name": "python3"
  },
  "language_info": {
   "codemirror_mode": {
    "name": "ipython",
    "version": 3
   },
   "file_extension": ".py",
   "mimetype": "text/x-python",
   "name": "python",
   "nbconvert_exporter": "python",
   "pygments_lexer": "ipython3",
   "version": "3.8.3"
  }
 },
 "nbformat": 4,
 "nbformat_minor": 4
}
