{
 "cells": [
  {
   "cell_type": "code",
   "execution_count": 1,
   "metadata": {},
   "outputs": [],
   "source": [
    "import pandas as pd\n",
    "import json\n",
    "import sqlite3\n",
    "import numpy as np\n",
    "from datetime import datetime"
   ]
  },
  {
   "cell_type": "code",
   "execution_count": 2,
   "metadata": {},
   "outputs": [],
   "source": [
    "conn = sqlite3.connect('../data/recsys.db')\n",
    "c = conn.cursor()"
   ]
  },
  {
   "cell_type": "code",
   "execution_count": 4,
   "metadata": {},
   "outputs": [
    {
     "data": {
      "text/html": [
       "<div>\n",
       "<style scoped>\n",
       "    .dataframe tbody tr th:only-of-type {\n",
       "        vertical-align: middle;\n",
       "    }\n",
       "\n",
       "    .dataframe tbody tr th {\n",
       "        vertical-align: top;\n",
       "    }\n",
       "\n",
       "    .dataframe thead th {\n",
       "        text-align: right;\n",
       "    }\n",
       "</style>\n",
       "<table border=\"1\" class=\"dataframe\">\n",
       "  <thead>\n",
       "    <tr style=\"text-align: right;\">\n",
       "      <th></th>\n",
       "      <th>id</th>\n",
       "      <th>name</th>\n",
       "      <th>ave_rating</th>\n",
       "      <th>image_url</th>\n",
       "      <th>review_nums</th>\n",
       "      <th>ingredients</th>\n",
       "      <th>directions</th>\n",
       "    </tr>\n",
       "  </thead>\n",
       "  <tbody>\n",
       "    <tr>\n",
       "      <th>0</th>\n",
       "      <td>222388</td>\n",
       "      <td>Homemade Bacon</td>\n",
       "      <td>5.000000</td>\n",
       "      <td>https://images.media-allrecipes.com/userphotos...</td>\n",
       "      <td>3</td>\n",
       "      <td>pork belly, smoked paprika, kosher salt, groun...</td>\n",
       "      <td>'Prep\\n5 m\\nCook\\n2 h 45 m\\nReady In\\n11 h 50 ...</td>\n",
       "    </tr>\n",
       "    <tr>\n",
       "      <th>1</th>\n",
       "      <td>240488</td>\n",
       "      <td>Pork Loin, Apples, and Sauerkraut</td>\n",
       "      <td>4.764706</td>\n",
       "      <td>https://images.media-allrecipes.com/userphotos...</td>\n",
       "      <td>29</td>\n",
       "      <td>sauerkraut drained, Granny Smith apples sliced...</td>\n",
       "      <td>'Prep\\n15 m\\nCook\\n2 h 30 m\\nReady In\\n2 h 45 ...</td>\n",
       "    </tr>\n",
       "    <tr>\n",
       "      <th>2</th>\n",
       "      <td>218939</td>\n",
       "      <td>Foolproof Rosemary Chicken Wings</td>\n",
       "      <td>4.571429</td>\n",
       "      <td>https://images.media-allrecipes.com/userphotos...</td>\n",
       "      <td>12</td>\n",
       "      <td>chicken wings, sprigs rosemary, head garlic, o...</td>\n",
       "      <td>\"Prep\\n20 m\\nCook\\n40 m\\nReady In\\n1 h\\nPrehea...</td>\n",
       "    </tr>\n",
       "    <tr>\n",
       "      <th>3</th>\n",
       "      <td>87211</td>\n",
       "      <td>Chicken Pesto Paninis</td>\n",
       "      <td>4.625000</td>\n",
       "      <td>https://images.media-allrecipes.com/userphotos...</td>\n",
       "      <td>163</td>\n",
       "      <td>focaccia bread quartered, prepared basil pesto...</td>\n",
       "      <td>'Prep\\n15 m\\nCook\\n5 m\\nReady In\\n20 m\\nPrehea...</td>\n",
       "    </tr>\n",
       "    <tr>\n",
       "      <th>4</th>\n",
       "      <td>245714</td>\n",
       "      <td>Potato Bacon Pizza</td>\n",
       "      <td>4.500000</td>\n",
       "      <td>https://images.media-allrecipes.com/userphotos...</td>\n",
       "      <td>2</td>\n",
       "      <td>red potatoes, strips bacon, Sauce:, heavy whip...</td>\n",
       "      <td>'Prep\\n20 m\\nCook\\n45 m\\nReady In\\n1 h 10 m\\nP...</td>\n",
       "    </tr>\n",
       "  </tbody>\n",
       "</table>\n",
       "</div>"
      ],
      "text/plain": [
       "       id                               name  ave_rating  \\\n",
       "0  222388                     Homemade Bacon    5.000000   \n",
       "1  240488  Pork Loin, Apples, and Sauerkraut    4.764706   \n",
       "2  218939   Foolproof Rosemary Chicken Wings    4.571429   \n",
       "3   87211              Chicken Pesto Paninis    4.625000   \n",
       "4  245714                 Potato Bacon Pizza    4.500000   \n",
       "\n",
       "                                           image_url  review_nums  \\\n",
       "0  https://images.media-allrecipes.com/userphotos...            3   \n",
       "1  https://images.media-allrecipes.com/userphotos...           29   \n",
       "2  https://images.media-allrecipes.com/userphotos...           12   \n",
       "3  https://images.media-allrecipes.com/userphotos...          163   \n",
       "4  https://images.media-allrecipes.com/userphotos...            2   \n",
       "\n",
       "                                         ingredients  \\\n",
       "0  pork belly, smoked paprika, kosher salt, groun...   \n",
       "1  sauerkraut drained, Granny Smith apples sliced...   \n",
       "2  chicken wings, sprigs rosemary, head garlic, o...   \n",
       "3  focaccia bread quartered, prepared basil pesto...   \n",
       "4  red potatoes, strips bacon, Sauce:, heavy whip...   \n",
       "\n",
       "                                          directions  \n",
       "0  'Prep\\n5 m\\nCook\\n2 h 45 m\\nReady In\\n11 h 50 ...  \n",
       "1  'Prep\\n15 m\\nCook\\n2 h 30 m\\nReady In\\n2 h 45 ...  \n",
       "2  \"Prep\\n20 m\\nCook\\n40 m\\nReady In\\n1 h\\nPrehea...  \n",
       "3  'Prep\\n15 m\\nCook\\n5 m\\nReady In\\n20 m\\nPrehea...  \n",
       "4  'Prep\\n20 m\\nCook\\n45 m\\nReady In\\n1 h 10 m\\nP...  "
      ]
     },
     "execution_count": 4,
     "metadata": {},
     "output_type": "execute_result"
    }
   ],
   "source": [
    "df = pd.read_sql_query('''SELECT * FROM recipes;''', conn)\n",
    "df.head()"
   ]
  },
  {
   "cell_type": "code",
   "execution_count": 5,
   "metadata": {},
   "outputs": [],
   "source": [
    "df.to_csv('../data/12_recipes.csv')"
   ]
  },
  {
   "cell_type": "code",
   "execution_count": null,
   "metadata": {},
   "outputs": [],
   "source": []
  }
 ],
 "metadata": {
  "kernelspec": {
   "display_name": "Python 3",
   "language": "python",
   "name": "python3"
  },
  "language_info": {
   "codemirror_mode": {
    "name": "ipython",
    "version": 3
   },
   "file_extension": ".py",
   "mimetype": "text/x-python",
   "name": "python",
   "nbconvert_exporter": "python",
   "pygments_lexer": "ipython3",
   "version": "3.8.3"
  }
 },
 "nbformat": 4,
 "nbformat_minor": 4
}
