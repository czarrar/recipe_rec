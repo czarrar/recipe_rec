{
 "cells": [
  {
   "cell_type": "code",
   "execution_count": 1,
   "metadata": {},
   "outputs": [],
   "source": [
    "import pandas as pd\n",
    "import json\n",
    "import sqlite3\n",
    "import numpy as np\n",
    "from datetime import datetime"
   ]
  },
  {
   "cell_type": "markdown",
   "metadata": {},
   "source": [
    "# Load in the data"
   ]
  },
  {
   "cell_type": "code",
   "execution_count": 2,
   "metadata": {},
   "outputs": [],
   "source": [
    "recipes = pd.read_csv(\"../data/RecSys/raw-data_recipe.csv\")"
   ]
  },
  {
   "cell_type": "code",
   "execution_count": 3,
   "metadata": {},
   "outputs": [],
   "source": [
    "interactions = pd.read_csv(\"../data/RecSys/raw-data_interaction.csv\")"
   ]
  },
  {
   "cell_type": "markdown",
   "metadata": {},
   "source": [
    "# Format Recipes\n",
    "\n",
    "## Rename Columns\n",
    "\n",
    "I rename some of the columns for ease. I won't be using the reviews here so dropping that."
   ]
  },
  {
   "cell_type": "code",
   "execution_count": 4,
   "metadata": {},
   "outputs": [
    {
     "data": {
      "text/html": [
       "<div>\n",
       "<style scoped>\n",
       "    .dataframe tbody tr th:only-of-type {\n",
       "        vertical-align: middle;\n",
       "    }\n",
       "\n",
       "    .dataframe tbody tr th {\n",
       "        vertical-align: top;\n",
       "    }\n",
       "\n",
       "    .dataframe thead th {\n",
       "        text-align: right;\n",
       "    }\n",
       "</style>\n",
       "<table border=\"1\" class=\"dataframe\">\n",
       "  <thead>\n",
       "    <tr style=\"text-align: right;\">\n",
       "      <th></th>\n",
       "      <th>id</th>\n",
       "      <th>name</th>\n",
       "      <th>ave_rating</th>\n",
       "      <th>image_url</th>\n",
       "      <th>review_nums</th>\n",
       "      <th>ingredients</th>\n",
       "      <th>directions</th>\n",
       "      <th>nutrients</th>\n",
       "    </tr>\n",
       "  </thead>\n",
       "  <tbody>\n",
       "    <tr>\n",
       "      <th>0</th>\n",
       "      <td>222388</td>\n",
       "      <td>Homemade Bacon</td>\n",
       "      <td>5.000000</td>\n",
       "      <td>https://images.media-allrecipes.com/userphotos...</td>\n",
       "      <td>3</td>\n",
       "      <td>pork belly^smoked paprika^kosher salt^ground b...</td>\n",
       "      <td>{'directions': u'Prep\\n5 m\\nCook\\n2 h 45 m\\nRe...</td>\n",
       "      <td>{u'niacin': {u'hasCompleteData': False, u'name...</td>\n",
       "    </tr>\n",
       "    <tr>\n",
       "      <th>1</th>\n",
       "      <td>240488</td>\n",
       "      <td>Pork Loin, Apples, and Sauerkraut</td>\n",
       "      <td>4.764706</td>\n",
       "      <td>https://images.media-allrecipes.com/userphotos...</td>\n",
       "      <td>29</td>\n",
       "      <td>sauerkraut drained^Granny Smith apples sliced^...</td>\n",
       "      <td>{'directions': u'Prep\\n15 m\\nCook\\n2 h 30 m\\nR...</td>\n",
       "      <td>{u'niacin': {u'hasCompleteData': False, u'name...</td>\n",
       "    </tr>\n",
       "    <tr>\n",
       "      <th>2</th>\n",
       "      <td>218939</td>\n",
       "      <td>Foolproof Rosemary Chicken Wings</td>\n",
       "      <td>4.571429</td>\n",
       "      <td>https://images.media-allrecipes.com/userphotos...</td>\n",
       "      <td>12</td>\n",
       "      <td>chicken wings^sprigs rosemary^head garlic^oliv...</td>\n",
       "      <td>{'directions': u\"Prep\\n20 m\\nCook\\n40 m\\nReady...</td>\n",
       "      <td>{u'niacin': {u'hasCompleteData': True, u'name'...</td>\n",
       "    </tr>\n",
       "    <tr>\n",
       "      <th>3</th>\n",
       "      <td>87211</td>\n",
       "      <td>Chicken Pesto Paninis</td>\n",
       "      <td>4.625000</td>\n",
       "      <td>https://images.media-allrecipes.com/userphotos...</td>\n",
       "      <td>163</td>\n",
       "      <td>focaccia bread quartered^prepared basil pesto^...</td>\n",
       "      <td>{'directions': u'Prep\\n15 m\\nCook\\n5 m\\nReady ...</td>\n",
       "      <td>{u'niacin': {u'hasCompleteData': True, u'name'...</td>\n",
       "    </tr>\n",
       "    <tr>\n",
       "      <th>4</th>\n",
       "      <td>245714</td>\n",
       "      <td>Potato Bacon Pizza</td>\n",
       "      <td>4.500000</td>\n",
       "      <td>https://images.media-allrecipes.com/userphotos...</td>\n",
       "      <td>2</td>\n",
       "      <td>red potatoes^strips bacon^Sauce:^heavy whippin...</td>\n",
       "      <td>{'directions': u'Prep\\n20 m\\nCook\\n45 m\\nReady...</td>\n",
       "      <td>{u'niacin': {u'hasCompleteData': True, u'name'...</td>\n",
       "    </tr>\n",
       "  </tbody>\n",
       "</table>\n",
       "</div>"
      ],
      "text/plain": [
       "       id                               name  ave_rating  \\\n",
       "0  222388                     Homemade Bacon    5.000000   \n",
       "1  240488  Pork Loin, Apples, and Sauerkraut    4.764706   \n",
       "2  218939   Foolproof Rosemary Chicken Wings    4.571429   \n",
       "3   87211              Chicken Pesto Paninis    4.625000   \n",
       "4  245714                 Potato Bacon Pizza    4.500000   \n",
       "\n",
       "                                           image_url  review_nums  \\\n",
       "0  https://images.media-allrecipes.com/userphotos...            3   \n",
       "1  https://images.media-allrecipes.com/userphotos...           29   \n",
       "2  https://images.media-allrecipes.com/userphotos...           12   \n",
       "3  https://images.media-allrecipes.com/userphotos...          163   \n",
       "4  https://images.media-allrecipes.com/userphotos...            2   \n",
       "\n",
       "                                         ingredients  \\\n",
       "0  pork belly^smoked paprika^kosher salt^ground b...   \n",
       "1  sauerkraut drained^Granny Smith apples sliced^...   \n",
       "2  chicken wings^sprigs rosemary^head garlic^oliv...   \n",
       "3  focaccia bread quartered^prepared basil pesto^...   \n",
       "4  red potatoes^strips bacon^Sauce:^heavy whippin...   \n",
       "\n",
       "                                          directions  \\\n",
       "0  {'directions': u'Prep\\n5 m\\nCook\\n2 h 45 m\\nRe...   \n",
       "1  {'directions': u'Prep\\n15 m\\nCook\\n2 h 30 m\\nR...   \n",
       "2  {'directions': u\"Prep\\n20 m\\nCook\\n40 m\\nReady...   \n",
       "3  {'directions': u'Prep\\n15 m\\nCook\\n5 m\\nReady ...   \n",
       "4  {'directions': u'Prep\\n20 m\\nCook\\n45 m\\nReady...   \n",
       "\n",
       "                                           nutrients  \n",
       "0  {u'niacin': {u'hasCompleteData': False, u'name...  \n",
       "1  {u'niacin': {u'hasCompleteData': False, u'name...  \n",
       "2  {u'niacin': {u'hasCompleteData': True, u'name'...  \n",
       "3  {u'niacin': {u'hasCompleteData': True, u'name'...  \n",
       "4  {u'niacin': {u'hasCompleteData': True, u'name'...  "
      ]
     },
     "execution_count": 4,
     "metadata": {},
     "output_type": "execute_result"
    }
   ],
   "source": [
    "recipes = recipes.rename(columns={'recipe_id':'id', 'recipe_name':'name', 'aver_rate':'ave_rating', 'cooking_directions':'directions', 'nutritions':'nutrients'})\n",
    "recipes = recipes.drop('reviews', axis=1)\n",
    "recipes.head()"
   ]
  },
  {
   "cell_type": "markdown",
   "metadata": {},
   "source": [
    "## Cooking Directions\n",
    "\n",
    "Format the directions. See the effect."
   ]
  },
  {
   "cell_type": "code",
   "execution_count": 5,
   "metadata": {},
   "outputs": [],
   "source": [
    "directions = [ x.replace(\"{'directions': u\", \"\").replace(\"'}\", '') for x in recipes.directions ]\n",
    "recipes['directions'] = directions"
   ]
  },
  {
   "cell_type": "code",
   "execution_count": 6,
   "metadata": {},
   "outputs": [
    {
     "data": {
      "text/html": [
       "<div>\n",
       "<style scoped>\n",
       "    .dataframe tbody tr th:only-of-type {\n",
       "        vertical-align: middle;\n",
       "    }\n",
       "\n",
       "    .dataframe tbody tr th {\n",
       "        vertical-align: top;\n",
       "    }\n",
       "\n",
       "    .dataframe thead th {\n",
       "        text-align: right;\n",
       "    }\n",
       "</style>\n",
       "<table border=\"1\" class=\"dataframe\">\n",
       "  <thead>\n",
       "    <tr style=\"text-align: right;\">\n",
       "      <th></th>\n",
       "      <th>id</th>\n",
       "      <th>name</th>\n",
       "      <th>ave_rating</th>\n",
       "      <th>image_url</th>\n",
       "      <th>review_nums</th>\n",
       "      <th>ingredients</th>\n",
       "      <th>directions</th>\n",
       "      <th>nutrients</th>\n",
       "    </tr>\n",
       "  </thead>\n",
       "  <tbody>\n",
       "    <tr>\n",
       "      <th>0</th>\n",
       "      <td>222388</td>\n",
       "      <td>Homemade Bacon</td>\n",
       "      <td>5.000000</td>\n",
       "      <td>https://images.media-allrecipes.com/userphotos...</td>\n",
       "      <td>3</td>\n",
       "      <td>pork belly^smoked paprika^kosher salt^ground b...</td>\n",
       "      <td>'Prep\\n5 m\\nCook\\n2 h 45 m\\nReady In\\n11 h 50 ...</td>\n",
       "      <td>{u'niacin': {u'hasCompleteData': False, u'name...</td>\n",
       "    </tr>\n",
       "    <tr>\n",
       "      <th>1</th>\n",
       "      <td>240488</td>\n",
       "      <td>Pork Loin, Apples, and Sauerkraut</td>\n",
       "      <td>4.764706</td>\n",
       "      <td>https://images.media-allrecipes.com/userphotos...</td>\n",
       "      <td>29</td>\n",
       "      <td>sauerkraut drained^Granny Smith apples sliced^...</td>\n",
       "      <td>'Prep\\n15 m\\nCook\\n2 h 30 m\\nReady In\\n2 h 45 ...</td>\n",
       "      <td>{u'niacin': {u'hasCompleteData': False, u'name...</td>\n",
       "    </tr>\n",
       "    <tr>\n",
       "      <th>2</th>\n",
       "      <td>218939</td>\n",
       "      <td>Foolproof Rosemary Chicken Wings</td>\n",
       "      <td>4.571429</td>\n",
       "      <td>https://images.media-allrecipes.com/userphotos...</td>\n",
       "      <td>12</td>\n",
       "      <td>chicken wings^sprigs rosemary^head garlic^oliv...</td>\n",
       "      <td>\"Prep\\n20 m\\nCook\\n40 m\\nReady In\\n1 h\\nPrehea...</td>\n",
       "      <td>{u'niacin': {u'hasCompleteData': True, u'name'...</td>\n",
       "    </tr>\n",
       "    <tr>\n",
       "      <th>3</th>\n",
       "      <td>87211</td>\n",
       "      <td>Chicken Pesto Paninis</td>\n",
       "      <td>4.625000</td>\n",
       "      <td>https://images.media-allrecipes.com/userphotos...</td>\n",
       "      <td>163</td>\n",
       "      <td>focaccia bread quartered^prepared basil pesto^...</td>\n",
       "      <td>'Prep\\n15 m\\nCook\\n5 m\\nReady In\\n20 m\\nPrehea...</td>\n",
       "      <td>{u'niacin': {u'hasCompleteData': True, u'name'...</td>\n",
       "    </tr>\n",
       "    <tr>\n",
       "      <th>4</th>\n",
       "      <td>245714</td>\n",
       "      <td>Potato Bacon Pizza</td>\n",
       "      <td>4.500000</td>\n",
       "      <td>https://images.media-allrecipes.com/userphotos...</td>\n",
       "      <td>2</td>\n",
       "      <td>red potatoes^strips bacon^Sauce:^heavy whippin...</td>\n",
       "      <td>'Prep\\n20 m\\nCook\\n45 m\\nReady In\\n1 h 10 m\\nP...</td>\n",
       "      <td>{u'niacin': {u'hasCompleteData': True, u'name'...</td>\n",
       "    </tr>\n",
       "  </tbody>\n",
       "</table>\n",
       "</div>"
      ],
      "text/plain": [
       "       id                               name  ave_rating  \\\n",
       "0  222388                     Homemade Bacon    5.000000   \n",
       "1  240488  Pork Loin, Apples, and Sauerkraut    4.764706   \n",
       "2  218939   Foolproof Rosemary Chicken Wings    4.571429   \n",
       "3   87211              Chicken Pesto Paninis    4.625000   \n",
       "4  245714                 Potato Bacon Pizza    4.500000   \n",
       "\n",
       "                                           image_url  review_nums  \\\n",
       "0  https://images.media-allrecipes.com/userphotos...            3   \n",
       "1  https://images.media-allrecipes.com/userphotos...           29   \n",
       "2  https://images.media-allrecipes.com/userphotos...           12   \n",
       "3  https://images.media-allrecipes.com/userphotos...          163   \n",
       "4  https://images.media-allrecipes.com/userphotos...            2   \n",
       "\n",
       "                                         ingredients  \\\n",
       "0  pork belly^smoked paprika^kosher salt^ground b...   \n",
       "1  sauerkraut drained^Granny Smith apples sliced^...   \n",
       "2  chicken wings^sprigs rosemary^head garlic^oliv...   \n",
       "3  focaccia bread quartered^prepared basil pesto^...   \n",
       "4  red potatoes^strips bacon^Sauce:^heavy whippin...   \n",
       "\n",
       "                                          directions  \\\n",
       "0  'Prep\\n5 m\\nCook\\n2 h 45 m\\nReady In\\n11 h 50 ...   \n",
       "1  'Prep\\n15 m\\nCook\\n2 h 30 m\\nReady In\\n2 h 45 ...   \n",
       "2  \"Prep\\n20 m\\nCook\\n40 m\\nReady In\\n1 h\\nPrehea...   \n",
       "3  'Prep\\n15 m\\nCook\\n5 m\\nReady In\\n20 m\\nPrehea...   \n",
       "4  'Prep\\n20 m\\nCook\\n45 m\\nReady In\\n1 h 10 m\\nP...   \n",
       "\n",
       "                                           nutrients  \n",
       "0  {u'niacin': {u'hasCompleteData': False, u'name...  \n",
       "1  {u'niacin': {u'hasCompleteData': False, u'name...  \n",
       "2  {u'niacin': {u'hasCompleteData': True, u'name'...  \n",
       "3  {u'niacin': {u'hasCompleteData': True, u'name'...  \n",
       "4  {u'niacin': {u'hasCompleteData': True, u'name'...  "
      ]
     },
     "execution_count": 6,
     "metadata": {},
     "output_type": "execute_result"
    }
   ],
   "source": [
    "recipes.head()"
   ]
  },
  {
   "cell_type": "markdown",
   "metadata": {},
   "source": [
    "## Ingredients\n",
    "\n",
    "Format the ingredients. It has ^ to separate the individual ingredients. Want to use ',' instead. There are 2 current instances of commas so just replace those with a ' '.\n",
    "\n",
    "So first find and replace the existing commas."
   ]
  },
  {
   "cell_type": "code",
   "execution_count": 7,
   "metadata": {},
   "outputs": [
    {
     "data": {
      "text/plain": [
       "2"
      ]
     },
     "execution_count": 7,
     "metadata": {},
     "output_type": "execute_result"
    }
   ],
   "source": [
    "any_commas = np.array([ x.find(',') for x in recipes.ingredients ])\n",
    "np.sum(any_commas > (-1))"
   ]
  },
  {
   "cell_type": "code",
   "execution_count": 8,
   "metadata": {},
   "outputs": [
    {
     "name": "stdout",
     "output_type": "stream",
     "text": [
      "['chicken', 'chicken broth', 'large carrots', 'celery', 'large turnip,cut into 1/4-inch dice', 'parsnips cut into 1/4-inch dice', 'leek chopped', 'onion', 'chopped fresh dill', 'matzo ball mix', 'eggs', 'vegetable oil', 'water', 'salt and ground black pepper to taste']\n",
      "['Corn \"Cream\":', 'ears fresh white corn', 'chicken broth', 'Pasta:', 'olive oil', 'diced bacon', 'diced sweet red pepper', 'diced zucchini', 'salt and pepper to taste', 'cayenne pepper', 'cavatelli pasta', 'corn \"cream,\"', 'halved sweet cherry tomatoes', 'chopped Italian parsley', 'finely sliced fresh basil leaves', 'grated Parmigiano-Reggiano cheese']\n"
     ]
    }
   ],
   "source": [
    "# Where are those commas\n",
    "for x in recipes.ingredients[any_commas > (-1)]:\n",
    "    print(x.split('^'))"
   ]
  },
  {
   "cell_type": "code",
   "execution_count": 9,
   "metadata": {},
   "outputs": [],
   "source": [
    "for ind in np.nonzero(any_commas > (-1))[0]:\n",
    "    recipes.loc[ind,\"ingredients\"] = recipes.loc[ind,\"ingredients\"].replace(\",\", \" \")"
   ]
  },
  {
   "cell_type": "markdown",
   "metadata": {},
   "source": [
    "Replace out all ^ with ,"
   ]
  },
  {
   "cell_type": "code",
   "execution_count": 10,
   "metadata": {},
   "outputs": [],
   "source": [
    "recipes['ingredients'] = [ x.replace('^', ', ') for x in recipes.ingredients ]"
   ]
  },
  {
   "cell_type": "code",
   "execution_count": 11,
   "metadata": {},
   "outputs": [
    {
     "data": {
      "text/html": [
       "<div>\n",
       "<style scoped>\n",
       "    .dataframe tbody tr th:only-of-type {\n",
       "        vertical-align: middle;\n",
       "    }\n",
       "\n",
       "    .dataframe tbody tr th {\n",
       "        vertical-align: top;\n",
       "    }\n",
       "\n",
       "    .dataframe thead th {\n",
       "        text-align: right;\n",
       "    }\n",
       "</style>\n",
       "<table border=\"1\" class=\"dataframe\">\n",
       "  <thead>\n",
       "    <tr style=\"text-align: right;\">\n",
       "      <th></th>\n",
       "      <th>id</th>\n",
       "      <th>name</th>\n",
       "      <th>ave_rating</th>\n",
       "      <th>image_url</th>\n",
       "      <th>review_nums</th>\n",
       "      <th>ingredients</th>\n",
       "      <th>directions</th>\n",
       "      <th>nutrients</th>\n",
       "    </tr>\n",
       "  </thead>\n",
       "  <tbody>\n",
       "    <tr>\n",
       "      <th>0</th>\n",
       "      <td>222388</td>\n",
       "      <td>Homemade Bacon</td>\n",
       "      <td>5.000000</td>\n",
       "      <td>https://images.media-allrecipes.com/userphotos...</td>\n",
       "      <td>3</td>\n",
       "      <td>pork belly, smoked paprika, kosher salt, groun...</td>\n",
       "      <td>'Prep\\n5 m\\nCook\\n2 h 45 m\\nReady In\\n11 h 50 ...</td>\n",
       "      <td>{u'niacin': {u'hasCompleteData': False, u'name...</td>\n",
       "    </tr>\n",
       "    <tr>\n",
       "      <th>1</th>\n",
       "      <td>240488</td>\n",
       "      <td>Pork Loin, Apples, and Sauerkraut</td>\n",
       "      <td>4.764706</td>\n",
       "      <td>https://images.media-allrecipes.com/userphotos...</td>\n",
       "      <td>29</td>\n",
       "      <td>sauerkraut drained, Granny Smith apples sliced...</td>\n",
       "      <td>'Prep\\n15 m\\nCook\\n2 h 30 m\\nReady In\\n2 h 45 ...</td>\n",
       "      <td>{u'niacin': {u'hasCompleteData': False, u'name...</td>\n",
       "    </tr>\n",
       "    <tr>\n",
       "      <th>2</th>\n",
       "      <td>218939</td>\n",
       "      <td>Foolproof Rosemary Chicken Wings</td>\n",
       "      <td>4.571429</td>\n",
       "      <td>https://images.media-allrecipes.com/userphotos...</td>\n",
       "      <td>12</td>\n",
       "      <td>chicken wings, sprigs rosemary, head garlic, o...</td>\n",
       "      <td>\"Prep\\n20 m\\nCook\\n40 m\\nReady In\\n1 h\\nPrehea...</td>\n",
       "      <td>{u'niacin': {u'hasCompleteData': True, u'name'...</td>\n",
       "    </tr>\n",
       "    <tr>\n",
       "      <th>3</th>\n",
       "      <td>87211</td>\n",
       "      <td>Chicken Pesto Paninis</td>\n",
       "      <td>4.625000</td>\n",
       "      <td>https://images.media-allrecipes.com/userphotos...</td>\n",
       "      <td>163</td>\n",
       "      <td>focaccia bread quartered, prepared basil pesto...</td>\n",
       "      <td>'Prep\\n15 m\\nCook\\n5 m\\nReady In\\n20 m\\nPrehea...</td>\n",
       "      <td>{u'niacin': {u'hasCompleteData': True, u'name'...</td>\n",
       "    </tr>\n",
       "    <tr>\n",
       "      <th>4</th>\n",
       "      <td>245714</td>\n",
       "      <td>Potato Bacon Pizza</td>\n",
       "      <td>4.500000</td>\n",
       "      <td>https://images.media-allrecipes.com/userphotos...</td>\n",
       "      <td>2</td>\n",
       "      <td>red potatoes, strips bacon, Sauce:, heavy whip...</td>\n",
       "      <td>'Prep\\n20 m\\nCook\\n45 m\\nReady In\\n1 h 10 m\\nP...</td>\n",
       "      <td>{u'niacin': {u'hasCompleteData': True, u'name'...</td>\n",
       "    </tr>\n",
       "  </tbody>\n",
       "</table>\n",
       "</div>"
      ],
      "text/plain": [
       "       id                               name  ave_rating  \\\n",
       "0  222388                     Homemade Bacon    5.000000   \n",
       "1  240488  Pork Loin, Apples, and Sauerkraut    4.764706   \n",
       "2  218939   Foolproof Rosemary Chicken Wings    4.571429   \n",
       "3   87211              Chicken Pesto Paninis    4.625000   \n",
       "4  245714                 Potato Bacon Pizza    4.500000   \n",
       "\n",
       "                                           image_url  review_nums  \\\n",
       "0  https://images.media-allrecipes.com/userphotos...            3   \n",
       "1  https://images.media-allrecipes.com/userphotos...           29   \n",
       "2  https://images.media-allrecipes.com/userphotos...           12   \n",
       "3  https://images.media-allrecipes.com/userphotos...          163   \n",
       "4  https://images.media-allrecipes.com/userphotos...            2   \n",
       "\n",
       "                                         ingredients  \\\n",
       "0  pork belly, smoked paprika, kosher salt, groun...   \n",
       "1  sauerkraut drained, Granny Smith apples sliced...   \n",
       "2  chicken wings, sprigs rosemary, head garlic, o...   \n",
       "3  focaccia bread quartered, prepared basil pesto...   \n",
       "4  red potatoes, strips bacon, Sauce:, heavy whip...   \n",
       "\n",
       "                                          directions  \\\n",
       "0  'Prep\\n5 m\\nCook\\n2 h 45 m\\nReady In\\n11 h 50 ...   \n",
       "1  'Prep\\n15 m\\nCook\\n2 h 30 m\\nReady In\\n2 h 45 ...   \n",
       "2  \"Prep\\n20 m\\nCook\\n40 m\\nReady In\\n1 h\\nPrehea...   \n",
       "3  'Prep\\n15 m\\nCook\\n5 m\\nReady In\\n20 m\\nPrehea...   \n",
       "4  'Prep\\n20 m\\nCook\\n45 m\\nReady In\\n1 h 10 m\\nP...   \n",
       "\n",
       "                                           nutrients  \n",
       "0  {u'niacin': {u'hasCompleteData': False, u'name...  \n",
       "1  {u'niacin': {u'hasCompleteData': False, u'name...  \n",
       "2  {u'niacin': {u'hasCompleteData': True, u'name'...  \n",
       "3  {u'niacin': {u'hasCompleteData': True, u'name'...  \n",
       "4  {u'niacin': {u'hasCompleteData': True, u'name'...  "
      ]
     },
     "execution_count": 11,
     "metadata": {},
     "output_type": "execute_result"
    }
   ],
   "source": [
    "recipes.head()"
   ]
  },
  {
   "cell_type": "markdown",
   "metadata": {},
   "source": [
    "## Format Interactions\n",
    "\n",
    "This is mostly dealing with the dateLastModified column."
   ]
  },
  {
   "cell_type": "code",
   "execution_count": 12,
   "metadata": {},
   "outputs": [
    {
     "data": {
      "text/html": [
       "<div>\n",
       "<style scoped>\n",
       "    .dataframe tbody tr th:only-of-type {\n",
       "        vertical-align: middle;\n",
       "    }\n",
       "\n",
       "    .dataframe tbody tr th {\n",
       "        vertical-align: top;\n",
       "    }\n",
       "\n",
       "    .dataframe thead th {\n",
       "        text-align: right;\n",
       "    }\n",
       "</style>\n",
       "<table border=\"1\" class=\"dataframe\">\n",
       "  <thead>\n",
       "    <tr style=\"text-align: right;\">\n",
       "      <th></th>\n",
       "      <th>user_id</th>\n",
       "      <th>recipe_id</th>\n",
       "      <th>rating</th>\n",
       "      <th>dateLastModified</th>\n",
       "    </tr>\n",
       "  </thead>\n",
       "  <tbody>\n",
       "    <tr>\n",
       "      <th>0</th>\n",
       "      <td>8542392</td>\n",
       "      <td>222388</td>\n",
       "      <td>5</td>\n",
       "      <td>2017-04-22T12:46:43.663\\n</td>\n",
       "    </tr>\n",
       "    <tr>\n",
       "      <th>1</th>\n",
       "      <td>11174581</td>\n",
       "      <td>222388</td>\n",
       "      <td>5</td>\n",
       "      <td>2013-06-20T15:50:25.96\\n</td>\n",
       "    </tr>\n",
       "    <tr>\n",
       "      <th>2</th>\n",
       "      <td>8262477</td>\n",
       "      <td>222388</td>\n",
       "      <td>5</td>\n",
       "      <td>2015-02-14T07:27:51.307\\n</td>\n",
       "    </tr>\n",
       "    <tr>\n",
       "      <th>3</th>\n",
       "      <td>3574785</td>\n",
       "      <td>240488</td>\n",
       "      <td>5</td>\n",
       "      <td>2017-10-07T18:20:08.973\\n</td>\n",
       "    </tr>\n",
       "    <tr>\n",
       "      <th>4</th>\n",
       "      <td>12145410</td>\n",
       "      <td>240488</td>\n",
       "      <td>2</td>\n",
       "      <td>2018-01-06T00:06:09.563\\n</td>\n",
       "    </tr>\n",
       "  </tbody>\n",
       "</table>\n",
       "</div>"
      ],
      "text/plain": [
       "    user_id  recipe_id  rating           dateLastModified\n",
       "0   8542392     222388       5  2017-04-22T12:46:43.663\\n\n",
       "1  11174581     222388       5   2013-06-20T15:50:25.96\\n\n",
       "2   8262477     222388       5  2015-02-14T07:27:51.307\\n\n",
       "3   3574785     240488       5  2017-10-07T18:20:08.973\\n\n",
       "4  12145410     240488       2  2018-01-06T00:06:09.563\\n"
      ]
     },
     "execution_count": 12,
     "metadata": {},
     "output_type": "execute_result"
    }
   ],
   "source": [
    "interactions.head()"
   ]
  },
  {
   "cell_type": "code",
   "execution_count": 13,
   "metadata": {},
   "outputs": [],
   "source": [
    "# Strip the \\n at the end of dateLastModified\n",
    "interactions['dateLastModified'] = [ x.strip('\\n') for x in interactions.dateLastModified ]"
   ]
  },
  {
   "cell_type": "markdown",
   "metadata": {},
   "source": [
    "* The date last modified includes time-scales faster than seconds. \n",
    "* Those microseconds aren't needed + are missing on many of the rows. \n",
    "* So we will restrict the date part to only a length of 19"
   ]
  },
  {
   "cell_type": "code",
   "execution_count": 14,
   "metadata": {},
   "outputs": [
    {
     "data": {
      "text/plain": [
       "23    2278354\n",
       "22    1360687\n",
       "21     137670\n",
       "19      17292\n",
       "dtype: int64"
      ]
     },
     "execution_count": 14,
     "metadata": {},
     "output_type": "execute_result"
    }
   ],
   "source": [
    "# We can the length of the dateLastModified\n",
    "lens = pd.Series([ len(x) for x in interactions.dateLastModified ])\n",
    "lens.value_counts()"
   ]
  },
  {
   "cell_type": "code",
   "execution_count": 15,
   "metadata": {},
   "outputs": [],
   "source": [
    "# We want to limit the length to 19\n",
    "interactions['dateLastModified'] = [ x[:19] for x in interactions.dateLastModified ]"
   ]
  },
  {
   "cell_type": "code",
   "execution_count": 16,
   "metadata": {},
   "outputs": [],
   "source": [
    "# Convert datetime into integer\n",
    "interactions['dateLastModified'] = [ datetime.fromisoformat(x).strftime('%s') for x in interactions.dateLastModified ]"
   ]
  },
  {
   "cell_type": "code",
   "execution_count": 17,
   "metadata": {},
   "outputs": [
    {
     "data": {
      "text/html": [
       "<div>\n",
       "<style scoped>\n",
       "    .dataframe tbody tr th:only-of-type {\n",
       "        vertical-align: middle;\n",
       "    }\n",
       "\n",
       "    .dataframe tbody tr th {\n",
       "        vertical-align: top;\n",
       "    }\n",
       "\n",
       "    .dataframe thead th {\n",
       "        text-align: right;\n",
       "    }\n",
       "</style>\n",
       "<table border=\"1\" class=\"dataframe\">\n",
       "  <thead>\n",
       "    <tr style=\"text-align: right;\">\n",
       "      <th></th>\n",
       "      <th>user_id</th>\n",
       "      <th>recipe_id</th>\n",
       "      <th>rating</th>\n",
       "      <th>dateLastModified</th>\n",
       "    </tr>\n",
       "  </thead>\n",
       "  <tbody>\n",
       "    <tr>\n",
       "      <th>0</th>\n",
       "      <td>8542392</td>\n",
       "      <td>222388</td>\n",
       "      <td>5</td>\n",
       "      <td>1492879603</td>\n",
       "    </tr>\n",
       "    <tr>\n",
       "      <th>1</th>\n",
       "      <td>11174581</td>\n",
       "      <td>222388</td>\n",
       "      <td>5</td>\n",
       "      <td>1371757825</td>\n",
       "    </tr>\n",
       "    <tr>\n",
       "      <th>2</th>\n",
       "      <td>8262477</td>\n",
       "      <td>222388</td>\n",
       "      <td>5</td>\n",
       "      <td>1423916871</td>\n",
       "    </tr>\n",
       "    <tr>\n",
       "      <th>3</th>\n",
       "      <td>3574785</td>\n",
       "      <td>240488</td>\n",
       "      <td>5</td>\n",
       "      <td>1507414808</td>\n",
       "    </tr>\n",
       "    <tr>\n",
       "      <th>4</th>\n",
       "      <td>12145410</td>\n",
       "      <td>240488</td>\n",
       "      <td>2</td>\n",
       "      <td>1515215169</td>\n",
       "    </tr>\n",
       "  </tbody>\n",
       "</table>\n",
       "</div>"
      ],
      "text/plain": [
       "    user_id  recipe_id  rating dateLastModified\n",
       "0   8542392     222388       5       1492879603\n",
       "1  11174581     222388       5       1371757825\n",
       "2   8262477     222388       5       1423916871\n",
       "3   3574785     240488       5       1507414808\n",
       "4  12145410     240488       2       1515215169"
      ]
     },
     "execution_count": 17,
     "metadata": {},
     "output_type": "execute_result"
    }
   ],
   "source": [
    "interactions.head()"
   ]
  },
  {
   "cell_type": "markdown",
   "metadata": {},
   "source": [
    "## Format Nutrients"
   ]
  },
  {
   "cell_type": "markdown",
   "metadata": {},
   "source": [
    "## Compile Nutrients Separately"
   ]
  },
  {
   "cell_type": "code",
   "execution_count": 19,
   "metadata": {},
   "outputs": [
    {
     "data": {
      "text/html": [
       "<div>\n",
       "<style scoped>\n",
       "    .dataframe tbody tr th:only-of-type {\n",
       "        vertical-align: middle;\n",
       "    }\n",
       "\n",
       "    .dataframe tbody tr th {\n",
       "        vertical-align: top;\n",
       "    }\n",
       "\n",
       "    .dataframe thead th {\n",
       "        text-align: right;\n",
       "    }\n",
       "</style>\n",
       "<table border=\"1\" class=\"dataframe\">\n",
       "  <thead>\n",
       "    <tr style=\"text-align: right;\">\n",
       "      <th></th>\n",
       "      <th>recipe_id</th>\n",
       "      <th>complete</th>\n",
       "      <th>name</th>\n",
       "      <th>value</th>\n",
       "      <th>percent_daily_value</th>\n",
       "      <th>display_value</th>\n",
       "      <th>value_unit</th>\n",
       "    </tr>\n",
       "  </thead>\n",
       "  <tbody>\n",
       "    <tr>\n",
       "      <th>0</th>\n",
       "      <td>222388</td>\n",
       "      <td>False</td>\n",
       "      <td>Niacin Eqivalents</td>\n",
       "      <td>9.319291</td>\n",
       "      <td>72</td>\n",
       "      <td>9</td>\n",
       "      <td>mg</td>\n",
       "    </tr>\n",
       "    <tr>\n",
       "      <th>1</th>\n",
       "      <td>222388</td>\n",
       "      <td>True</td>\n",
       "      <td>Sgars</td>\n",
       "      <td>0.093559</td>\n",
       "      <td>0</td>\n",
       "      <td>0.1</td>\n",
       "      <td>g</td>\n",
       "    </tr>\n",
       "    <tr>\n",
       "      <th>2</th>\n",
       "      <td>222388</td>\n",
       "      <td>True</td>\n",
       "      <td>Sodim</td>\n",
       "      <td>2017.130000</td>\n",
       "      <td>81</td>\n",
       "      <td>2017</td>\n",
       "      <td>mg</td>\n",
       "    </tr>\n",
       "    <tr>\n",
       "      <th>3</th>\n",
       "      <td>222388</td>\n",
       "      <td>True</td>\n",
       "      <td>Carbohydrates</td>\n",
       "      <td>1.797819</td>\n",
       "      <td>&lt; 1</td>\n",
       "      <td>1.8</td>\n",
       "      <td>g</td>\n",
       "    </tr>\n",
       "    <tr>\n",
       "      <th>4</th>\n",
       "      <td>222388</td>\n",
       "      <td>False</td>\n",
       "      <td>Vitamin B6</td>\n",
       "      <td>0.232980</td>\n",
       "      <td>15</td>\n",
       "      <td>&lt; 1</td>\n",
       "      <td>mg</td>\n",
       "    </tr>\n",
       "  </tbody>\n",
       "</table>\n",
       "</div>"
      ],
      "text/plain": [
       "   recipe_id  complete               name        value percent_daily_value  \\\n",
       "0     222388     False  Niacin Eqivalents     9.319291                  72   \n",
       "1     222388      True              Sgars     0.093559                   0   \n",
       "2     222388      True              Sodim  2017.130000                  81   \n",
       "3     222388      True      Carbohydrates     1.797819                 < 1   \n",
       "4     222388     False         Vitamin B6     0.232980                  15   \n",
       "\n",
       "  display_value value_unit  \n",
       "0             9         mg  \n",
       "1           0.1          g  \n",
       "2          2017         mg  \n",
       "3           1.8          g  \n",
       "4           < 1         mg  "
      ]
     },
     "execution_count": 19,
     "metadata": {},
     "output_type": "execute_result"
    }
   ],
   "source": [
    "def convert_nutrients_row(recipe_id, nutrients):\n",
    "    \"\"\"\n",
    "    Takes in a json string of the nutrients for a given recipe. \n",
    "    Returns a dataframe with rows being each nutrient + columns giving the information.\n",
    "    \"\"\"\n",
    "    # Clean\n",
    "    nutrients_clean = nutrients.replace(\"'\", '\"').replace(\"u\",\"\").replace(\"True\",\"true\").replace(\"False\",\"false\").replace(\"Tre\",\"true\")\n",
    "    # To Dist\n",
    "    d = json.loads(nutrients_clean)\n",
    "    # To DataFrame\n",
    "    df = pd.DataFrame(list(d.values()))\n",
    "    # Rename\n",
    "    df = df.rename(columns={'hasCompleteData': 'complete', 'amont': 'value', 'percentDailyVale': 'percent_daily_value', \n",
    "                       'displayVale': 'display_value', 'nit': 'value_unit'})\n",
    "    # Add the recipe\n",
    "    df.insert(0, 'recipe_id', recipe_id)\n",
    "    return df\n",
    "\n",
    "# Check if one recipe works\n",
    "convert_nutrients_row(recipes.id[0], recipes.nutrients[0]).head()"
   ]
  },
  {
   "cell_type": "code",
   "execution_count": 20,
   "metadata": {
    "scrolled": true
   },
   "outputs": [],
   "source": [
    "lst_nutrients = []\n",
    "bad_inds = [] # Nutrient information isn't available for these ids\n",
    "for index,row in recipes.iterrows():\n",
    "    #print(index)\n",
    "    try:\n",
    "        df_nutrients = convert_nutrients_row(row['id'], row['nutrients'])\n",
    "        lst_nutrients.append(df_nutrients)\n",
    "    except:\n",
    "        bad_inds.append(index)"
   ]
  },
  {
   "cell_type": "code",
   "execution_count": 21,
   "metadata": {},
   "outputs": [
    {
     "data": {
      "text/plain": [
       "\"{u'niacin': {u'hasCompleteData': False, u'name': None, u'amount': 0.0, u'percentDailyValue': None, u'displayValue': None, u'unit': None}, u'sugars': {u'hasCompleteData': False, u'name': None, u'amount': 0.0, u'percentDailyValue': None, u'displayValue': None, u'unit': None}, u'sodium': {u'hasCompleteData': False, u'name': None, u'amount': 0.0, u'percentDailyValue': None, u'displayValue': None, u'unit': None}, u'carbohydrates': {u'hasCompleteData': False, u'name': None, u'amount': 0.0, u'percentDailyValue': None, u'displayValue': None, u'unit': None}, u'vitaminB6': {u'hasCompleteData': False, u'name': None, u'amount': 0.0, u'percentDailyValue': None, u'displayValue': None, u'unit': None}, u'calories': {u'hasCompleteData': False, u'name': None, u'amount': 0.0, u'percentDailyValue': None, u'displayValue': None, u'unit': None}, u'thiamin': {u'hasCompleteData': False, u'name': None, u'amount': 0.0, u'percentDailyValue': None, u'displayValue': None, u'unit': None}, u'fat': {u'hasCompleteData': False, u'name': None, u'amount': 0.0, u'percentDailyValue': None, u'displayValue': None, u'unit': None}, u'folate': {u'hasCompleteData': False, u'name': None, u'amount': 0.0, u'percentDailyValue': None, u'displayValue': None, u'unit': None}, u'caloriesFromFat': {u'hasCompleteData': False, u'name': u'Calories from Fat', u'amount': 0.0, u'percentDailyValue': u'-', u'displayValue': u'0', u'unit': u'kcal'}, u'calcium': {u'hasCompleteData': False, u'name': None, u'amount': 0.0, u'percentDailyValue': None, u'displayValue': None, u'unit': None}, u'fiber': {u'hasCompleteData': False, u'name': None, u'amount': 0.0, u'percentDailyValue': None, u'displayValue': None, u'unit': None}, u'magnesium': {u'hasCompleteData': False, u'name': None, u'amount': 0.0, u'percentDailyValue': None, u'displayValue': None, u'unit': None}, u'iron': {u'hasCompleteData': False, u'name': None, u'amount': 0.0, u'percentDailyValue': None, u'displayValue': None, u'unit': None}, u'cholesterol': {u'hasCompleteData': False, u'name': None, u'amount': 0.0, u'percentDailyValue': None, u'displayValue': None, u'unit': None}, u'protein': {u'hasCompleteData': False, u'name': None, u'amount': 0.0, u'percentDailyValue': None, u'displayValue': None, u'unit': None}, u'vitaminA': {u'hasCompleteData': False, u'name': None, u'amount': 0.0, u'percentDailyValue': None, u'displayValue': None, u'unit': None}, u'potassium': {u'hasCompleteData': False, u'name': None, u'amount': 0.0, u'percentDailyValue': None, u'displayValue': None, u'unit': None}, u'saturatedFat': {u'hasCompleteData': False, u'name': None, u'amount': 0.0, u'percentDailyValue': None, u'displayValue': None, u'unit': None}, u'vitaminC': {u'hasCompleteData': False, u'name': None, u'amount': 0.0, u'percentDailyValue': None, u'displayValue': None, u'unit': None}}\""
      ]
     },
     "execution_count": 21,
     "metadata": {},
     "output_type": "execute_result"
    }
   ],
   "source": [
    "# Some of the recipes are missing nutrient information as shown here\n",
    "recipes.iloc[bad_inds[10],:]['nutrients']"
   ]
  },
  {
   "cell_type": "code",
   "execution_count": 22,
   "metadata": {},
   "outputs": [
    {
     "data": {
      "text/plain": [
       "0.98"
      ]
     },
     "execution_count": 22,
     "metadata": {},
     "output_type": "execute_result"
    }
   ],
   "source": [
    "# Prop of recipes with nutrient info\n",
    "np.round(len(lst_nutrients)/(len(lst_nutrients) + len(bad_inds)), 2)"
   ]
  },
  {
   "cell_type": "code",
   "execution_count": 23,
   "metadata": {},
   "outputs": [
    {
     "data": {
      "text/html": [
       "<div>\n",
       "<style scoped>\n",
       "    .dataframe tbody tr th:only-of-type {\n",
       "        vertical-align: middle;\n",
       "    }\n",
       "\n",
       "    .dataframe tbody tr th {\n",
       "        vertical-align: top;\n",
       "    }\n",
       "\n",
       "    .dataframe thead th {\n",
       "        text-align: right;\n",
       "    }\n",
       "</style>\n",
       "<table border=\"1\" class=\"dataframe\">\n",
       "  <thead>\n",
       "    <tr style=\"text-align: right;\">\n",
       "      <th></th>\n",
       "      <th>recipe_id</th>\n",
       "      <th>complete</th>\n",
       "      <th>name</th>\n",
       "      <th>value</th>\n",
       "      <th>percent_daily_value</th>\n",
       "      <th>display_value</th>\n",
       "      <th>value_unit</th>\n",
       "    </tr>\n",
       "  </thead>\n",
       "  <tbody>\n",
       "    <tr>\n",
       "      <th>0</th>\n",
       "      <td>222388</td>\n",
       "      <td>False</td>\n",
       "      <td>Niacin Eqivalents</td>\n",
       "      <td>9.319291</td>\n",
       "      <td>72</td>\n",
       "      <td>9</td>\n",
       "      <td>mg</td>\n",
       "    </tr>\n",
       "    <tr>\n",
       "      <th>1</th>\n",
       "      <td>222388</td>\n",
       "      <td>True</td>\n",
       "      <td>Sgars</td>\n",
       "      <td>0.093559</td>\n",
       "      <td>0</td>\n",
       "      <td>0.1</td>\n",
       "      <td>g</td>\n",
       "    </tr>\n",
       "    <tr>\n",
       "      <th>2</th>\n",
       "      <td>222388</td>\n",
       "      <td>True</td>\n",
       "      <td>Sodim</td>\n",
       "      <td>2017.130000</td>\n",
       "      <td>81</td>\n",
       "      <td>2017</td>\n",
       "      <td>mg</td>\n",
       "    </tr>\n",
       "    <tr>\n",
       "      <th>3</th>\n",
       "      <td>222388</td>\n",
       "      <td>True</td>\n",
       "      <td>Carbohydrates</td>\n",
       "      <td>1.797819</td>\n",
       "      <td>&lt; 1</td>\n",
       "      <td>1.8</td>\n",
       "      <td>g</td>\n",
       "    </tr>\n",
       "    <tr>\n",
       "      <th>4</th>\n",
       "      <td>222388</td>\n",
       "      <td>False</td>\n",
       "      <td>Vitamin B6</td>\n",
       "      <td>0.232980</td>\n",
       "      <td>15</td>\n",
       "      <td>&lt; 1</td>\n",
       "      <td>mg</td>\n",
       "    </tr>\n",
       "  </tbody>\n",
       "</table>\n",
       "</div>"
      ],
      "text/plain": [
       "   recipe_id  complete               name        value percent_daily_value  \\\n",
       "0     222388     False  Niacin Eqivalents     9.319291                  72   \n",
       "1     222388      True              Sgars     0.093559                   0   \n",
       "2     222388      True              Sodim  2017.130000                  81   \n",
       "3     222388      True      Carbohydrates     1.797819                 < 1   \n",
       "4     222388     False         Vitamin B6     0.232980                  15   \n",
       "\n",
       "  display_value value_unit  \n",
       "0             9         mg  \n",
       "1           0.1          g  \n",
       "2          2017         mg  \n",
       "3           1.8          g  \n",
       "4           < 1         mg  "
      ]
     },
     "execution_count": 23,
     "metadata": {},
     "output_type": "execute_result"
    }
   ],
   "source": [
    "# Nutrients\n",
    "nutrients = pd.concat(lst_nutrients)\n",
    "nutrients.head()"
   ]
  },
  {
   "cell_type": "markdown",
   "metadata": {},
   "source": [
    "## Format some nutrient columns"
   ]
  },
  {
   "cell_type": "code",
   "execution_count": 24,
   "metadata": {},
   "outputs": [],
   "source": [
    "# Fix the percent value\n",
    "nutrients.loc[nutrients.percent_daily_value == '< 1', 'percent_daily_value'] = '0'\n",
    "nutrients.loc[nutrients.percent_daily_value == '-', 'percent_daily_value'] = np.NaN\n",
    "nutrients = nutrients.astype({'percent_daily_value': 'float32'})"
   ]
  },
  {
   "cell_type": "code",
   "execution_count": 31,
   "metadata": {},
   "outputs": [
    {
     "name": "stdout",
     "output_type": "stream",
     "text": [
      "[ 1  2  3 ... 18 19 20]\n",
      "Index(['Niacin Eqivalents', 'Sgars', 'Sodim', 'Carbohydrates', 'Vitamin B6',\n",
      "       'Calories', 'Thiamin', 'Fat', 'Folate', 'Calories from Fat', 'Calcim',\n",
      "       'Dietary Fiber', 'Magnesim', 'Iron', 'Cholesterol', 'Protein',\n",
      "       'Vitamin A - IU', 'Potassim', 'Satrated Fat', 'Vitamin C'],\n",
      "      dtype='object')\n"
     ]
    },
    {
     "ename": "ValueError",
     "evalue": "cannot insert nutrient_id, already exists",
     "output_type": "error",
     "traceback": [
      "\u001b[0;31m---------------------------------------------------------------------------\u001b[0m",
      "\u001b[0;31mValueError\u001b[0m                                Traceback (most recent call last)",
      "\u001b[0;32m<ipython-input-31-a9aa279d0355>\u001b[0m in \u001b[0;36m<module>\u001b[0;34m\u001b[0m\n\u001b[1;32m      6\u001b[0m \u001b[0mprint\u001b[0m\u001b[0;34m(\u001b[0m\u001b[0mlevels\u001b[0m\u001b[0;34m)\u001b[0m\u001b[0;34m\u001b[0m\u001b[0;34m\u001b[0m\u001b[0m\n\u001b[1;32m      7\u001b[0m \u001b[0;31m## Add the labels as a new column\u001b[0m\u001b[0;34m\u001b[0m\u001b[0;34m\u001b[0m\u001b[0;34m\u001b[0m\u001b[0m\n\u001b[0;32m----> 8\u001b[0;31m \u001b[0mnutrients\u001b[0m \u001b[0;34m=\u001b[0m \u001b[0mnutrients\u001b[0m\u001b[0;34m.\u001b[0m\u001b[0minsert\u001b[0m\u001b[0;34m(\u001b[0m\u001b[0;36m0\u001b[0m\u001b[0;34m,\u001b[0m \u001b[0;34m'nutrient_id'\u001b[0m\u001b[0;34m,\u001b[0m \u001b[0mlabels\u001b[0m\u001b[0;34m)\u001b[0m\u001b[0;34m\u001b[0m\u001b[0;34m\u001b[0m\u001b[0m\n\u001b[0m",
      "\u001b[0;32m/usr/local/anaconda3/lib/python3.8/site-packages/pandas/core/frame.py\u001b[0m in \u001b[0;36minsert\u001b[0;34m(self, loc, column, value, allow_duplicates)\u001b[0m\n\u001b[1;32m   3494\u001b[0m         \u001b[0mself\u001b[0m\u001b[0;34m.\u001b[0m\u001b[0m_ensure_valid_index\u001b[0m\u001b[0;34m(\u001b[0m\u001b[0mvalue\u001b[0m\u001b[0;34m)\u001b[0m\u001b[0;34m\u001b[0m\u001b[0;34m\u001b[0m\u001b[0m\n\u001b[1;32m   3495\u001b[0m         \u001b[0mvalue\u001b[0m \u001b[0;34m=\u001b[0m \u001b[0mself\u001b[0m\u001b[0;34m.\u001b[0m\u001b[0m_sanitize_column\u001b[0m\u001b[0;34m(\u001b[0m\u001b[0mcolumn\u001b[0m\u001b[0;34m,\u001b[0m \u001b[0mvalue\u001b[0m\u001b[0;34m,\u001b[0m \u001b[0mbroadcast\u001b[0m\u001b[0;34m=\u001b[0m\u001b[0;32mFalse\u001b[0m\u001b[0;34m)\u001b[0m\u001b[0;34m\u001b[0m\u001b[0;34m\u001b[0m\u001b[0m\n\u001b[0;32m-> 3496\u001b[0;31m         \u001b[0mself\u001b[0m\u001b[0;34m.\u001b[0m\u001b[0m_data\u001b[0m\u001b[0;34m.\u001b[0m\u001b[0minsert\u001b[0m\u001b[0;34m(\u001b[0m\u001b[0mloc\u001b[0m\u001b[0;34m,\u001b[0m \u001b[0mcolumn\u001b[0m\u001b[0;34m,\u001b[0m \u001b[0mvalue\u001b[0m\u001b[0;34m,\u001b[0m \u001b[0mallow_duplicates\u001b[0m\u001b[0;34m=\u001b[0m\u001b[0mallow_duplicates\u001b[0m\u001b[0;34m)\u001b[0m\u001b[0;34m\u001b[0m\u001b[0;34m\u001b[0m\u001b[0m\n\u001b[0m\u001b[1;32m   3497\u001b[0m \u001b[0;34m\u001b[0m\u001b[0m\n\u001b[1;32m   3498\u001b[0m     \u001b[0;32mdef\u001b[0m \u001b[0massign\u001b[0m\u001b[0;34m(\u001b[0m\u001b[0mself\u001b[0m\u001b[0;34m,\u001b[0m \u001b[0;34m**\u001b[0m\u001b[0mkwargs\u001b[0m\u001b[0;34m)\u001b[0m \u001b[0;34m->\u001b[0m \u001b[0;34m\"DataFrame\"\u001b[0m\u001b[0;34m:\u001b[0m\u001b[0;34m\u001b[0m\u001b[0;34m\u001b[0m\u001b[0m\n",
      "\u001b[0;32m/usr/local/anaconda3/lib/python3.8/site-packages/pandas/core/internals/managers.py\u001b[0m in \u001b[0;36minsert\u001b[0;34m(self, loc, item, value, allow_duplicates)\u001b[0m\n\u001b[1;32m   1171\u001b[0m         \u001b[0;32mif\u001b[0m \u001b[0;32mnot\u001b[0m \u001b[0mallow_duplicates\u001b[0m \u001b[0;32mand\u001b[0m \u001b[0mitem\u001b[0m \u001b[0;32min\u001b[0m \u001b[0mself\u001b[0m\u001b[0;34m.\u001b[0m\u001b[0mitems\u001b[0m\u001b[0;34m:\u001b[0m\u001b[0;34m\u001b[0m\u001b[0;34m\u001b[0m\u001b[0m\n\u001b[1;32m   1172\u001b[0m             \u001b[0;31m# Should this be a different kind of error??\u001b[0m\u001b[0;34m\u001b[0m\u001b[0;34m\u001b[0m\u001b[0;34m\u001b[0m\u001b[0m\n\u001b[0;32m-> 1173\u001b[0;31m             \u001b[0;32mraise\u001b[0m \u001b[0mValueError\u001b[0m\u001b[0;34m(\u001b[0m\u001b[0;34mf\"cannot insert {item}, already exists\"\u001b[0m\u001b[0;34m)\u001b[0m\u001b[0;34m\u001b[0m\u001b[0;34m\u001b[0m\u001b[0m\n\u001b[0m\u001b[1;32m   1174\u001b[0m \u001b[0;34m\u001b[0m\u001b[0m\n\u001b[1;32m   1175\u001b[0m         \u001b[0;32mif\u001b[0m \u001b[0;32mnot\u001b[0m \u001b[0misinstance\u001b[0m\u001b[0;34m(\u001b[0m\u001b[0mloc\u001b[0m\u001b[0;34m,\u001b[0m \u001b[0mint\u001b[0m\u001b[0;34m)\u001b[0m\u001b[0;34m:\u001b[0m\u001b[0;34m\u001b[0m\u001b[0;34m\u001b[0m\u001b[0m\n",
      "\u001b[0;31mValueError\u001b[0m: cannot insert nutrient_id, already exists"
     ]
    }
   ],
   "source": [
    "# I want to add a nutrient id => labels\n",
    "labels, levels = pd.factorize(nutrients.name)\n",
    "labels += 1\n",
    "## like R's factor function\n",
    "print(labels)\n",
    "print(levels)\n",
    "## Add the labels as a new column\n",
    "nutrients.insert(0, 'nutrient_id', labels)"
   ]
  },
  {
   "cell_type": "code",
   "execution_count": 32,
   "metadata": {},
   "outputs": [
    {
     "data": {
      "text/html": [
       "<div>\n",
       "<style scoped>\n",
       "    .dataframe tbody tr th:only-of-type {\n",
       "        vertical-align: middle;\n",
       "    }\n",
       "\n",
       "    .dataframe tbody tr th {\n",
       "        vertical-align: top;\n",
       "    }\n",
       "\n",
       "    .dataframe thead th {\n",
       "        text-align: right;\n",
       "    }\n",
       "</style>\n",
       "<table border=\"1\" class=\"dataframe\">\n",
       "  <thead>\n",
       "    <tr style=\"text-align: right;\">\n",
       "      <th></th>\n",
       "      <th>nutrient_id</th>\n",
       "      <th>recipe_id</th>\n",
       "      <th>complete</th>\n",
       "      <th>name</th>\n",
       "      <th>value</th>\n",
       "      <th>percent_daily_value</th>\n",
       "      <th>display_value</th>\n",
       "      <th>value_unit</th>\n",
       "    </tr>\n",
       "  </thead>\n",
       "  <tbody>\n",
       "    <tr>\n",
       "      <th>0</th>\n",
       "      <td>1</td>\n",
       "      <td>222388</td>\n",
       "      <td>False</td>\n",
       "      <td>Niacin Eqivalents</td>\n",
       "      <td>9.319291</td>\n",
       "      <td>72.0</td>\n",
       "      <td>9</td>\n",
       "      <td>mg</td>\n",
       "    </tr>\n",
       "    <tr>\n",
       "      <th>1</th>\n",
       "      <td>2</td>\n",
       "      <td>222388</td>\n",
       "      <td>True</td>\n",
       "      <td>Sgars</td>\n",
       "      <td>0.093559</td>\n",
       "      <td>0.0</td>\n",
       "      <td>0.1</td>\n",
       "      <td>g</td>\n",
       "    </tr>\n",
       "    <tr>\n",
       "      <th>2</th>\n",
       "      <td>3</td>\n",
       "      <td>222388</td>\n",
       "      <td>True</td>\n",
       "      <td>Sodim</td>\n",
       "      <td>2017.130000</td>\n",
       "      <td>81.0</td>\n",
       "      <td>2017</td>\n",
       "      <td>mg</td>\n",
       "    </tr>\n",
       "    <tr>\n",
       "      <th>3</th>\n",
       "      <td>4</td>\n",
       "      <td>222388</td>\n",
       "      <td>True</td>\n",
       "      <td>Carbohydrates</td>\n",
       "      <td>1.797819</td>\n",
       "      <td>0.0</td>\n",
       "      <td>1.8</td>\n",
       "      <td>g</td>\n",
       "    </tr>\n",
       "    <tr>\n",
       "      <th>4</th>\n",
       "      <td>5</td>\n",
       "      <td>222388</td>\n",
       "      <td>False</td>\n",
       "      <td>Vitamin B6</td>\n",
       "      <td>0.232980</td>\n",
       "      <td>15.0</td>\n",
       "      <td>&lt; 1</td>\n",
       "      <td>mg</td>\n",
       "    </tr>\n",
       "  </tbody>\n",
       "</table>\n",
       "</div>"
      ],
      "text/plain": [
       "   nutrient_id  recipe_id  complete               name        value  \\\n",
       "0            1     222388     False  Niacin Eqivalents     9.319291   \n",
       "1            2     222388      True              Sgars     0.093559   \n",
       "2            3     222388      True              Sodim  2017.130000   \n",
       "3            4     222388      True      Carbohydrates     1.797819   \n",
       "4            5     222388     False         Vitamin B6     0.232980   \n",
       "\n",
       "   percent_daily_value display_value value_unit  \n",
       "0                 72.0             9         mg  \n",
       "1                  0.0           0.1          g  \n",
       "2                 81.0          2017         mg  \n",
       "3                  0.0           1.8          g  \n",
       "4                 15.0           < 1         mg  "
      ]
     },
     "execution_count": 32,
     "metadata": {},
     "output_type": "execute_result"
    }
   ],
   "source": [
    "nutrients.head()"
   ]
  },
  {
   "cell_type": "code",
   "execution_count": 33,
   "metadata": {},
   "outputs": [
    {
     "data": {
      "text/html": [
       "<div>\n",
       "<style scoped>\n",
       "    .dataframe tbody tr th:only-of-type {\n",
       "        vertical-align: middle;\n",
       "    }\n",
       "\n",
       "    .dataframe tbody tr th {\n",
       "        vertical-align: top;\n",
       "    }\n",
       "\n",
       "    .dataframe thead th {\n",
       "        text-align: right;\n",
       "    }\n",
       "</style>\n",
       "<table border=\"1\" class=\"dataframe\">\n",
       "  <thead>\n",
       "    <tr style=\"text-align: right;\">\n",
       "      <th></th>\n",
       "      <th>id</th>\n",
       "      <th>name</th>\n",
       "      <th>ave_rating</th>\n",
       "      <th>image_url</th>\n",
       "      <th>review_nums</th>\n",
       "      <th>ingredients</th>\n",
       "      <th>directions</th>\n",
       "    </tr>\n",
       "  </thead>\n",
       "  <tbody>\n",
       "    <tr>\n",
       "      <th>0</th>\n",
       "      <td>222388</td>\n",
       "      <td>Homemade Bacon</td>\n",
       "      <td>5.000000</td>\n",
       "      <td>https://images.media-allrecipes.com/userphotos...</td>\n",
       "      <td>3</td>\n",
       "      <td>pork belly, smoked paprika, kosher salt, groun...</td>\n",
       "      <td>'Prep\\n5 m\\nCook\\n2 h 45 m\\nReady In\\n11 h 50 ...</td>\n",
       "    </tr>\n",
       "    <tr>\n",
       "      <th>1</th>\n",
       "      <td>240488</td>\n",
       "      <td>Pork Loin, Apples, and Sauerkraut</td>\n",
       "      <td>4.764706</td>\n",
       "      <td>https://images.media-allrecipes.com/userphotos...</td>\n",
       "      <td>29</td>\n",
       "      <td>sauerkraut drained, Granny Smith apples sliced...</td>\n",
       "      <td>'Prep\\n15 m\\nCook\\n2 h 30 m\\nReady In\\n2 h 45 ...</td>\n",
       "    </tr>\n",
       "    <tr>\n",
       "      <th>2</th>\n",
       "      <td>218939</td>\n",
       "      <td>Foolproof Rosemary Chicken Wings</td>\n",
       "      <td>4.571429</td>\n",
       "      <td>https://images.media-allrecipes.com/userphotos...</td>\n",
       "      <td>12</td>\n",
       "      <td>chicken wings, sprigs rosemary, head garlic, o...</td>\n",
       "      <td>\"Prep\\n20 m\\nCook\\n40 m\\nReady In\\n1 h\\nPrehea...</td>\n",
       "    </tr>\n",
       "    <tr>\n",
       "      <th>3</th>\n",
       "      <td>87211</td>\n",
       "      <td>Chicken Pesto Paninis</td>\n",
       "      <td>4.625000</td>\n",
       "      <td>https://images.media-allrecipes.com/userphotos...</td>\n",
       "      <td>163</td>\n",
       "      <td>focaccia bread quartered, prepared basil pesto...</td>\n",
       "      <td>'Prep\\n15 m\\nCook\\n5 m\\nReady In\\n20 m\\nPrehea...</td>\n",
       "    </tr>\n",
       "    <tr>\n",
       "      <th>4</th>\n",
       "      <td>245714</td>\n",
       "      <td>Potato Bacon Pizza</td>\n",
       "      <td>4.500000</td>\n",
       "      <td>https://images.media-allrecipes.com/userphotos...</td>\n",
       "      <td>2</td>\n",
       "      <td>red potatoes, strips bacon, Sauce:, heavy whip...</td>\n",
       "      <td>'Prep\\n20 m\\nCook\\n45 m\\nReady In\\n1 h 10 m\\nP...</td>\n",
       "    </tr>\n",
       "  </tbody>\n",
       "</table>\n",
       "</div>"
      ],
      "text/plain": [
       "       id                               name  ave_rating  \\\n",
       "0  222388                     Homemade Bacon    5.000000   \n",
       "1  240488  Pork Loin, Apples, and Sauerkraut    4.764706   \n",
       "2  218939   Foolproof Rosemary Chicken Wings    4.571429   \n",
       "3   87211              Chicken Pesto Paninis    4.625000   \n",
       "4  245714                 Potato Bacon Pizza    4.500000   \n",
       "\n",
       "                                           image_url  review_nums  \\\n",
       "0  https://images.media-allrecipes.com/userphotos...            3   \n",
       "1  https://images.media-allrecipes.com/userphotos...           29   \n",
       "2  https://images.media-allrecipes.com/userphotos...           12   \n",
       "3  https://images.media-allrecipes.com/userphotos...          163   \n",
       "4  https://images.media-allrecipes.com/userphotos...            2   \n",
       "\n",
       "                                         ingredients  \\\n",
       "0  pork belly, smoked paprika, kosher salt, groun...   \n",
       "1  sauerkraut drained, Granny Smith apples sliced...   \n",
       "2  chicken wings, sprigs rosemary, head garlic, o...   \n",
       "3  focaccia bread quartered, prepared basil pesto...   \n",
       "4  red potatoes, strips bacon, Sauce:, heavy whip...   \n",
       "\n",
       "                                          directions  \n",
       "0  'Prep\\n5 m\\nCook\\n2 h 45 m\\nReady In\\n11 h 50 ...  \n",
       "1  'Prep\\n15 m\\nCook\\n2 h 30 m\\nReady In\\n2 h 45 ...  \n",
       "2  \"Prep\\n20 m\\nCook\\n40 m\\nReady In\\n1 h\\nPrehea...  \n",
       "3  'Prep\\n15 m\\nCook\\n5 m\\nReady In\\n20 m\\nPrehea...  \n",
       "4  'Prep\\n20 m\\nCook\\n45 m\\nReady In\\n1 h 10 m\\nP...  "
      ]
     },
     "execution_count": 33,
     "metadata": {},
     "output_type": "execute_result"
    }
   ],
   "source": [
    "# Remove the nutrients from the recipes\n",
    "recipes = recipes.drop('nutrients', axis=1)\n",
    "recipes.head()"
   ]
  },
  {
   "cell_type": "markdown",
   "metadata": {},
   "source": [
    "# Send to SQL"
   ]
  },
  {
   "cell_type": "code",
   "execution_count": 35,
   "metadata": {},
   "outputs": [],
   "source": [
    "conn = sqlite3.connect('../data/recsys.db')\n",
    "c = conn.cursor()"
   ]
  },
  {
   "cell_type": "code",
   "execution_count": 41,
   "metadata": {},
   "outputs": [],
   "source": [
    "c.execute('DROP TABLE IF EXISTS recipes;')\n",
    "c.execute('DROP TABLE IF EXISTS interactions;')\n",
    "c.execute('DROP TABLE IF EXISTS nutrients;')\n",
    "conn.commit()"
   ]
  },
  {
   "cell_type": "code",
   "execution_count": 42,
   "metadata": {},
   "outputs": [],
   "source": [
    "# Create table for recipes\n",
    "rec_sql = '''CREATE TABLE recipes(\n",
    "                id INTEGER PRIMARY KEY,\n",
    "                name TEXT NOT NULL,\n",
    "                ave_rating REAL,\n",
    "                review_nums INTEGER,\n",
    "                image_url TEXT,\n",
    "                ingredients TEXT,\n",
    "                directions TEXT)'''\n",
    "\n",
    "int_sql = '''CREATE TABLE interactions(\n",
    "                user_id INTEGER NOT NULL,\n",
    "                recipe_id INTEGER NOT NULL, \n",
    "                rating INTEGER NOT NULL, \n",
    "                date_mod INTEGER NOT NULL,\n",
    "                PRIMARY KEY (user_id, recipe_id),\n",
    "                FOREIGN KEY (recipe_id) REFERENCES recipes (id) \n",
    "                    ON DELETE CASCADE ON UPDATE NO ACTION)'''\n",
    "\n",
    "nutr_sql = '''CREATE TABLE nutrients(\n",
    "                nutrient_id INTEGER NOT NULL, \n",
    "                recipe_id INTEGER NOT NULL, \n",
    "                complete INTEGER DEFAULT 0, \n",
    "                name TEXT NOT NULL, \n",
    "                value REAL NOT NULL, \n",
    "                percent_daily_value INTEGER NOT NULL, \n",
    "                display_value TEXT NOT NULL, \n",
    "                value_unit TEXT NOT NULL, \n",
    "                PRIMARY KEY (nutrient_id, recipe_id), \n",
    "                FOREIGN KEY (recipe_id) REFERENCES recipes (id)\n",
    "                    ON DELETE CASCADE ON UPDATE NO ACTION)'''\n",
    "\n",
    "c.execute(rec_sql)\n",
    "c.execute(int_sql)\n",
    "c.execute(nutr_sql)\n",
    "\n",
    "conn.commit()"
   ]
  },
  {
   "cell_type": "code",
   "execution_count": 43,
   "metadata": {},
   "outputs": [],
   "source": [
    "recipes.to_sql('recipes', conn, if_exists='replace', index=False)"
   ]
  },
  {
   "cell_type": "code",
   "execution_count": 44,
   "metadata": {},
   "outputs": [],
   "source": [
    "interactions.to_sql('interactions', conn, if_exists='replace', index=False)"
   ]
  },
  {
   "cell_type": "code",
   "execution_count": 45,
   "metadata": {},
   "outputs": [],
   "source": [
    "nutrients.to_sql('nutrients', conn, if_exists='replace', index=False)"
   ]
  },
  {
   "cell_type": "markdown",
   "metadata": {},
   "source": []
  },
  {
   "cell_type": "code",
   "execution_count": null,
   "metadata": {},
   "outputs": [],
   "source": []
  }
 ],
 "metadata": {
  "kernelspec": {
   "display_name": "Python 3",
   "language": "python",
   "name": "python3"
  },
  "language_info": {
   "codemirror_mode": {
    "name": "ipython",
    "version": 3
   },
   "file_extension": ".py",
   "mimetype": "text/x-python",
   "name": "python",
   "nbconvert_exporter": "python",
   "pygments_lexer": "ipython3",
   "version": "3.8.3"
  }
 },
 "nbformat": 4,
 "nbformat_minor": 4
}
