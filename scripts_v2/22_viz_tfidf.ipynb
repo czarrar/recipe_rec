{
 "cells": [
  {
   "cell_type": "code",
   "execution_count": 1,
   "metadata": {},
   "outputs": [],
   "source": [
    "import os\n",
    "os.chdir('/Users/czarrar/Dropbox/Circle/Jerb/recipe_rec/code')"
   ]
  },
  {
   "cell_type": "code",
   "execution_count": 2,
   "metadata": {},
   "outputs": [],
   "source": [
    "import libs_recipe_recs\n",
    "import numpy as np\n",
    "from sklearn.decomposition import PCA"
   ]
  },
  {
   "cell_type": "code",
   "execution_count": 3,
   "metadata": {},
   "outputs": [],
   "source": [
    "%matplotlib inline\n",
    "import numpy as np\n",
    "import matplotlib.pyplot as plt\n",
    "import seaborn as sns; sns.set()"
   ]
  },
  {
   "cell_type": "code",
   "execution_count": 4,
   "metadata": {},
   "outputs": [],
   "source": [
    "# We load in our prior model\n",
    "recs = libs_recipe_recs.RecipeRec.load_model('z_model.p')"
   ]
  },
  {
   "cell_type": "code",
   "execution_count": 51,
   "metadata": {},
   "outputs": [
    {
     "data": {
      "text/html": [
       "<div>\n",
       "<style scoped>\n",
       "    .dataframe tbody tr th:only-of-type {\n",
       "        vertical-align: middle;\n",
       "    }\n",
       "\n",
       "    .dataframe tbody tr th {\n",
       "        vertical-align: top;\n",
       "    }\n",
       "\n",
       "    .dataframe thead th {\n",
       "        text-align: right;\n",
       "    }\n",
       "</style>\n",
       "<table border=\"1\" class=\"dataframe\">\n",
       "  <thead>\n",
       "    <tr style=\"text-align: right;\">\n",
       "      <th></th>\n",
       "      <th>recipe_id</th>\n",
       "      <th>ave_rating</th>\n",
       "      <th>num_reviews</th>\n",
       "      <th>name</th>\n",
       "      <th>ingredients</th>\n",
       "      <th>img_path</th>\n",
       "    </tr>\n",
       "  </thead>\n",
       "  <tbody>\n",
       "    <tr>\n",
       "      <th>0</th>\n",
       "      <td>240488</td>\n",
       "      <td>4.764706</td>\n",
       "      <td>29</td>\n",
       "      <td>Pork Loin, Apples, and Sauerkraut</td>\n",
       "      <td>sauerkraut drained, Granny Smith apples sliced...</td>\n",
       "      <td>../data/RecSys/core_images/240488.jpg</td>\n",
       "    </tr>\n",
       "    <tr>\n",
       "      <th>1</th>\n",
       "      <td>218939</td>\n",
       "      <td>4.571429</td>\n",
       "      <td>12</td>\n",
       "      <td>Foolproof Rosemary Chicken Wings</td>\n",
       "      <td>chicken wings, sprigs rosemary, head garlic, o...</td>\n",
       "      <td>../data/RecSys/core_images/218939.jpg</td>\n",
       "    </tr>\n",
       "    <tr>\n",
       "      <th>2</th>\n",
       "      <td>87211</td>\n",
       "      <td>4.625000</td>\n",
       "      <td>163</td>\n",
       "      <td>Chicken Pesto Paninis</td>\n",
       "      <td>focaccia bread quartered, prepared basil pesto...</td>\n",
       "      <td>../data/RecSys/core_images/87211.jpg</td>\n",
       "    </tr>\n",
       "    <tr>\n",
       "      <th>3</th>\n",
       "      <td>245714</td>\n",
       "      <td>4.500000</td>\n",
       "      <td>2</td>\n",
       "      <td>Potato Bacon Pizza</td>\n",
       "      <td>red potatoes, strips bacon, Sauce:, heavy whip...</td>\n",
       "      <td>../data/RecSys/core_images/245714.jpg</td>\n",
       "    </tr>\n",
       "    <tr>\n",
       "      <th>4</th>\n",
       "      <td>218545</td>\n",
       "      <td>4.605769</td>\n",
       "      <td>85</td>\n",
       "      <td>Latin-Inspired Spicy Cream Chicken Stew</td>\n",
       "      <td>skinless boneless chicken breast halves, diced...</td>\n",
       "      <td>../data/RecSys/core_images/218545.jpg</td>\n",
       "    </tr>\n",
       "  </tbody>\n",
       "</table>\n",
       "</div>"
      ],
      "text/plain": [
       "   recipe_id  ave_rating  num_reviews  \\\n",
       "0     240488    4.764706           29   \n",
       "1     218939    4.571429           12   \n",
       "2      87211    4.625000          163   \n",
       "3     245714    4.500000            2   \n",
       "4     218545    4.605769           85   \n",
       "\n",
       "                                      name  \\\n",
       "0        Pork Loin, Apples, and Sauerkraut   \n",
       "1         Foolproof Rosemary Chicken Wings   \n",
       "2                    Chicken Pesto Paninis   \n",
       "3                       Potato Bacon Pizza   \n",
       "4  Latin-Inspired Spicy Cream Chicken Stew   \n",
       "\n",
       "                                         ingredients  \\\n",
       "0  sauerkraut drained, Granny Smith apples sliced...   \n",
       "1  chicken wings, sprigs rosemary, head garlic, o...   \n",
       "2  focaccia bread quartered, prepared basil pesto...   \n",
       "3  red potatoes, strips bacon, Sauce:, heavy whip...   \n",
       "4  skinless boneless chicken breast halves, diced...   \n",
       "\n",
       "                                img_path  \n",
       "0  ../data/RecSys/core_images/240488.jpg  \n",
       "1  ../data/RecSys/core_images/218939.jpg  \n",
       "2   ../data/RecSys/core_images/87211.jpg  \n",
       "3  ../data/RecSys/core_images/245714.jpg  \n",
       "4  ../data/RecSys/core_images/218545.jpg  "
      ]
     },
     "execution_count": 51,
     "metadata": {},
     "output_type": "execute_result"
    }
   ],
   "source": [
    "# These are the recipes\n",
    "recipes = recs.recipes\n",
    "recipes.head()"
   ]
  },
  {
   "cell_type": "code",
   "execution_count": 6,
   "metadata": {},
   "outputs": [
    {
     "data": {
      "text/plain": [
       "(45630, 3995)"
      ]
     },
     "execution_count": 6,
     "metadata": {},
     "output_type": "execute_result"
    }
   ],
   "source": [
    "# These are the tfidf features\n",
    "recs.model.features.shape"
   ]
  },
  {
   "cell_type": "code",
   "execution_count": 50,
   "metadata": {},
   "outputs": [],
   "source": [
    "features = recs.model.features\n",
    "features.to_pickle('z_features.pickle')"
   ]
  },
  {
   "cell_type": "markdown",
   "metadata": {},
   "source": [
    "# PCA\n",
    "\n",
    "* GOAL: Compress the feature dimensions to make it more manageable for future clustering and analysis\n",
    "* ACTION: Run a PCA and select the number of components that explain 95% of the variance\n"
   ]
  },
  {
   "cell_type": "code",
   "execution_count": 9,
   "metadata": {},
   "outputs": [],
   "source": [
    "pca = PCA(n_components = 0.95)\n",
    "X_reduced = pca.fit_transform(recs.model.features)"
   ]
  },
  {
   "cell_type": "code",
   "execution_count": 10,
   "metadata": {},
   "outputs": [
    {
     "data": {
      "image/png": "[encoded data removed]",
      "text/plain": [
       "<Figure size 432x288 with 1 Axes>"
      ]
     },
     "metadata": {},
     "output_type": "display_data"
    }
   ],
   "source": [
    "plt.plot(np.cumsum(pca.explained_variance_ratio_))\n",
    "plt.xlabel('number of components')\n",
    "plt.ylabel('cumulative explained variance');"
   ]
  },
  {
   "cell_type": "code",
   "execution_count": 11,
   "metadata": {},
   "outputs": [
    {
     "data": {
      "image/png": "[encoded data removed]",
      "text/plain": [
       "<Figure size 432x288 with 1 Axes>"
      ]
     },
     "metadata": {},
     "output_type": "display_data"
    }
   ],
   "source": [
    "plt.plot(pca.explained_variance_ratio_)\n",
    "plt.xlabel('number of components')\n",
    "plt.ylabel('explained variance');"
   ]
  },
  {
   "cell_type": "code",
   "execution_count": 12,
   "metadata": {},
   "outputs": [
    {
     "data": {
      "text/plain": [
       "(45630, 1049)"
      ]
     },
     "execution_count": 12,
     "metadata": {},
     "output_type": "execute_result"
    }
   ],
   "source": [
    "X_reduced.shape"
   ]
  },
  {
   "cell_type": "code",
   "execution_count": 20,
   "metadata": {},
   "outputs": [
    {
     "data": {
      "text/plain": [
       "[<matplotlib.lines.Line2D at 0x7f9e96795490>]"
      ]
     },
     "execution_count": 20,
     "metadata": {},
     "output_type": "execute_result"
    },
    {
     "data": {
      "image/png": "[encoded data removed]",
      "text/plain": [
       "<Figure size 432x288 with 1 Axes>"
      ]
     },
     "metadata": {},
     "output_type": "display_data"
    }
   ],
   "source": []
  },
  {
   "cell_type": "markdown",
   "metadata": {},
   "source": [
    "# Visualize with t-SNE\n",
    "\n",
    "* GOAL: Project the data into 2D in order to see rough structure\n",
    "* ACTION: Use t-SNE with original and PCA data"
   ]
  },
  {
   "cell_type": "code",
   "execution_count": 13,
   "metadata": {},
   "outputs": [],
   "source": [
    "from sklearn.manifold import TSNE"
   ]
  },
  {
   "cell_type": "code",
   "execution_count": null,
   "metadata": {},
   "outputs": [],
   "source": [
    "X_embedded = TSNE(n_components=2).fit_transform(X_reduced[:,:50])"
   ]
  },
  {
   "cell_type": "code",
   "execution_count": null,
   "metadata": {},
   "outputs": [],
   "source": []
  },
  {
   "cell_type": "markdown",
   "metadata": {},
   "source": [
    "# DBScan"
   ]
  },
  {
   "cell_type": "code",
   "execution_count": 176,
   "metadata": {},
   "outputs": [],
   "source": [
    "from sklearn.cluster import DBSCAN"
   ]
  },
  {
   "cell_type": "code",
   "execution_count": 177,
   "metadata": {},
   "outputs": [
    {
     "ename": "KeyboardInterrupt",
     "evalue": "",
     "output_type": "error",
     "traceback": [
      "\u001b[0;31m---------------------------------------------------------------------------\u001b[0m",
      "\u001b[0;31mKeyboardInterrupt\u001b[0m                         Traceback (most recent call last)",
      "\u001b[0;32m<ipython-input-177-38d8f4157cd5>\u001b[0m in \u001b[0;36m<module>\u001b[0;34m\u001b[0m\n\u001b[0;32m----> 1\u001b[0;31m \u001b[0mdb\u001b[0m \u001b[0;34m=\u001b[0m \u001b[0mDBSCAN\u001b[0m\u001b[0;34m(\u001b[0m\u001b[0meps\u001b[0m\u001b[0;34m=\u001b[0m\u001b[0;36m0.3\u001b[0m\u001b[0;34m,\u001b[0m \u001b[0mmin_samples\u001b[0m\u001b[0;34m=\u001b[0m\u001b[0;36m10\u001b[0m\u001b[0;34m)\u001b[0m\u001b[0;34m.\u001b[0m\u001b[0mfit\u001b[0m\u001b[0;34m(\u001b[0m\u001b[0mX_reduced\u001b[0m\u001b[0;34m)\u001b[0m\u001b[0;34m\u001b[0m\u001b[0;34m\u001b[0m\u001b[0m\n\u001b[0m",
      "\u001b[0;32m/usr/local/anaconda3/lib/python3.8/site-packages/sklearn/cluster/_dbscan.py\u001b[0m in \u001b[0;36mfit\u001b[0;34m(self, X, y, sample_weight)\u001b[0m\n\u001b[1;32m    334\u001b[0m         \u001b[0mneighbors_model\u001b[0m\u001b[0;34m.\u001b[0m\u001b[0mfit\u001b[0m\u001b[0;34m(\u001b[0m\u001b[0mX\u001b[0m\u001b[0;34m)\u001b[0m\u001b[0;34m\u001b[0m\u001b[0;34m\u001b[0m\u001b[0m\n\u001b[1;32m    335\u001b[0m         \u001b[0;31m# This has worst case O(n^2) memory complexity\u001b[0m\u001b[0;34m\u001b[0m\u001b[0;34m\u001b[0m\u001b[0;34m\u001b[0m\u001b[0m\n\u001b[0;32m--> 336\u001b[0;31m         neighborhoods = neighbors_model.radius_neighbors(X,\n\u001b[0m\u001b[1;32m    337\u001b[0m                                                          return_distance=False)\n\u001b[1;32m    338\u001b[0m \u001b[0;34m\u001b[0m\u001b[0m\n",
      "\u001b[0;32m/usr/local/anaconda3/lib/python3.8/site-packages/sklearn/neighbors/_base.py\u001b[0m in \u001b[0;36mradius_neighbors\u001b[0;34m(self, X, radius, return_distance, sort_results)\u001b[0m\n\u001b[1;32m    966\u001b[0m                 \u001b[0mparallel_kwargs\u001b[0m \u001b[0;34m=\u001b[0m \u001b[0;34m{\u001b[0m\u001b[0;34m\"prefer\"\u001b[0m\u001b[0;34m:\u001b[0m \u001b[0;34m\"threads\"\u001b[0m\u001b[0;34m}\u001b[0m\u001b[0;34m\u001b[0m\u001b[0;34m\u001b[0m\u001b[0m\n\u001b[1;32m    967\u001b[0m \u001b[0;34m\u001b[0m\u001b[0m\n\u001b[0;32m--> 968\u001b[0;31m             chunked_results = Parallel(n_jobs, **parallel_kwargs)(\n\u001b[0m\u001b[1;32m    969\u001b[0m                 delayed_query(self._tree, X[s], radius, return_distance,\n\u001b[1;32m    970\u001b[0m                               sort_results=sort_results)\n",
      "\u001b[0;32m/usr/local/anaconda3/lib/python3.8/site-packages/joblib/parallel.py\u001b[0m in \u001b[0;36m__call__\u001b[0;34m(self, iterable)\u001b[0m\n\u001b[1;32m   1027\u001b[0m             \u001b[0;31m# remaining jobs.\u001b[0m\u001b[0;34m\u001b[0m\u001b[0;34m\u001b[0m\u001b[0;34m\u001b[0m\u001b[0m\n\u001b[1;32m   1028\u001b[0m             \u001b[0mself\u001b[0m\u001b[0;34m.\u001b[0m\u001b[0m_iterating\u001b[0m \u001b[0;34m=\u001b[0m \u001b[0;32mFalse\u001b[0m\u001b[0;34m\u001b[0m\u001b[0;34m\u001b[0m\u001b[0m\n\u001b[0;32m-> 1029\u001b[0;31m             \u001b[0;32mif\u001b[0m \u001b[0mself\u001b[0m\u001b[0;34m.\u001b[0m\u001b[0mdispatch_one_batch\u001b[0m\u001b[0;34m(\u001b[0m\u001b[0miterator\u001b[0m\u001b[0;34m)\u001b[0m\u001b[0;34m:\u001b[0m\u001b[0;34m\u001b[0m\u001b[0;34m\u001b[0m\u001b[0m\n\u001b[0m\u001b[1;32m   1030\u001b[0m                 \u001b[0mself\u001b[0m\u001b[0;34m.\u001b[0m\u001b[0m_iterating\u001b[0m \u001b[0;34m=\u001b[0m \u001b[0mself\u001b[0m\u001b[0;34m.\u001b[0m\u001b[0m_original_iterator\u001b[0m \u001b[0;32mis\u001b[0m \u001b[0;32mnot\u001b[0m \u001b[0;32mNone\u001b[0m\u001b[0;34m\u001b[0m\u001b[0;34m\u001b[0m\u001b[0m\n\u001b[1;32m   1031\u001b[0m \u001b[0;34m\u001b[0m\u001b[0m\n",
      "\u001b[0;32m/usr/local/anaconda3/lib/python3.8/site-packages/joblib/parallel.py\u001b[0m in \u001b[0;36mdispatch_one_batch\u001b[0;34m(self, iterator)\u001b[0m\n\u001b[1;32m    845\u001b[0m                 \u001b[0;32mreturn\u001b[0m \u001b[0;32mFalse\u001b[0m\u001b[0;34m\u001b[0m\u001b[0;34m\u001b[0m\u001b[0m\n\u001b[1;32m    846\u001b[0m             \u001b[0;32melse\u001b[0m\u001b[0;34m:\u001b[0m\u001b[0;34m\u001b[0m\u001b[0;34m\u001b[0m\u001b[0m\n\u001b[0;32m--> 847\u001b[0;31m                 \u001b[0mself\u001b[0m\u001b[0;34m.\u001b[0m\u001b[0m_dispatch\u001b[0m\u001b[0;34m(\u001b[0m\u001b[0mtasks\u001b[0m\u001b[0;34m)\u001b[0m\u001b[0;34m\u001b[0m\u001b[0;34m\u001b[0m\u001b[0m\n\u001b[0m\u001b[1;32m    848\u001b[0m                 \u001b[0;32mreturn\u001b[0m \u001b[0;32mTrue\u001b[0m\u001b[0;34m\u001b[0m\u001b[0;34m\u001b[0m\u001b[0m\n\u001b[1;32m    849\u001b[0m \u001b[0;34m\u001b[0m\u001b[0m\n",
      "\u001b[0;32m/usr/local/anaconda3/lib/python3.8/site-packages/joblib/parallel.py\u001b[0m in \u001b[0;36m_dispatch\u001b[0;34m(self, batch)\u001b[0m\n\u001b[1;32m    763\u001b[0m         \u001b[0;32mwith\u001b[0m \u001b[0mself\u001b[0m\u001b[0;34m.\u001b[0m\u001b[0m_lock\u001b[0m\u001b[0;34m:\u001b[0m\u001b[0;34m\u001b[0m\u001b[0;34m\u001b[0m\u001b[0m\n\u001b[1;32m    764\u001b[0m             \u001b[0mjob_idx\u001b[0m \u001b[0;34m=\u001b[0m \u001b[0mlen\u001b[0m\u001b[0;34m(\u001b[0m\u001b[0mself\u001b[0m\u001b[0;34m.\u001b[0m\u001b[0m_jobs\u001b[0m\u001b[0;34m)\u001b[0m\u001b[0;34m\u001b[0m\u001b[0;34m\u001b[0m\u001b[0m\n\u001b[0;32m--> 765\u001b[0;31m             \u001b[0mjob\u001b[0m \u001b[0;34m=\u001b[0m \u001b[0mself\u001b[0m\u001b[0;34m.\u001b[0m\u001b[0m_backend\u001b[0m\u001b[0;34m.\u001b[0m\u001b[0mapply_async\u001b[0m\u001b[0;34m(\u001b[0m\u001b[0mbatch\u001b[0m\u001b[0;34m,\u001b[0m \u001b[0mcallback\u001b[0m\u001b[0;34m=\u001b[0m\u001b[0mcb\u001b[0m\u001b[0;34m)\u001b[0m\u001b[0;34m\u001b[0m\u001b[0;34m\u001b[0m\u001b[0m\n\u001b[0m\u001b[1;32m    766\u001b[0m             \u001b[0;31m# A job can complete so quickly than its callback is\u001b[0m\u001b[0;34m\u001b[0m\u001b[0;34m\u001b[0m\u001b[0;34m\u001b[0m\u001b[0m\n\u001b[1;32m    767\u001b[0m             \u001b[0;31m# called before we get here, causing self._jobs to\u001b[0m\u001b[0;34m\u001b[0m\u001b[0;34m\u001b[0m\u001b[0;34m\u001b[0m\u001b[0m\n",
      "\u001b[0;32m/usr/local/anaconda3/lib/python3.8/site-packages/joblib/_parallel_backends.py\u001b[0m in \u001b[0;36mapply_async\u001b[0;34m(self, func, callback)\u001b[0m\n\u001b[1;32m    206\u001b[0m     \u001b[0;32mdef\u001b[0m \u001b[0mapply_async\u001b[0m\u001b[0;34m(\u001b[0m\u001b[0mself\u001b[0m\u001b[0;34m,\u001b[0m \u001b[0mfunc\u001b[0m\u001b[0;34m,\u001b[0m \u001b[0mcallback\u001b[0m\u001b[0;34m=\u001b[0m\u001b[0;32mNone\u001b[0m\u001b[0;34m)\u001b[0m\u001b[0;34m:\u001b[0m\u001b[0;34m\u001b[0m\u001b[0;34m\u001b[0m\u001b[0m\n\u001b[1;32m    207\u001b[0m         \u001b[0;34m\"\"\"Schedule a func to be run\"\"\"\u001b[0m\u001b[0;34m\u001b[0m\u001b[0;34m\u001b[0m\u001b[0m\n\u001b[0;32m--> 208\u001b[0;31m         \u001b[0mresult\u001b[0m \u001b[0;34m=\u001b[0m \u001b[0mImmediateResult\u001b[0m\u001b[0;34m(\u001b[0m\u001b[0mfunc\u001b[0m\u001b[0;34m)\u001b[0m\u001b[0;34m\u001b[0m\u001b[0;34m\u001b[0m\u001b[0m\n\u001b[0m\u001b[1;32m    209\u001b[0m         \u001b[0;32mif\u001b[0m \u001b[0mcallback\u001b[0m\u001b[0;34m:\u001b[0m\u001b[0;34m\u001b[0m\u001b[0;34m\u001b[0m\u001b[0m\n\u001b[1;32m    210\u001b[0m             \u001b[0mcallback\u001b[0m\u001b[0;34m(\u001b[0m\u001b[0mresult\u001b[0m\u001b[0;34m)\u001b[0m\u001b[0;34m\u001b[0m\u001b[0;34m\u001b[0m\u001b[0m\n",
      "\u001b[0;32m/usr/local/anaconda3/lib/python3.8/site-packages/joblib/_parallel_backends.py\u001b[0m in \u001b[0;36m__init__\u001b[0;34m(self, batch)\u001b[0m\n\u001b[1;32m    570\u001b[0m         \u001b[0;31m# Don't delay the application, to avoid keeping the input\u001b[0m\u001b[0;34m\u001b[0m\u001b[0;34m\u001b[0m\u001b[0;34m\u001b[0m\u001b[0m\n\u001b[1;32m    571\u001b[0m         \u001b[0;31m# arguments in memory\u001b[0m\u001b[0;34m\u001b[0m\u001b[0;34m\u001b[0m\u001b[0;34m\u001b[0m\u001b[0m\n\u001b[0;32m--> 572\u001b[0;31m         \u001b[0mself\u001b[0m\u001b[0;34m.\u001b[0m\u001b[0mresults\u001b[0m \u001b[0;34m=\u001b[0m \u001b[0mbatch\u001b[0m\u001b[0;34m(\u001b[0m\u001b[0;34m)\u001b[0m\u001b[0;34m\u001b[0m\u001b[0;34m\u001b[0m\u001b[0m\n\u001b[0m\u001b[1;32m    573\u001b[0m \u001b[0;34m\u001b[0m\u001b[0m\n\u001b[1;32m    574\u001b[0m     \u001b[0;32mdef\u001b[0m \u001b[0mget\u001b[0m\u001b[0;34m(\u001b[0m\u001b[0mself\u001b[0m\u001b[0;34m)\u001b[0m\u001b[0;34m:\u001b[0m\u001b[0;34m\u001b[0m\u001b[0;34m\u001b[0m\u001b[0m\n",
      "\u001b[0;32m/usr/local/anaconda3/lib/python3.8/site-packages/joblib/parallel.py\u001b[0m in \u001b[0;36m__call__\u001b[0;34m(self)\u001b[0m\n\u001b[1;32m    250\u001b[0m         \u001b[0;31m# change the default number of processes to -1\u001b[0m\u001b[0;34m\u001b[0m\u001b[0;34m\u001b[0m\u001b[0;34m\u001b[0m\u001b[0m\n\u001b[1;32m    251\u001b[0m         \u001b[0;32mwith\u001b[0m \u001b[0mparallel_backend\u001b[0m\u001b[0;34m(\u001b[0m\u001b[0mself\u001b[0m\u001b[0;34m.\u001b[0m\u001b[0m_backend\u001b[0m\u001b[0;34m,\u001b[0m \u001b[0mn_jobs\u001b[0m\u001b[0;34m=\u001b[0m\u001b[0mself\u001b[0m\u001b[0;34m.\u001b[0m\u001b[0m_n_jobs\u001b[0m\u001b[0;34m)\u001b[0m\u001b[0;34m:\u001b[0m\u001b[0;34m\u001b[0m\u001b[0;34m\u001b[0m\u001b[0m\n\u001b[0;32m--> 252\u001b[0;31m             return [func(*args, **kwargs)\n\u001b[0m\u001b[1;32m    253\u001b[0m                     for func, args, kwargs in self.items]\n\u001b[1;32m    254\u001b[0m \u001b[0;34m\u001b[0m\u001b[0m\n",
      "\u001b[0;32m/usr/local/anaconda3/lib/python3.8/site-packages/joblib/parallel.py\u001b[0m in \u001b[0;36m<listcomp>\u001b[0;34m(.0)\u001b[0m\n\u001b[1;32m    250\u001b[0m         \u001b[0;31m# change the default number of processes to -1\u001b[0m\u001b[0;34m\u001b[0m\u001b[0;34m\u001b[0m\u001b[0;34m\u001b[0m\u001b[0m\n\u001b[1;32m    251\u001b[0m         \u001b[0;32mwith\u001b[0m \u001b[0mparallel_backend\u001b[0m\u001b[0;34m(\u001b[0m\u001b[0mself\u001b[0m\u001b[0;34m.\u001b[0m\u001b[0m_backend\u001b[0m\u001b[0;34m,\u001b[0m \u001b[0mn_jobs\u001b[0m\u001b[0;34m=\u001b[0m\u001b[0mself\u001b[0m\u001b[0;34m.\u001b[0m\u001b[0m_n_jobs\u001b[0m\u001b[0;34m)\u001b[0m\u001b[0;34m:\u001b[0m\u001b[0;34m\u001b[0m\u001b[0;34m\u001b[0m\u001b[0m\n\u001b[0;32m--> 252\u001b[0;31m             return [func(*args, **kwargs)\n\u001b[0m\u001b[1;32m    253\u001b[0m                     for func, args, kwargs in self.items]\n\u001b[1;32m    254\u001b[0m \u001b[0;34m\u001b[0m\u001b[0m\n",
      "\u001b[0;32m/usr/local/anaconda3/lib/python3.8/site-packages/sklearn/neighbors/_base.py\u001b[0m in \u001b[0;36m_tree_query_radius_parallel_helper\u001b[0;34m(tree, *args, **kwargs)\u001b[0m\n\u001b[1;32m    788\u001b[0m     \u001b[0mcloudpickle\u001b[0m \u001b[0munder\u001b[0m \u001b[0mPyPy\u001b[0m\u001b[0;34m.\u001b[0m\u001b[0;34m\u001b[0m\u001b[0;34m\u001b[0m\u001b[0m\n\u001b[1;32m    789\u001b[0m     \"\"\"\n\u001b[0;32m--> 790\u001b[0;31m     \u001b[0;32mreturn\u001b[0m \u001b[0mtree\u001b[0m\u001b[0;34m.\u001b[0m\u001b[0mquery_radius\u001b[0m\u001b[0;34m(\u001b[0m\u001b[0;34m*\u001b[0m\u001b[0margs\u001b[0m\u001b[0;34m,\u001b[0m \u001b[0;34m**\u001b[0m\u001b[0mkwargs\u001b[0m\u001b[0;34m)\u001b[0m\u001b[0;34m\u001b[0m\u001b[0;34m\u001b[0m\u001b[0m\n\u001b[0m\u001b[1;32m    791\u001b[0m \u001b[0;34m\u001b[0m\u001b[0m\n\u001b[1;32m    792\u001b[0m \u001b[0;34m\u001b[0m\u001b[0m\n",
      "\u001b[0;31mKeyboardInterrupt\u001b[0m: "
     ]
    }
   ],
   "source": [
    "db = DBSCAN(eps=0.3, min_samples=10).fit(X_reduced)"
   ]
  },
  {
   "cell_type": "markdown",
   "metadata": {},
   "source": [
    "# Clustering with K-Means"
   ]
  },
  {
   "cell_type": "code",
   "execution_count": 11,
   "metadata": {},
   "outputs": [],
   "source": [
    "#from sklearn.cluster import OPTICS\n",
    "#clustering = OPTICS(min_samples=10).fit(X_reduced[:,:50])"
   ]
  },
  {
   "cell_type": "code",
   "execution_count": 31,
   "metadata": {},
   "outputs": [],
   "source": [
    "from sklearn.cluster import MiniBatchKMeans\n",
    "from sklearn.metrics import silhouette_score"
   ]
  },
  {
   "cell_type": "markdown",
   "metadata": {},
   "source": [
    "## Speed"
   ]
  },
  {
   "cell_type": "code",
   "execution_count": 26,
   "metadata": {},
   "outputs": [
    {
     "name": "stdout",
     "output_type": "stream",
     "text": [
      "203 ms ± 83.8 ms per loop (mean ± std. dev. of 7 runs, 1 loop each)\n"
     ]
    }
   ],
   "source": [
    "%%timeit\n",
    "kmeans = MiniBatchKMeans(n_clusters=5)\n",
    "kmeans.fit(X_reduced[:,:100])"
   ]
  },
  {
   "cell_type": "code",
   "execution_count": 17,
   "metadata": {},
   "outputs": [
    {
     "name": "stdout",
     "output_type": "stream",
     "text": [
      "454 ms ± 120 ms per loop (mean ± std. dev. of 7 runs, 1 loop each)\n"
     ]
    }
   ],
   "source": [
    "%%timeit\n",
    "kmeans = MiniBatchKMeans(n_clusters=5)\n",
    "kmeans.fit(X_reduced[:,:400])"
   ]
  },
  {
   "cell_type": "code",
   "execution_count": 15,
   "metadata": {},
   "outputs": [
    {
     "name": "stdout",
     "output_type": "stream",
     "text": [
      "1.03 s ± 201 ms per loop (mean ± std. dev. of 7 runs, 1 loop each)\n"
     ]
    }
   ],
   "source": [
    "%%timeit\n",
    "kmeans = MiniBatchKMeans(n_clusters=5)\n",
    "kmeans.fit(X_reduced)"
   ]
  },
  {
   "cell_type": "markdown",
   "metadata": {},
   "source": [
    "## Determine the Number of Clusters"
   ]
  },
  {
   "cell_type": "code",
   "execution_count": 28,
   "metadata": {},
   "outputs": [
    {
     "data": {
      "text/plain": [
       "MiniBatchKMeans(n_clusters=5)"
      ]
     },
     "execution_count": 28,
     "metadata": {},
     "output_type": "execute_result"
    }
   ],
   "source": [
    "kmeans = MiniBatchKMeans(n_clusters=5)\n",
    "kmeans.fit(X_reduced)"
   ]
  },
  {
   "cell_type": "code",
   "execution_count": 30,
   "metadata": {},
   "outputs": [
    {
     "data": {
      "text/plain": [
       "(45630,)"
      ]
     },
     "execution_count": 30,
     "metadata": {},
     "output_type": "execute_result"
    }
   ],
   "source": [
    "kmeans.labels_.shape"
   ]
  },
  {
   "cell_type": "code",
   "execution_count": 20,
   "metadata": {},
   "outputs": [
    {
     "data": {
      "text/plain": [
       "0.02851708700208787"
      ]
     },
     "execution_count": 20,
     "metadata": {},
     "output_type": "execute_result"
    }
   ],
   "source": [
    "silhouette_score(X_reduced, kmeans.labels_)"
   ]
  },
  {
   "cell_type": "markdown",
   "metadata": {},
   "source": [
    "### Many Clusters"
   ]
  },
  {
   "cell_type": "code",
   "execution_count": 13,
   "metadata": {},
   "outputs": [
    {
     "name": "stdout",
     "output_type": "stream",
     "text": [
      "clust:  1\n",
      "clust:  2\n",
      "clust:  3\n",
      "clust:  4\n",
      "clust:  5\n",
      "clust:  6\n",
      "clust:  7\n",
      "clust:  8\n",
      "clust:  9\n",
      "clust:  10\n",
      "clust:  11\n",
      "clust:  12\n",
      "clust:  13\n",
      "clust:  14\n",
      "clust:  15\n",
      "clust:  16\n",
      "clust:  17\n",
      "clust:  18\n",
      "clust:  19\n",
      "clust:  20\n",
      "clust:  25\n",
      "clust:  30\n",
      "clust:  40\n",
      "clust:  50\n",
      "clust:  60\n",
      "clust:  80\n",
      "clust:  100\n"
     ]
    }
   ],
   "source": [
    "nclusts = list(range(1,21)) + [25,30,40,50,60,80,100]\n",
    "clust_labels = []\n",
    "\n",
    "for k in nclusts:\n",
    "    print('clust: ', k)\n",
    "    # Compute clusters\n",
    "    kmeans = MiniBatchKMeans(n_clusters=k)\n",
    "    kmeans.fit(X_reduced)\n",
    "    # Save\n",
    "    clust_labels.append(kmeans.labels_)"
   ]
  },
  {
   "cell_type": "markdown",
   "metadata": {},
   "source": [
    "### Silhouette Width"
   ]
  },
  {
   "cell_type": "code",
   "execution_count": 15,
   "metadata": {},
   "outputs": [
    {
     "name": "stdout",
     "output_type": "stream",
     "text": [
      "clust 2 - silhouette score: 0.03343530644299473\n",
      "clust 3 - silhouette score: 0.027275654981588918\n",
      "clust 4 - silhouette score: 0.015150647809189491\n",
      "clust 5 - silhouette score: 0.022793481409427038\n",
      "clust 6 - silhouette score: 0.021121130405161115\n",
      "clust 7 - silhouette score: 0.013051393516968851\n",
      "clust 8 - silhouette score: 0.017278979644336997\n",
      "clust 9 - silhouette score: 0.018884413931364006\n",
      "clust 10 - silhouette score: 0.020463299734671814\n",
      "clust 11 - silhouette score: 0.012397215066737638\n",
      "clust 12 - silhouette score: 0.02034136229916153\n",
      "clust 13 - silhouette score: 0.018274714694805513\n",
      "clust 14 - silhouette score: 0.015019497339400929\n",
      "clust 15 - silhouette score: 0.014890920657594661\n",
      "clust 16 - silhouette score: 0.021951422059431954\n",
      "clust 17 - silhouette score: 0.008178690025511071\n",
      "clust 18 - silhouette score: 0.025347329528884133\n",
      "clust 19 - silhouette score: 0.01853100925357968\n",
      "clust 20 - silhouette score: 0.0015283474275240177\n",
      "clust 25 - silhouette score: 0.025329720544680624\n",
      "clust 30 - silhouette score: 0.014418761825961614\n",
      "clust 40 - silhouette score: 0.005705046915105211\n",
      "clust 50 - silhouette score: 0.0044262061245270825\n",
      "clust 60 - silhouette score: -0.017857575169629165\n",
      "clust 80 - silhouette score: -0.012172076181622868\n",
      "clust 100 - silhouette score: -0.02440606047236474\n"
     ]
    }
   ],
   "source": [
    "avg_scores = [] \n",
    "for clabs in clust_labels[1:]:\n",
    "    ss = silhouette_score(X_reduced, clabs)\n",
    "    print('clust', np.max(clabs)+1, '- silhouette score:', ss)\n",
    "    avg_scores.append(ss)"
   ]
  },
  {
   "cell_type": "markdown",
   "metadata": {},
   "source": [
    "## Choose 25\n",
    "\n",
    "25# of clusters has a decent S score. Let's go with that."
   ]
  },
  {
   "cell_type": "code",
   "execution_count": 34,
   "metadata": {},
   "outputs": [],
   "source": [
    "from sklearn.metrics import pairwise_distances"
   ]
  },
  {
   "cell_type": "code",
   "execution_count": 32,
   "metadata": {},
   "outputs": [
    {
     "data": {
      "text/plain": [
       "MiniBatchKMeans(n_clusters=25)"
      ]
     },
     "execution_count": 32,
     "metadata": {},
     "output_type": "execute_result"
    }
   ],
   "source": [
    "kmeans = MiniBatchKMeans(n_clusters=25)\n",
    "kmeans.fit(X_reduced)"
   ]
  },
  {
   "cell_type": "code",
   "execution_count": 39,
   "metadata": {},
   "outputs": [
    {
     "data": {
      "text/plain": [
       "(25, 1049)"
      ]
     },
     "execution_count": 39,
     "metadata": {},
     "output_type": "execute_result"
    }
   ],
   "source": [
    "kmeans.cluster_centers_.shape"
   ]
  },
  {
   "cell_type": "code",
   "execution_count": 40,
   "metadata": {},
   "outputs": [],
   "source": [
    "dmat = pairwise_distances(X_reduced, kmeans.cluster_centers_, metric='cosine')"
   ]
  },
  {
   "cell_type": "code",
   "execution_count": 55,
   "metadata": {},
   "outputs": [
    {
     "data": {
      "text/html": [
       "<div>\n",
       "<style scoped>\n",
       "    .dataframe tbody tr th:only-of-type {\n",
       "        vertical-align: middle;\n",
       "    }\n",
       "\n",
       "    .dataframe tbody tr th {\n",
       "        vertical-align: top;\n",
       "    }\n",
       "\n",
       "    .dataframe thead th {\n",
       "        text-align: right;\n",
       "    }\n",
       "</style>\n",
       "<table border=\"1\" class=\"dataframe\">\n",
       "  <thead>\n",
       "    <tr style=\"text-align: right;\">\n",
       "      <th></th>\n",
       "      <th>name</th>\n",
       "      <th>ingredients</th>\n",
       "    </tr>\n",
       "  </thead>\n",
       "  <tbody>\n",
       "    <tr>\n",
       "      <th>1990</th>\n",
       "      <td>Chef John's Chicken Cacciatore</td>\n",
       "      <td>olive oil, roasting chicken, large onion, fres...</td>\n",
       "    </tr>\n",
       "    <tr>\n",
       "      <th>40949</th>\n",
       "      <td>Apple Cider Chicken Marinade</td>\n",
       "      <td>white wine, extra-virgin olive oil, fresh lemo...</td>\n",
       "    </tr>\n",
       "    <tr>\n",
       "      <th>18765</th>\n",
       "      <td>French Silk Chocolate Pie II</td>\n",
       "      <td>butter, white sugar, unsweetened cocoa powder,...</td>\n",
       "    </tr>\n",
       "    <tr>\n",
       "      <th>8899</th>\n",
       "      <td>Stuffed Pasta Shells Surprise</td>\n",
       "      <td>jumbo pasta shells, ground beef, cooking spray...</td>\n",
       "    </tr>\n",
       "    <tr>\n",
       "      <th>40191</th>\n",
       "      <td>Chocolate Waffles I</td>\n",
       "      <td>all-purpose flour, baking powder, salt, white ...</td>\n",
       "    </tr>\n",
       "    <tr>\n",
       "      <th>31431</th>\n",
       "      <td>Chocolate Butter-Creme Frosting</td>\n",
       "      <td>confectioners' sugar, butter, salt, squares un...</td>\n",
       "    </tr>\n",
       "    <tr>\n",
       "      <th>23136</th>\n",
       "      <td>Cowboy Cookies III</td>\n",
       "      <td>all-purpose flour, baking powder, baking soda,...</td>\n",
       "    </tr>\n",
       "    <tr>\n",
       "      <th>43815</th>\n",
       "      <td>Kitty Kisses</td>\n",
       "      <td>wet cat food, catnip (optional)</td>\n",
       "    </tr>\n",
       "    <tr>\n",
       "      <th>43722</th>\n",
       "      <td>Texas Tea III</td>\n",
       "      <td>fluid ounce vodka, fluid ounce amber rum, flui...</td>\n",
       "    </tr>\n",
       "    <tr>\n",
       "      <th>23702</th>\n",
       "      <td>Grandma's Float</td>\n",
       "      <td>all-purpose flour, white sugar, egg yolks, mil...</td>\n",
       "    </tr>\n",
       "    <tr>\n",
       "      <th>21603</th>\n",
       "      <td>Chocolate Spoons</td>\n",
       "      <td>semisweet chocolate chips, milk chocolate chips</td>\n",
       "    </tr>\n",
       "    <tr>\n",
       "      <th>1476</th>\n",
       "      <td>Bacon-Stuffed French Toast Casserole</td>\n",
       "      <td>bacon, butter, bread, ground cinnamon divided,...</td>\n",
       "    </tr>\n",
       "    <tr>\n",
       "      <th>43553</th>\n",
       "      <td>Baltimore Zoo</td>\n",
       "      <td>ice cubes, fluid ounce silver tequila, fluid o...</td>\n",
       "    </tr>\n",
       "    <tr>\n",
       "      <th>41278</th>\n",
       "      <td>Bread Bowls I</td>\n",
       "      <td>active dry yeast, white sugar, warm water (110...</td>\n",
       "    </tr>\n",
       "    <tr>\n",
       "      <th>29252</th>\n",
       "      <td>Scones</td>\n",
       "      <td>all-purpose flour, white sugar, baking powder,...</td>\n",
       "    </tr>\n",
       "    <tr>\n",
       "      <th>24493</th>\n",
       "      <td>Pumpkin Muffins with Cinnamon Streusel Topping</td>\n",
       "      <td>brown sugar, white sugar, butter, eggs, pumpki...</td>\n",
       "    </tr>\n",
       "    <tr>\n",
       "      <th>25512</th>\n",
       "      <td>Grandpa Bob's Spicy Barbeque Sauce</td>\n",
       "      <td>distilled white vinegar, Worcestershire sauce,...</td>\n",
       "    </tr>\n",
       "    <tr>\n",
       "      <th>14485</th>\n",
       "      <td>Man Dip</td>\n",
       "      <td>cream cheese, chili, shredded Cheddar cheese</td>\n",
       "    </tr>\n",
       "    <tr>\n",
       "      <th>8882</th>\n",
       "      <td>Three-Ingredient Baked Chicken Breasts</td>\n",
       "      <td>butter, salt, skinless boneless chicken breast...</td>\n",
       "    </tr>\n",
       "    <tr>\n",
       "      <th>24541</th>\n",
       "      <td>Easy Sugar Cookies</td>\n",
       "      <td>all-purpose flour, baking soda, baking powder,...</td>\n",
       "    </tr>\n",
       "    <tr>\n",
       "      <th>3898</th>\n",
       "      <td>Easy Cheesy Chicken I</td>\n",
       "      <td>skinless boneless chicken breast halves, salt ...</td>\n",
       "    </tr>\n",
       "    <tr>\n",
       "      <th>6396</th>\n",
       "      <td>Sloppy Tots</td>\n",
       "      <td>frozen bite-size potato nuggets (such as Tater...</td>\n",
       "    </tr>\n",
       "    <tr>\n",
       "      <th>45077</th>\n",
       "      <td>Pineapple Breeze</td>\n",
       "      <td>ice cubes</td>\n",
       "    </tr>\n",
       "    <tr>\n",
       "      <th>8555</th>\n",
       "      <td>Sour Cream Burgers</td>\n",
       "      <td>ground beef, sour cream, envelope dry onion so...</td>\n",
       "    </tr>\n",
       "    <tr>\n",
       "      <th>28103</th>\n",
       "      <td>Rae's Vegetarian Chili</td>\n",
       "      <td>garlic, olive oil, diced tomatoes with juice, ...</td>\n",
       "    </tr>\n",
       "  </tbody>\n",
       "</table>\n",
       "</div>"
      ],
      "text/plain": [
       "                                                 name  \\\n",
       "1990                   Chef John's Chicken Cacciatore   \n",
       "40949                    Apple Cider Chicken Marinade   \n",
       "18765                    French Silk Chocolate Pie II   \n",
       "8899                    Stuffed Pasta Shells Surprise   \n",
       "40191                             Chocolate Waffles I   \n",
       "31431                 Chocolate Butter-Creme Frosting   \n",
       "23136                              Cowboy Cookies III   \n",
       "43815                                    Kitty Kisses   \n",
       "43722                                   Texas Tea III   \n",
       "23702                                 Grandma's Float   \n",
       "21603                                Chocolate Spoons   \n",
       "1476             Bacon-Stuffed French Toast Casserole   \n",
       "43553                                   Baltimore Zoo   \n",
       "41278                                   Bread Bowls I   \n",
       "29252                                          Scones   \n",
       "24493  Pumpkin Muffins with Cinnamon Streusel Topping   \n",
       "25512              Grandpa Bob's Spicy Barbeque Sauce   \n",
       "14485                                         Man Dip   \n",
       "8882           Three-Ingredient Baked Chicken Breasts   \n",
       "24541                              Easy Sugar Cookies   \n",
       "3898                            Easy Cheesy Chicken I   \n",
       "6396                                      Sloppy Tots   \n",
       "45077                                Pineapple Breeze   \n",
       "8555                               Sour Cream Burgers   \n",
       "28103                          Rae's Vegetarian Chili   \n",
       "\n",
       "                                             ingredients  \n",
       "1990   olive oil, roasting chicken, large onion, fres...  \n",
       "40949  white wine, extra-virgin olive oil, fresh lemo...  \n",
       "18765  butter, white sugar, unsweetened cocoa powder,...  \n",
       "8899   jumbo pasta shells, ground beef, cooking spray...  \n",
       "40191  all-purpose flour, baking powder, salt, white ...  \n",
       "31431  confectioners' sugar, butter, salt, squares un...  \n",
       "23136  all-purpose flour, baking powder, baking soda,...  \n",
       "43815                    wet cat food, catnip (optional)  \n",
       "43722  fluid ounce vodka, fluid ounce amber rum, flui...  \n",
       "23702  all-purpose flour, white sugar, egg yolks, mil...  \n",
       "21603    semisweet chocolate chips, milk chocolate chips  \n",
       "1476   bacon, butter, bread, ground cinnamon divided,...  \n",
       "43553  ice cubes, fluid ounce silver tequila, fluid o...  \n",
       "41278  active dry yeast, white sugar, warm water (110...  \n",
       "29252  all-purpose flour, white sugar, baking powder,...  \n",
       "24493  brown sugar, white sugar, butter, eggs, pumpki...  \n",
       "25512  distilled white vinegar, Worcestershire sauce,...  \n",
       "14485       cream cheese, chili, shredded Cheddar cheese  \n",
       "8882   butter, salt, skinless boneless chicken breast...  \n",
       "24541  all-purpose flour, baking soda, baking powder,...  \n",
       "3898   skinless boneless chicken breast halves, salt ...  \n",
       "6396   frozen bite-size potato nuggets (such as Tater...  \n",
       "45077                                          ice cubes  \n",
       "8555   ground beef, sour cream, envelope dry onion so...  \n",
       "28103  garlic, olive oil, diced tomatoes with juice, ...  "
      ]
     },
     "execution_count": 55,
     "metadata": {},
     "output_type": "execute_result"
    }
   ],
   "source": [
    "# Most representative element\n",
    "inds = np.argmin(dmat, axis=0)\n",
    "recipes.loc[inds,[\"name\",\"ingredients\"]]"
   ]
  },
  {
   "cell_type": "code",
   "execution_count": null,
   "metadata": {},
   "outputs": [],
   "source": [
    "plt.plot(nclusts[1:], avg_scores)\n",
    "plt.xlabel('number of clusters')\n",
    "plt.ylabel('average silhouette score');"
   ]
  },
  {
   "cell_type": "markdown",
   "metadata": {},
   "source": [
    "### Save"
   ]
  },
  {
   "cell_type": "code",
   "execution_count": 65,
   "metadata": {},
   "outputs": [],
   "source": [
    "import pandas as pd"
   ]
  },
  {
   "cell_type": "code",
   "execution_count": 69,
   "metadata": {},
   "outputs": [
    {
     "data": {
      "text/plain": [
       "7     8871\n",
       "0     5014\n",
       "1     4292\n",
       "17    2868\n",
       "16    2772\n",
       "3     2422\n",
       "9     2377\n",
       "18    2306\n",
       "15    2105\n",
       "19    1958\n",
       "24    1475\n",
       "10    1454\n",
       "20    1283\n",
       "4     1183\n",
       "6     1072\n",
       "12    1071\n",
       "14    1001\n",
       "13     781\n",
       "22     649\n",
       "11     542\n",
       "23      52\n",
       "5       33\n",
       "2       26\n",
       "21      15\n",
       "8        8\n",
       "dtype: int64"
      ]
     },
     "execution_count": 69,
     "metadata": {},
     "output_type": "execute_result"
    }
   ],
   "source": [
    "pd.Series(kmeans.labels_).value_counts()"
   ]
  },
  {
   "cell_type": "code",
   "execution_count": 81,
   "metadata": {},
   "outputs": [],
   "source": [
    "(kmeans.labels_+1).tofile('z_kmeans25.txt', sep=\" \")"
   ]
  },
  {
   "cell_type": "code",
   "execution_count": 82,
   "metadata": {},
   "outputs": [
    {
     "data": {
      "text/plain": [
       "array([12.,  8., 18., ..., 23., 23.,  2.])"
      ]
     },
     "execution_count": 82,
     "metadata": {},
     "output_type": "execute_result"
    }
   ],
   "source": [
    "np.loadtxt('z_kmeans25.txt')"
   ]
  },
  {
   "cell_type": "markdown",
   "metadata": {},
   "source": [
    "# Play\n",
    "\n",
    "The goal will be to first select a set of k items to show a user. Another goal will be to pair those items in the most informative way possible. For now, we will keep it simple."
   ]
  },
  {
   "cell_type": "code",
   "execution_count": 118,
   "metadata": {},
   "outputs": [
    {
     "data": {
      "text/html": [
       "<div>\n",
       "<style scoped>\n",
       "    .dataframe tbody tr th:only-of-type {\n",
       "        vertical-align: middle;\n",
       "    }\n",
       "\n",
       "    .dataframe tbody tr th {\n",
       "        vertical-align: top;\n",
       "    }\n",
       "\n",
       "    .dataframe thead th {\n",
       "        text-align: right;\n",
       "    }\n",
       "</style>\n",
       "<table border=\"1\" class=\"dataframe\">\n",
       "  <thead>\n",
       "    <tr style=\"text-align: right;\">\n",
       "      <th></th>\n",
       "      <th>recipe_id</th>\n",
       "      <th>ave_rating</th>\n",
       "      <th>num_reviews</th>\n",
       "      <th>name</th>\n",
       "      <th>ingredients</th>\n",
       "      <th>img_path</th>\n",
       "      <th>group</th>\n",
       "    </tr>\n",
       "  </thead>\n",
       "  <tbody>\n",
       "    <tr>\n",
       "      <th>0</th>\n",
       "      <td>240488</td>\n",
       "      <td>4.764706</td>\n",
       "      <td>29</td>\n",
       "      <td>Pork Loin, Apples, and Sauerkraut</td>\n",
       "      <td>sauerkraut drained, Granny Smith apples sliced...</td>\n",
       "      <td>../data/RecSys/core_images/240488.jpg</td>\n",
       "      <td>11</td>\n",
       "    </tr>\n",
       "    <tr>\n",
       "      <th>1</th>\n",
       "      <td>218939</td>\n",
       "      <td>4.571429</td>\n",
       "      <td>12</td>\n",
       "      <td>Foolproof Rosemary Chicken Wings</td>\n",
       "      <td>chicken wings, sprigs rosemary, head garlic, o...</td>\n",
       "      <td>../data/RecSys/core_images/218939.jpg</td>\n",
       "      <td>7</td>\n",
       "    </tr>\n",
       "    <tr>\n",
       "      <th>2</th>\n",
       "      <td>87211</td>\n",
       "      <td>4.625000</td>\n",
       "      <td>163</td>\n",
       "      <td>Chicken Pesto Paninis</td>\n",
       "      <td>focaccia bread quartered, prepared basil pesto...</td>\n",
       "      <td>../data/RecSys/core_images/87211.jpg</td>\n",
       "      <td>17</td>\n",
       "    </tr>\n",
       "    <tr>\n",
       "      <th>3</th>\n",
       "      <td>245714</td>\n",
       "      <td>4.500000</td>\n",
       "      <td>2</td>\n",
       "      <td>Potato Bacon Pizza</td>\n",
       "      <td>red potatoes, strips bacon, Sauce:, heavy whip...</td>\n",
       "      <td>../data/RecSys/core_images/245714.jpg</td>\n",
       "      <td>13</td>\n",
       "    </tr>\n",
       "    <tr>\n",
       "      <th>4</th>\n",
       "      <td>218545</td>\n",
       "      <td>4.605769</td>\n",
       "      <td>85</td>\n",
       "      <td>Latin-Inspired Spicy Cream Chicken Stew</td>\n",
       "      <td>skinless boneless chicken breast halves, diced...</td>\n",
       "      <td>../data/RecSys/core_images/218545.jpg</td>\n",
       "      <td>24</td>\n",
       "    </tr>\n",
       "  </tbody>\n",
       "</table>\n",
       "</div>"
      ],
      "text/plain": [
       "   recipe_id  ave_rating  num_reviews  \\\n",
       "0     240488    4.764706           29   \n",
       "1     218939    4.571429           12   \n",
       "2      87211    4.625000          163   \n",
       "3     245714    4.500000            2   \n",
       "4     218545    4.605769           85   \n",
       "\n",
       "                                      name  \\\n",
       "0        Pork Loin, Apples, and Sauerkraut   \n",
       "1         Foolproof Rosemary Chicken Wings   \n",
       "2                    Chicken Pesto Paninis   \n",
       "3                       Potato Bacon Pizza   \n",
       "4  Latin-Inspired Spicy Cream Chicken Stew   \n",
       "\n",
       "                                         ingredients  \\\n",
       "0  sauerkraut drained, Granny Smith apples sliced...   \n",
       "1  chicken wings, sprigs rosemary, head garlic, o...   \n",
       "2  focaccia bread quartered, prepared basil pesto...   \n",
       "3  red potatoes, strips bacon, Sauce:, heavy whip...   \n",
       "4  skinless boneless chicken breast halves, diced...   \n",
       "\n",
       "                                img_path  group  \n",
       "0  ../data/RecSys/core_images/240488.jpg     11  \n",
       "1  ../data/RecSys/core_images/218939.jpg      7  \n",
       "2   ../data/RecSys/core_images/87211.jpg     17  \n",
       "3  ../data/RecSys/core_images/245714.jpg     13  \n",
       "4  ../data/RecSys/core_images/218545.jpg     24  "
      ]
     },
     "execution_count": 118,
     "metadata": {},
     "output_type": "execute_result"
    }
   ],
   "source": [
    "recipes['group'] = pd.Series(kmeans.labels_\n",
    "recipes.head()"
   ]
  },
  {
   "cell_type": "code",
   "execution_count": 119,
   "metadata": {},
   "outputs": [
    {
     "name": "stdout",
     "output_type": "stream",
     "text": [
      "25\n"
     ]
    }
   ],
   "source": [
    "ugrps = np.unique(recipes.group)\n",
    "ugrps.sort()\n",
    "ngrps = len(ugrps)\n",
    "print(ngrps)"
   ]
  },
  {
   "cell_type": "code",
   "execution_count": 160,
   "metadata": {},
   "outputs": [],
   "source": [
    "recipes['group'] = recipes.group.astype('category')"
   ]
  },
  {
   "cell_type": "code",
   "execution_count": 172,
   "metadata": {},
   "outputs": [
    {
     "data": {
      "text/plain": [
       "Int64Index([ 0,  1,  2,  3,  4,  5,  6,  7,  8,  9, 10, 11, 12, 13, 14, 15, 16,\n",
       "            17, 18, 19, 20, 21, 22, 23, 24],\n",
       "           dtype='int64')"
      ]
     },
     "execution_count": 172,
     "metadata": {},
     "output_type": "execute_result"
    }
   ],
   "source": [
    "recipes.group.cat.categories"
   ]
  },
  {
   "cell_type": "code",
   "execution_count": 135,
   "metadata": {},
   "outputs": [],
   "source": [
    "k = 10 # must be even (if no, will just round up)"
   ]
  },
  {
   "cell_type": "code",
   "execution_count": 151,
   "metadata": {},
   "outputs": [],
   "source": [
    "if (k % 2) > 0:\n",
    "    print('Setting k = k + 1')\n",
    "    k = k + 1"
   ]
  },
  {
   "cell_type": "code",
   "execution_count": 173,
   "metadata": {},
   "outputs": [
    {
     "data": {
      "text/plain": [
       "array([13,  9, 14, 18,  4, 12, 20,  1, 14, 11])"
      ]
     },
     "execution_count": 173,
     "metadata": {},
     "output_type": "execute_result"
    }
   ],
   "source": [
    "grps = np.random.choice(recipes.group.cat.categories, k)\n",
    "grps"
   ]
  },
  {
   "cell_type": "code",
   "execution_count": 154,
   "metadata": {},
   "outputs": [
    {
     "data": {
      "text/plain": [
       "array([42610,  5548, 32845,  2078, 23545, 38421,  6063,  8840,  7744,\n",
       "       25258])"
      ]
     },
     "execution_count": 154,
     "metadata": {},
     "output_type": "execute_result"
    }
   ],
   "source": [
    "inds = []\n",
    "for g in grps:\n",
    "    inds.append(np.random.choice(recipes.index[recipes.group==g], 1)[0])\n",
    "inds = np.random.permutation(inds)\n",
    "inds"
   ]
  },
  {
   "cell_type": "code",
   "execution_count": 155,
   "metadata": {},
   "outputs": [
    {
     "data": {
      "text/plain": [
       "array([[42610,  5548],\n",
       "       [32845,  2078],\n",
       "       [23545, 38421],\n",
       "       [ 6063,  8840],\n",
       "       [ 7744, 25258]])"
      ]
     },
     "execution_count": 155,
     "metadata": {},
     "output_type": "execute_result"
    }
   ],
   "source": [
    "pairs = inds.reshape((k//2, 2))\n",
    "pairs"
   ]
  },
  {
   "cell_type": "code",
   "execution_count": 166,
   "metadata": {},
   "outputs": [
    {
     "data": {
      "text/plain": [
       "0        11\n",
       "1         7\n",
       "2        17\n",
       "3        13\n",
       "4        24\n",
       "         ..\n",
       "45625    12\n",
       "45626     9\n",
       "45627    22\n",
       "45628    22\n",
       "45629     1\n",
       "Length: 45630, dtype: category\n",
       "Categories (25, int64): [0, 1, 2, 3, ..., 21, 22, 23, 24]"
      ]
     },
     "execution_count": 166,
     "metadata": {},
     "output_type": "execute_result"
    }
   ],
   "source": [
    "tmp = pd.Series(kmeans.labels_, dtype=\"category\")\n",
    "tmp"
   ]
  },
  {
   "cell_type": "code",
   "execution_count": 175,
   "metadata": {},
   "outputs": [
    {
     "data": {
      "text/html": [
       "<div>\n",
       "<style scoped>\n",
       "    .dataframe tbody tr th:only-of-type {\n",
       "        vertical-align: middle;\n",
       "    }\n",
       "\n",
       "    .dataframe tbody tr th {\n",
       "        vertical-align: top;\n",
       "    }\n",
       "\n",
       "    .dataframe thead th {\n",
       "        text-align: right;\n",
       "    }\n",
       "</style>\n",
       "<table border=\"1\" class=\"dataframe\">\n",
       "  <thead>\n",
       "    <tr style=\"text-align: right;\">\n",
       "      <th></th>\n",
       "      <th>recipe_id</th>\n",
       "      <th>ave_rating</th>\n",
       "      <th>num_reviews</th>\n",
       "      <th>name</th>\n",
       "      <th>ingredients</th>\n",
       "      <th>img_path</th>\n",
       "      <th>group</th>\n",
       "    </tr>\n",
       "  </thead>\n",
       "  <tbody>\n",
       "    <tr>\n",
       "      <th>42610</th>\n",
       "      <td>49932</td>\n",
       "      <td>4.400000</td>\n",
       "      <td>66</td>\n",
       "      <td>Lentil Cakes (Patties)</td>\n",
       "      <td>dry brown lentils, water, milk, wheat and barl...</td>\n",
       "      <td>../data/RecSys/core_images/49932.jpg</td>\n",
       "      <td>23</td>\n",
       "    </tr>\n",
       "    <tr>\n",
       "      <th>5548</th>\n",
       "      <td>18216</td>\n",
       "      <td>4.686275</td>\n",
       "      <td>41</td>\n",
       "      <td>Calico Beans</td>\n",
       "      <td>bacon, lean ground beef, onion, lima beans dra...</td>\n",
       "      <td>../data/RecSys/core_images/18216.jpg</td>\n",
       "      <td>24</td>\n",
       "    </tr>\n",
       "    <tr>\n",
       "      <th>32845</th>\n",
       "      <td>239953</td>\n",
       "      <td>4.375000</td>\n",
       "      <td>12</td>\n",
       "      <td>Pizza Spaghetti Casserole</td>\n",
       "      <td>spaghetti, ground beef, milk, egg, pasta sauce...</td>\n",
       "      <td>../data/RecSys/core_images/239953.jpg</td>\n",
       "      <td>3</td>\n",
       "    </tr>\n",
       "    <tr>\n",
       "      <th>2078</th>\n",
       "      <td>115014</td>\n",
       "      <td>4.566667</td>\n",
       "      <td>24</td>\n",
       "      <td>Venison and Wild Rice Stuffed Acorn Squash</td>\n",
       "      <td>wild rice, water, acorn squash halved and seed...</td>\n",
       "      <td>../data/RecSys/core_images/115014.jpg</td>\n",
       "      <td>15</td>\n",
       "    </tr>\n",
       "    <tr>\n",
       "      <th>23545</th>\n",
       "      <td>19227</td>\n",
       "      <td>4.672897</td>\n",
       "      <td>85</td>\n",
       "      <td>Oatmeal Raisin Toffee Cookies</td>\n",
       "      <td>butter, brown sugar, white sugar, eggs, vanill...</td>\n",
       "      <td>../data/RecSys/core_images/19227.jpg</td>\n",
       "      <td>6</td>\n",
       "    </tr>\n",
       "    <tr>\n",
       "      <th>38421</th>\n",
       "      <td>88901</td>\n",
       "      <td>4.172414</td>\n",
       "      <td>77</td>\n",
       "      <td>Italian Zucchini Saute</td>\n",
       "      <td>olive oil, small white onion, diced tomatoes w...</td>\n",
       "      <td>../data/RecSys/core_images/88901.jpg</td>\n",
       "      <td>7</td>\n",
       "    </tr>\n",
       "    <tr>\n",
       "      <th>6063</th>\n",
       "      <td>232107</td>\n",
       "      <td>3.500000</td>\n",
       "      <td>3</td>\n",
       "      <td>Quick Mango Chicken Curry</td>\n",
       "      <td>vegetable oil, large onion, green bell pepper,...</td>\n",
       "      <td>../data/RecSys/core_images/232107.jpg</td>\n",
       "      <td>18</td>\n",
       "    </tr>\n",
       "    <tr>\n",
       "      <th>8840</th>\n",
       "      <td>18004</td>\n",
       "      <td>4.189189</td>\n",
       "      <td>30</td>\n",
       "      <td>Brandi's Best Burgers</td>\n",
       "      <td>lean ground beef, dry onion soup mix, water, h...</td>\n",
       "      <td>../data/RecSys/core_images/18004.jpg</td>\n",
       "      <td>23</td>\n",
       "    </tr>\n",
       "    <tr>\n",
       "      <th>7744</th>\n",
       "      <td>15158</td>\n",
       "      <td>4.365592</td>\n",
       "      <td>151</td>\n",
       "      <td>Creamy Chicken and Rice Soup</td>\n",
       "      <td>chopped celery, chopped onion, uncooked brown ...</td>\n",
       "      <td>../data/RecSys/core_images/15158.jpg</td>\n",
       "      <td>11</td>\n",
       "    </tr>\n",
       "    <tr>\n",
       "      <th>25258</th>\n",
       "      <td>18460</td>\n",
       "      <td>4.636364</td>\n",
       "      <td>11</td>\n",
       "      <td>Microwave Chocolate Pie</td>\n",
       "      <td>pie shell baked, white sugar, cornstarch, unsw...</td>\n",
       "      <td>../data/RecSys/core_images/18460.jpg</td>\n",
       "      <td>2</td>\n",
       "    </tr>\n",
       "  </tbody>\n",
       "</table>\n",
       "</div>"
      ],
      "text/plain": [
       "       recipe_id  ave_rating  num_reviews  \\\n",
       "42610      49932    4.400000           66   \n",
       "5548       18216    4.686275           41   \n",
       "32845     239953    4.375000           12   \n",
       "2078      115014    4.566667           24   \n",
       "23545      19227    4.672897           85   \n",
       "38421      88901    4.172414           77   \n",
       "6063      232107    3.500000            3   \n",
       "8840       18004    4.189189           30   \n",
       "7744       15158    4.365592          151   \n",
       "25258      18460    4.636364           11   \n",
       "\n",
       "                                             name  \\\n",
       "42610                      Lentil Cakes (Patties)   \n",
       "5548                                 Calico Beans   \n",
       "32845                   Pizza Spaghetti Casserole   \n",
       "2078   Venison and Wild Rice Stuffed Acorn Squash   \n",
       "23545               Oatmeal Raisin Toffee Cookies   \n",
       "38421                      Italian Zucchini Saute   \n",
       "6063                    Quick Mango Chicken Curry   \n",
       "8840                        Brandi's Best Burgers   \n",
       "7744                 Creamy Chicken and Rice Soup   \n",
       "25258                     Microwave Chocolate Pie   \n",
       "\n",
       "                                             ingredients  \\\n",
       "42610  dry brown lentils, water, milk, wheat and barl...   \n",
       "5548   bacon, lean ground beef, onion, lima beans dra...   \n",
       "32845  spaghetti, ground beef, milk, egg, pasta sauce...   \n",
       "2078   wild rice, water, acorn squash halved and seed...   \n",
       "23545  butter, brown sugar, white sugar, eggs, vanill...   \n",
       "38421  olive oil, small white onion, diced tomatoes w...   \n",
       "6063   vegetable oil, large onion, green bell pepper,...   \n",
       "8840   lean ground beef, dry onion soup mix, water, h...   \n",
       "7744   chopped celery, chopped onion, uncooked brown ...   \n",
       "25258  pie shell baked, white sugar, cornstarch, unsw...   \n",
       "\n",
       "                                    img_path group  \n",
       "42610   ../data/RecSys/core_images/49932.jpg    23  \n",
       "5548    ../data/RecSys/core_images/18216.jpg    24  \n",
       "32845  ../data/RecSys/core_images/239953.jpg     3  \n",
       "2078   ../data/RecSys/core_images/115014.jpg    15  \n",
       "23545   ../data/RecSys/core_images/19227.jpg     6  \n",
       "38421   ../data/RecSys/core_images/88901.jpg     7  \n",
       "6063   ../data/RecSys/core_images/232107.jpg    18  \n",
       "8840    ../data/RecSys/core_images/18004.jpg    23  \n",
       "7744    ../data/RecSys/core_images/15158.jpg    11  \n",
       "25258   ../data/RecSys/core_images/18460.jpg     2  "
      ]
     },
     "execution_count": 175,
     "metadata": {},
     "output_type": "execute_result"
    }
   ],
   "source": [
    "recipes.iloc[inds,:]"
   ]
  },
  {
   "cell_type": "code",
   "execution_count": 121,
   "metadata": {},
   "outputs": [
    {
     "data": {
      "text/plain": [
       "array([ 0,  1,  2,  3,  4,  5,  6,  7,  8,  9, 10, 11, 12, 13, 14, 15, 16,\n",
       "       17, 18, 19, 20, 21, 22, 23, 24], dtype=int32)"
      ]
     },
     "execution_count": 121,
     "metadata": {},
     "output_type": "execute_result"
    }
   ],
   "source": [
    "# You will want some kind of database now?\n",
    "# I don't think you need anything about what was sent out\n",
    "# Only when it comes back, then you can record that in for a person"
   ]
  },
  {
   "cell_type": "code",
   "execution_count": 122,
   "metadata": {},
   "outputs": [
    {
     "data": {
      "text/plain": [
       "array([ 0,  1,  2,  3,  4,  5,  6,  7,  8,  9, 10, 11, 12, 13, 14, 15, 16,\n",
       "       17, 18, 19, 20, 21, 22, 23, 24], dtype=int32)"
      ]
     },
     "execution_count": 122,
     "metadata": {},
     "output_type": "execute_result"
    }
   ],
   "source": [
    "# Maybe for now let's not worry about showing any repeats\n",
    "# Let's just show what we can"
   ]
  },
  {
   "cell_type": "code",
   "execution_count": 133,
   "metadata": {},
   "outputs": [
    {
     "data": {
      "text/plain": [
       "array([3, 2])"
      ]
     },
     "execution_count": 133,
     "metadata": {},
     "output_type": "execute_result"
    }
   ],
   "source": []
  },
  {
   "cell_type": "code",
   "execution_count": null,
   "metadata": {},
   "outputs": [],
   "source": []
  }
 ],
 "metadata": {
  "kernelspec": {
   "display_name": "Python 3",
   "language": "python",
   "name": "python3"
  },
  "language_info": {
   "codemirror_mode": {
    "name": "ipython",
    "version": 3
   },
   "file_extension": ".py",
   "mimetype": "text/x-python",
   "name": "python",
   "nbconvert_exporter": "python",
   "pygments_lexer": "ipython3",
   "version": "3.8.3"
  }
 },
 "nbformat": 4,
 "nbformat_minor": 4
}
