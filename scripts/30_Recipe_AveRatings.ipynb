{
 "cells": [
  {
   "cell_type": "markdown",
   "metadata": {},
   "source": [
    "Let's load it..."
   ]
  },
  {
   "cell_type": "code",
   "execution_count": 1,
   "metadata": {},
   "outputs": [
    {
     "name": "stdout",
     "output_type": "stream",
     "text": [
      "total 4274488\n",
      "drwxr-xr-x@ 3 czarrar  staff    96B Sep  4 23:26 \u001b[34mcore-data-images\u001b[m\u001b[m\n",
      "-rw-rw-r--@ 1 czarrar  staff    12M Oct  6  2019 core-data-test_rating.csv\n",
      "-rw-rw-r--@ 1 czarrar  staff    28M Oct  6  2019 core-data-train_rating.csv\n",
      "-rw-rw-r--@ 1 czarrar  staff   5.5M Oct  6  2019 core-data-valid_rating.csv\n",
      "-rw-rw-r--@ 1 czarrar  staff   173M Oct  6  2019 core-data_recipe.csv\n",
      "drwxr-xr-x@ 3 czarrar  staff    96B Sep  4 23:26 \u001b[34mraw-data-images\u001b[m\u001b[m\n",
      "-rw-rw-r--@ 1 czarrar  staff   158M Oct  6  2019 raw-data_interaction.csv\n",
      "-rw-rw-r--@ 1 czarrar  staff   1.6G Oct  6  2019 raw-data_recipe.csv\n"
     ]
    }
   ],
   "source": [
    "# These are the possible input files\n",
    "!ls -lh ../data/RecSys"
   ]
  },
  {
   "cell_type": "code",
   "execution_count": 2,
   "metadata": {},
   "outputs": [],
   "source": [
    "# Load in packages to use throughout\n",
    "import pandas as pd\n",
    "import json"
   ]
  },
  {
   "cell_type": "markdown",
   "metadata": {},
   "source": [
    "# Read In\n",
    "\n",
    "This is a big file (1.6gig). The raw recipes file is nice since it gives the average ratings for each recipe. It is the ratings that we are interested in to figure out if the proximity model is working well."
   ]
  },
  {
   "cell_type": "code",
   "execution_count": 3,
   "metadata": {},
   "outputs": [
    {
     "data": {
      "text/html": [
       "<div>\n",
       "<style scoped>\n",
       "    .dataframe tbody tr th:only-of-type {\n",
       "        vertical-align: middle;\n",
       "    }\n",
       "\n",
       "    .dataframe tbody tr th {\n",
       "        vertical-align: top;\n",
       "    }\n",
       "\n",
       "    .dataframe thead th {\n",
       "        text-align: right;\n",
       "    }\n",
       "</style>\n",
       "<table border=\"1\" class=\"dataframe\">\n",
       "  <thead>\n",
       "    <tr style=\"text-align: right;\">\n",
       "      <th></th>\n",
       "      <th>recipe_id</th>\n",
       "      <th>recipe_name</th>\n",
       "      <th>aver_rate</th>\n",
       "      <th>image_url</th>\n",
       "      <th>review_nums</th>\n",
       "      <th>ingredients</th>\n",
       "      <th>cooking_directions</th>\n",
       "      <th>nutritions</th>\n",
       "      <th>reviews</th>\n",
       "    </tr>\n",
       "  </thead>\n",
       "  <tbody>\n",
       "    <tr>\n",
       "      <th>0</th>\n",
       "      <td>222388</td>\n",
       "      <td>Homemade Bacon</td>\n",
       "      <td>5.000000</td>\n",
       "      <td>https://images.media-allrecipes.com/userphotos...</td>\n",
       "      <td>3</td>\n",
       "      <td>pork belly^smoked paprika^kosher salt^ground b...</td>\n",
       "      <td>{'directions': u'Prep\\n5 m\\nCook\\n2 h 45 m\\nRe...</td>\n",
       "      <td>{u'niacin': {u'hasCompleteData': False, u'name...</td>\n",
       "      <td>{8542392: {'rating': 5, 'followersCount': 11, ...</td>\n",
       "    </tr>\n",
       "    <tr>\n",
       "      <th>1</th>\n",
       "      <td>240488</td>\n",
       "      <td>Pork Loin, Apples, and Sauerkraut</td>\n",
       "      <td>4.764706</td>\n",
       "      <td>https://images.media-allrecipes.com/userphotos...</td>\n",
       "      <td>29</td>\n",
       "      <td>sauerkraut drained^Granny Smith apples sliced^...</td>\n",
       "      <td>{'directions': u'Prep\\n15 m\\nCook\\n2 h 30 m\\nR...</td>\n",
       "      <td>{u'niacin': {u'hasCompleteData': False, u'name...</td>\n",
       "      <td>{3574785: {'rating': 5, 'followersCount': 0, '...</td>\n",
       "    </tr>\n",
       "    <tr>\n",
       "      <th>2</th>\n",
       "      <td>218939</td>\n",
       "      <td>Foolproof Rosemary Chicken Wings</td>\n",
       "      <td>4.571429</td>\n",
       "      <td>https://images.media-allrecipes.com/userphotos...</td>\n",
       "      <td>12</td>\n",
       "      <td>chicken wings^sprigs rosemary^head garlic^oliv...</td>\n",
       "      <td>{'directions': u\"Prep\\n20 m\\nCook\\n40 m\\nReady...</td>\n",
       "      <td>{u'niacin': {u'hasCompleteData': True, u'name'...</td>\n",
       "      <td>{13774946: {'rating': 5, 'followersCount': 0, ...</td>\n",
       "    </tr>\n",
       "    <tr>\n",
       "      <th>3</th>\n",
       "      <td>87211</td>\n",
       "      <td>Chicken Pesto Paninis</td>\n",
       "      <td>4.625000</td>\n",
       "      <td>https://images.media-allrecipes.com/userphotos...</td>\n",
       "      <td>163</td>\n",
       "      <td>focaccia bread quartered^prepared basil pesto^...</td>\n",
       "      <td>{'directions': u'Prep\\n15 m\\nCook\\n5 m\\nReady ...</td>\n",
       "      <td>{u'niacin': {u'hasCompleteData': True, u'name'...</td>\n",
       "      <td>{1563136: {'rating': 5, 'followersCount': 0, '...</td>\n",
       "    </tr>\n",
       "    <tr>\n",
       "      <th>4</th>\n",
       "      <td>245714</td>\n",
       "      <td>Potato Bacon Pizza</td>\n",
       "      <td>4.500000</td>\n",
       "      <td>https://images.media-allrecipes.com/userphotos...</td>\n",
       "      <td>2</td>\n",
       "      <td>red potatoes^strips bacon^Sauce:^heavy whippin...</td>\n",
       "      <td>{'directions': u'Prep\\n20 m\\nCook\\n45 m\\nReady...</td>\n",
       "      <td>{u'niacin': {u'hasCompleteData': True, u'name'...</td>\n",
       "      <td>{2945555: {'rating': 5, 'followersCount': 6690...</td>\n",
       "    </tr>\n",
       "  </tbody>\n",
       "</table>\n",
       "</div>"
      ],
      "text/plain": [
       "   recipe_id                        recipe_name  aver_rate  \\\n",
       "0     222388                     Homemade Bacon   5.000000   \n",
       "1     240488  Pork Loin, Apples, and Sauerkraut   4.764706   \n",
       "2     218939   Foolproof Rosemary Chicken Wings   4.571429   \n",
       "3      87211              Chicken Pesto Paninis   4.625000   \n",
       "4     245714                 Potato Bacon Pizza   4.500000   \n",
       "\n",
       "                                           image_url  review_nums  \\\n",
       "0  https://images.media-allrecipes.com/userphotos...            3   \n",
       "1  https://images.media-allrecipes.com/userphotos...           29   \n",
       "2  https://images.media-allrecipes.com/userphotos...           12   \n",
       "3  https://images.media-allrecipes.com/userphotos...          163   \n",
       "4  https://images.media-allrecipes.com/userphotos...            2   \n",
       "\n",
       "                                         ingredients  \\\n",
       "0  pork belly^smoked paprika^kosher salt^ground b...   \n",
       "1  sauerkraut drained^Granny Smith apples sliced^...   \n",
       "2  chicken wings^sprigs rosemary^head garlic^oliv...   \n",
       "3  focaccia bread quartered^prepared basil pesto^...   \n",
       "4  red potatoes^strips bacon^Sauce:^heavy whippin...   \n",
       "\n",
       "                                  cooking_directions  \\\n",
       "0  {'directions': u'Prep\\n5 m\\nCook\\n2 h 45 m\\nRe...   \n",
       "1  {'directions': u'Prep\\n15 m\\nCook\\n2 h 30 m\\nR...   \n",
       "2  {'directions': u\"Prep\\n20 m\\nCook\\n40 m\\nReady...   \n",
       "3  {'directions': u'Prep\\n15 m\\nCook\\n5 m\\nReady ...   \n",
       "4  {'directions': u'Prep\\n20 m\\nCook\\n45 m\\nReady...   \n",
       "\n",
       "                                          nutritions  \\\n",
       "0  {u'niacin': {u'hasCompleteData': False, u'name...   \n",
       "1  {u'niacin': {u'hasCompleteData': False, u'name...   \n",
       "2  {u'niacin': {u'hasCompleteData': True, u'name'...   \n",
       "3  {u'niacin': {u'hasCompleteData': True, u'name'...   \n",
       "4  {u'niacin': {u'hasCompleteData': True, u'name'...   \n",
       "\n",
       "                                             reviews  \n",
       "0  {8542392: {'rating': 5, 'followersCount': 11, ...  \n",
       "1  {3574785: {'rating': 5, 'followersCount': 0, '...  \n",
       "2  {13774946: {'rating': 5, 'followersCount': 0, ...  \n",
       "3  {1563136: {'rating': 5, 'followersCount': 0, '...  \n",
       "4  {2945555: {'rating': 5, 'followersCount': 6690...  "
      ]
     },
     "execution_count": 3,
     "metadata": {},
     "output_type": "execute_result"
    }
   ],
   "source": [
    "recipes = pd.read_csv('../data/RecSys/raw-data_recipe.csv')\n",
    "recipes.head()"
   ]
  },
  {
   "cell_type": "code",
   "execution_count": 4,
   "metadata": {},
   "outputs": [
    {
     "data": {
      "text/html": [
       "<div>\n",
       "<style scoped>\n",
       "    .dataframe tbody tr th:only-of-type {\n",
       "        vertical-align: middle;\n",
       "    }\n",
       "\n",
       "    .dataframe tbody tr th {\n",
       "        vertical-align: top;\n",
       "    }\n",
       "\n",
       "    .dataframe thead th {\n",
       "        text-align: right;\n",
       "    }\n",
       "</style>\n",
       "<table border=\"1\" class=\"dataframe\">\n",
       "  <thead>\n",
       "    <tr style=\"text-align: right;\">\n",
       "      <th></th>\n",
       "      <th>recipe_id</th>\n",
       "      <th>recipe_name</th>\n",
       "      <th>ingredients</th>\n",
       "    </tr>\n",
       "  </thead>\n",
       "  <tbody>\n",
       "    <tr>\n",
       "      <th>0</th>\n",
       "      <td>240488</td>\n",
       "      <td>Pork Loin, Apples, and Sauerkraut</td>\n",
       "      <td>sauerkraut drained^Granny Smith apples sliced^...</td>\n",
       "    </tr>\n",
       "    <tr>\n",
       "      <th>1</th>\n",
       "      <td>218939</td>\n",
       "      <td>Foolproof Rosemary Chicken Wings</td>\n",
       "      <td>chicken wings^sprigs rosemary^head garlic^oliv...</td>\n",
       "    </tr>\n",
       "    <tr>\n",
       "      <th>2</th>\n",
       "      <td>87211</td>\n",
       "      <td>Chicken Pesto Paninis</td>\n",
       "      <td>focaccia bread quartered^prepared basil pesto^...</td>\n",
       "    </tr>\n",
       "    <tr>\n",
       "      <th>3</th>\n",
       "      <td>245714</td>\n",
       "      <td>Potato Bacon Pizza</td>\n",
       "      <td>red potatoes^strips bacon^Sauce:^heavy whippin...</td>\n",
       "    </tr>\n",
       "    <tr>\n",
       "      <th>4</th>\n",
       "      <td>218545</td>\n",
       "      <td>Latin-Inspired Spicy Cream Chicken Stew</td>\n",
       "      <td>skinless boneless chicken breast halves^diced ...</td>\n",
       "    </tr>\n",
       "  </tbody>\n",
       "</table>\n",
       "</div>"
      ],
      "text/plain": [
       "   recipe_id                              recipe_name  \\\n",
       "0     240488        Pork Loin, Apples, and Sauerkraut   \n",
       "1     218939         Foolproof Rosemary Chicken Wings   \n",
       "2      87211                    Chicken Pesto Paninis   \n",
       "3     245714                       Potato Bacon Pizza   \n",
       "4     218545  Latin-Inspired Spicy Cream Chicken Stew   \n",
       "\n",
       "                                         ingredients  \n",
       "0  sauerkraut drained^Granny Smith apples sliced^...  \n",
       "1  chicken wings^sprigs rosemary^head garlic^oliv...  \n",
       "2  focaccia bread quartered^prepared basil pesto^...  \n",
       "3  red potatoes^strips bacon^Sauce:^heavy whippin...  \n",
       "4  skinless boneless chicken breast halves^diced ...  "
      ]
     },
     "execution_count": 4,
     "metadata": {},
     "output_type": "execute_result"
    }
   ],
   "source": [
    "# This comes from 10_Recipe_Ingredients\n",
    "recipes2 = pd.read_csv('../data/20_ingredients.csv').iloc[:,1:]\n",
    "recipes2.head()"
   ]
  },
  {
   "cell_type": "markdown",
   "metadata": {},
   "source": [
    "I have taken the ratings and the ingredients together."
   ]
  },
  {
   "cell_type": "code",
   "execution_count": 5,
   "metadata": {},
   "outputs": [],
   "source": [
    "recipes3 = pd.merge(recipes[['recipe_id', 'aver_rate', 'review_nums']], recipes2, on=\"recipe_id\")"
   ]
  },
  {
   "cell_type": "code",
   "execution_count": 6,
   "metadata": {},
   "outputs": [
    {
     "name": "stdout",
     "output_type": "stream",
     "text": [
      "(49698, 9)\n",
      "(45630, 3)\n",
      "(45630, 5)\n"
     ]
    }
   ],
   "source": [
    "print(recipes.shape)\n",
    "print(recipes2.shape)\n",
    "print(recipes3.shape)"
   ]
  },
  {
   "cell_type": "code",
   "execution_count": 7,
   "metadata": {},
   "outputs": [
    {
     "data": {
      "text/html": [
       "<div>\n",
       "<style scoped>\n",
       "    .dataframe tbody tr th:only-of-type {\n",
       "        vertical-align: middle;\n",
       "    }\n",
       "\n",
       "    .dataframe tbody tr th {\n",
       "        vertical-align: top;\n",
       "    }\n",
       "\n",
       "    .dataframe thead th {\n",
       "        text-align: right;\n",
       "    }\n",
       "</style>\n",
       "<table border=\"1\" class=\"dataframe\">\n",
       "  <thead>\n",
       "    <tr style=\"text-align: right;\">\n",
       "      <th></th>\n",
       "      <th>recipe_id</th>\n",
       "      <th>aver_rate</th>\n",
       "      <th>review_nums</th>\n",
       "      <th>recipe_name</th>\n",
       "      <th>ingredients</th>\n",
       "    </tr>\n",
       "  </thead>\n",
       "  <tbody>\n",
       "    <tr>\n",
       "      <th>0</th>\n",
       "      <td>240488</td>\n",
       "      <td>4.764706</td>\n",
       "      <td>29</td>\n",
       "      <td>Pork Loin, Apples, and Sauerkraut</td>\n",
       "      <td>sauerkraut drained^Granny Smith apples sliced^...</td>\n",
       "    </tr>\n",
       "    <tr>\n",
       "      <th>1</th>\n",
       "      <td>218939</td>\n",
       "      <td>4.571429</td>\n",
       "      <td>12</td>\n",
       "      <td>Foolproof Rosemary Chicken Wings</td>\n",
       "      <td>chicken wings^sprigs rosemary^head garlic^oliv...</td>\n",
       "    </tr>\n",
       "    <tr>\n",
       "      <th>2</th>\n",
       "      <td>87211</td>\n",
       "      <td>4.625000</td>\n",
       "      <td>163</td>\n",
       "      <td>Chicken Pesto Paninis</td>\n",
       "      <td>focaccia bread quartered^prepared basil pesto^...</td>\n",
       "    </tr>\n",
       "    <tr>\n",
       "      <th>3</th>\n",
       "      <td>245714</td>\n",
       "      <td>4.500000</td>\n",
       "      <td>2</td>\n",
       "      <td>Potato Bacon Pizza</td>\n",
       "      <td>red potatoes^strips bacon^Sauce:^heavy whippin...</td>\n",
       "    </tr>\n",
       "    <tr>\n",
       "      <th>4</th>\n",
       "      <td>218545</td>\n",
       "      <td>4.605769</td>\n",
       "      <td>85</td>\n",
       "      <td>Latin-Inspired Spicy Cream Chicken Stew</td>\n",
       "      <td>skinless boneless chicken breast halves^diced ...</td>\n",
       "    </tr>\n",
       "  </tbody>\n",
       "</table>\n",
       "</div>"
      ],
      "text/plain": [
       "   recipe_id  aver_rate  review_nums                              recipe_name  \\\n",
       "0     240488   4.764706           29        Pork Loin, Apples, and Sauerkraut   \n",
       "1     218939   4.571429           12         Foolproof Rosemary Chicken Wings   \n",
       "2      87211   4.625000          163                    Chicken Pesto Paninis   \n",
       "3     245714   4.500000            2                       Potato Bacon Pizza   \n",
       "4     218545   4.605769           85  Latin-Inspired Spicy Cream Chicken Stew   \n",
       "\n",
       "                                         ingredients  \n",
       "0  sauerkraut drained^Granny Smith apples sliced^...  \n",
       "1  chicken wings^sprigs rosemary^head garlic^oliv...  \n",
       "2  focaccia bread quartered^prepared basil pesto^...  \n",
       "3  red potatoes^strips bacon^Sauce:^heavy whippin...  \n",
       "4  skinless boneless chicken breast halves^diced ...  "
      ]
     },
     "execution_count": 7,
     "metadata": {},
     "output_type": "execute_result"
    }
   ],
   "source": [
    "recipes3.head()"
   ]
  },
  {
   "cell_type": "code",
   "execution_count": 52,
   "metadata": {},
   "outputs": [],
   "source": [
    "recipes3 = recipes3.rename(columns={'aver_rate': 'ave_rating', 'review_nums': 'num_reviews', 'recipe_name': 'name'})"
   ]
  },
  {
   "cell_type": "code",
   "execution_count": 53,
   "metadata": {},
   "outputs": [
    {
     "data": {
      "text/html": [
       "<div>\n",
       "<style scoped>\n",
       "    .dataframe tbody tr th:only-of-type {\n",
       "        vertical-align: middle;\n",
       "    }\n",
       "\n",
       "    .dataframe tbody tr th {\n",
       "        vertical-align: top;\n",
       "    }\n",
       "\n",
       "    .dataframe thead th {\n",
       "        text-align: right;\n",
       "    }\n",
       "</style>\n",
       "<table border=\"1\" class=\"dataframe\">\n",
       "  <thead>\n",
       "    <tr style=\"text-align: right;\">\n",
       "      <th></th>\n",
       "      <th>recipe_id</th>\n",
       "      <th>ave_rating</th>\n",
       "      <th>num_reviews</th>\n",
       "      <th>name</th>\n",
       "      <th>ingredients</th>\n",
       "      <th>img_path</th>\n",
       "    </tr>\n",
       "  </thead>\n",
       "  <tbody>\n",
       "    <tr>\n",
       "      <th>0</th>\n",
       "      <td>240488</td>\n",
       "      <td>4.764706</td>\n",
       "      <td>29</td>\n",
       "      <td>Pork Loin, Apples, and Sauerkraut</td>\n",
       "      <td>sauerkraut drained, Granny Smith apples sliced...</td>\n",
       "      <td>../data/RecSys/core_images/240488.jpg</td>\n",
       "    </tr>\n",
       "    <tr>\n",
       "      <th>1</th>\n",
       "      <td>218939</td>\n",
       "      <td>4.571429</td>\n",
       "      <td>12</td>\n",
       "      <td>Foolproof Rosemary Chicken Wings</td>\n",
       "      <td>chicken wings, sprigs rosemary, head garlic, o...</td>\n",
       "      <td>../data/RecSys/core_images/218939.jpg</td>\n",
       "    </tr>\n",
       "    <tr>\n",
       "      <th>2</th>\n",
       "      <td>87211</td>\n",
       "      <td>4.625000</td>\n",
       "      <td>163</td>\n",
       "      <td>Chicken Pesto Paninis</td>\n",
       "      <td>focaccia bread quartered, prepared basil pesto...</td>\n",
       "      <td>../data/RecSys/core_images/87211.jpg</td>\n",
       "    </tr>\n",
       "    <tr>\n",
       "      <th>3</th>\n",
       "      <td>245714</td>\n",
       "      <td>4.500000</td>\n",
       "      <td>2</td>\n",
       "      <td>Potato Bacon Pizza</td>\n",
       "      <td>red potatoes, strips bacon, Sauce:, heavy whip...</td>\n",
       "      <td>../data/RecSys/core_images/245714.jpg</td>\n",
       "    </tr>\n",
       "    <tr>\n",
       "      <th>4</th>\n",
       "      <td>218545</td>\n",
       "      <td>4.605769</td>\n",
       "      <td>85</td>\n",
       "      <td>Latin-Inspired Spicy Cream Chicken Stew</td>\n",
       "      <td>skinless boneless chicken breast halves, diced...</td>\n",
       "      <td>../data/RecSys/core_images/218545.jpg</td>\n",
       "    </tr>\n",
       "  </tbody>\n",
       "</table>\n",
       "</div>"
      ],
      "text/plain": [
       "   recipe_id  ave_rating  num_reviews  \\\n",
       "0     240488    4.764706           29   \n",
       "1     218939    4.571429           12   \n",
       "2      87211    4.625000          163   \n",
       "3     245714    4.500000            2   \n",
       "4     218545    4.605769           85   \n",
       "\n",
       "                                      name  \\\n",
       "0        Pork Loin, Apples, and Sauerkraut   \n",
       "1         Foolproof Rosemary Chicken Wings   \n",
       "2                    Chicken Pesto Paninis   \n",
       "3                       Potato Bacon Pizza   \n",
       "4  Latin-Inspired Spicy Cream Chicken Stew   \n",
       "\n",
       "                                         ingredients  \\\n",
       "0  sauerkraut drained, Granny Smith apples sliced...   \n",
       "1  chicken wings, sprigs rosemary, head garlic, o...   \n",
       "2  focaccia bread quartered, prepared basil pesto...   \n",
       "3  red potatoes, strips bacon, Sauce:, heavy whip...   \n",
       "4  skinless boneless chicken breast halves, diced...   \n",
       "\n",
       "                                img_path  \n",
       "0  ../data/RecSys/core_images/240488.jpg  \n",
       "1  ../data/RecSys/core_images/218939.jpg  \n",
       "2   ../data/RecSys/core_images/87211.jpg  \n",
       "3  ../data/RecSys/core_images/245714.jpg  \n",
       "4  ../data/RecSys/core_images/218545.jpg  "
      ]
     },
     "execution_count": 53,
     "metadata": {},
     "output_type": "execute_result"
    }
   ],
   "source": [
    "recipes3.head()"
   ]
  },
  {
   "cell_type": "markdown",
   "metadata": {},
   "source": [
    "## Check on ingredients\n",
    "\n",
    "Right now the ingredients use ^ to separate the different ingredients. This doesn't look great later on when showing the data to people. I can simplify this by changing the ^ to a comma. An issue with this is that 2 of the recipes have ingredients with commas there anyway. For those ones, I can just replace the comma with a space."
   ]
  },
  {
   "cell_type": "code",
   "execution_count": 28,
   "metadata": {},
   "outputs": [
    {
     "data": {
      "text/plain": [
       "2"
      ]
     },
     "execution_count": 28,
     "metadata": {},
     "output_type": "execute_result"
    }
   ],
   "source": [
    "# Find the commas\n",
    "import numpy as np\n",
    "\n",
    "any_commas = np.array([ x.find(',') for x in recipes3.ingredients ])\n",
    "np.sum(any_commas > (-1))"
   ]
  },
  {
   "cell_type": "code",
   "execution_count": 27,
   "metadata": {},
   "outputs": [
    {
     "name": "stdout",
     "output_type": "stream",
     "text": [
      "['chicken', 'chicken broth', 'large carrots', 'celery', 'large turnip,cut into 1/4-inch dice', 'parsnips cut into 1/4-inch dice', 'leek chopped', 'onion', 'chopped fresh dill', 'matzo ball mix', 'eggs', 'vegetable oil', 'water', 'salt and ground black pepper to taste']\n",
      "['Corn \"Cream\":', 'ears fresh white corn', 'chicken broth', 'Pasta:', 'olive oil', 'diced bacon', 'diced sweet red pepper', 'diced zucchini', 'salt and pepper to taste', 'cayenne pepper', 'cavatelli pasta', 'corn \"cream,\"', 'halved sweet cherry tomatoes', 'chopped Italian parsley', 'finely sliced fresh basil leaves', 'grated Parmigiano-Reggiano cheese']\n"
     ]
    }
   ],
   "source": [
    "for x in recipes3.ingredients[any_commas > (-1)]:\n",
    "    print(x.split('^'))"
   ]
  },
  {
   "cell_type": "code",
   "execution_count": 34,
   "metadata": {},
   "outputs": [],
   "source": [
    "for ind in np.nonzero(any_commas > (-1))[0]:\n",
    "    recipes3.loc[ind,\"ingredients\"] = recipes3.loc[ind,\"ingredients\"].replace(\",\", \" \")"
   ]
  },
  {
   "cell_type": "code",
   "execution_count": 35,
   "metadata": {},
   "outputs": [
    {
     "data": {
      "text/plain": [
       "0"
      ]
     },
     "execution_count": 35,
     "metadata": {},
     "output_type": "execute_result"
    }
   ],
   "source": [
    "any_commas = np.array([ x.find(',') for x in recipes3.ingredients ])\n",
    "np.sum(any_commas > (-1))"
   ]
  },
  {
   "cell_type": "markdown",
   "metadata": {},
   "source": [
    "Replace the ^ with ,"
   ]
  },
  {
   "cell_type": "code",
   "execution_count": 36,
   "metadata": {},
   "outputs": [],
   "source": [
    "recipes3['ingredients'] = [ x.replace('^', ', ') for x in recipes3.ingredients ]"
   ]
  },
  {
   "cell_type": "code",
   "execution_count": 37,
   "metadata": {},
   "outputs": [
    {
     "data": {
      "text/html": [
       "<div>\n",
       "<style scoped>\n",
       "    .dataframe tbody tr th:only-of-type {\n",
       "        vertical-align: middle;\n",
       "    }\n",
       "\n",
       "    .dataframe tbody tr th {\n",
       "        vertical-align: top;\n",
       "    }\n",
       "\n",
       "    .dataframe thead th {\n",
       "        text-align: right;\n",
       "    }\n",
       "</style>\n",
       "<table border=\"1\" class=\"dataframe\">\n",
       "  <thead>\n",
       "    <tr style=\"text-align: right;\">\n",
       "      <th></th>\n",
       "      <th>recipe_id</th>\n",
       "      <th>ave_rating</th>\n",
       "      <th>num_reviews</th>\n",
       "      <th>recipe_name</th>\n",
       "      <th>ingredients</th>\n",
       "    </tr>\n",
       "  </thead>\n",
       "  <tbody>\n",
       "    <tr>\n",
       "      <th>0</th>\n",
       "      <td>240488</td>\n",
       "      <td>4.764706</td>\n",
       "      <td>29</td>\n",
       "      <td>Pork Loin, Apples, and Sauerkraut</td>\n",
       "      <td>sauerkraut drained, Granny Smith apples sliced...</td>\n",
       "    </tr>\n",
       "    <tr>\n",
       "      <th>1</th>\n",
       "      <td>218939</td>\n",
       "      <td>4.571429</td>\n",
       "      <td>12</td>\n",
       "      <td>Foolproof Rosemary Chicken Wings</td>\n",
       "      <td>chicken wings, sprigs rosemary, head garlic, o...</td>\n",
       "    </tr>\n",
       "    <tr>\n",
       "      <th>2</th>\n",
       "      <td>87211</td>\n",
       "      <td>4.625000</td>\n",
       "      <td>163</td>\n",
       "      <td>Chicken Pesto Paninis</td>\n",
       "      <td>focaccia bread quartered, prepared basil pesto...</td>\n",
       "    </tr>\n",
       "    <tr>\n",
       "      <th>3</th>\n",
       "      <td>245714</td>\n",
       "      <td>4.500000</td>\n",
       "      <td>2</td>\n",
       "      <td>Potato Bacon Pizza</td>\n",
       "      <td>red potatoes, strips bacon, Sauce:, heavy whip...</td>\n",
       "    </tr>\n",
       "    <tr>\n",
       "      <th>4</th>\n",
       "      <td>218545</td>\n",
       "      <td>4.605769</td>\n",
       "      <td>85</td>\n",
       "      <td>Latin-Inspired Spicy Cream Chicken Stew</td>\n",
       "      <td>skinless boneless chicken breast halves, diced...</td>\n",
       "    </tr>\n",
       "  </tbody>\n",
       "</table>\n",
       "</div>"
      ],
      "text/plain": [
       "   recipe_id  ave_rating  num_reviews  \\\n",
       "0     240488    4.764706           29   \n",
       "1     218939    4.571429           12   \n",
       "2      87211    4.625000          163   \n",
       "3     245714    4.500000            2   \n",
       "4     218545    4.605769           85   \n",
       "\n",
       "                               recipe_name  \\\n",
       "0        Pork Loin, Apples, and Sauerkraut   \n",
       "1         Foolproof Rosemary Chicken Wings   \n",
       "2                    Chicken Pesto Paninis   \n",
       "3                       Potato Bacon Pizza   \n",
       "4  Latin-Inspired Spicy Cream Chicken Stew   \n",
       "\n",
       "                                         ingredients  \n",
       "0  sauerkraut drained, Granny Smith apples sliced...  \n",
       "1  chicken wings, sprigs rosemary, head garlic, o...  \n",
       "2  focaccia bread quartered, prepared basil pesto...  \n",
       "3  red potatoes, strips bacon, Sauce:, heavy whip...  \n",
       "4  skinless boneless chicken breast halves, diced...  "
      ]
     },
     "execution_count": 37,
     "metadata": {},
     "output_type": "execute_result"
    }
   ],
   "source": [
    "recipes3.head()"
   ]
  },
  {
   "cell_type": "markdown",
   "metadata": {},
   "source": [
    "## Add on the image paths"
   ]
  },
  {
   "cell_type": "code",
   "execution_count": 50,
   "metadata": {},
   "outputs": [
    {
     "data": {
      "text/html": [
       "<div>\n",
       "<style scoped>\n",
       "    .dataframe tbody tr th:only-of-type {\n",
       "        vertical-align: middle;\n",
       "    }\n",
       "\n",
       "    .dataframe tbody tr th {\n",
       "        vertical-align: top;\n",
       "    }\n",
       "\n",
       "    .dataframe thead th {\n",
       "        text-align: right;\n",
       "    }\n",
       "</style>\n",
       "<table border=\"1\" class=\"dataframe\">\n",
       "  <thead>\n",
       "    <tr style=\"text-align: right;\">\n",
       "      <th></th>\n",
       "      <th>recipe_id</th>\n",
       "      <th>ave_rating</th>\n",
       "      <th>num_reviews</th>\n",
       "      <th>recipe_name</th>\n",
       "      <th>ingredients</th>\n",
       "      <th>img_path</th>\n",
       "    </tr>\n",
       "  </thead>\n",
       "  <tbody>\n",
       "    <tr>\n",
       "      <th>0</th>\n",
       "      <td>240488</td>\n",
       "      <td>4.764706</td>\n",
       "      <td>29</td>\n",
       "      <td>Pork Loin, Apples, and Sauerkraut</td>\n",
       "      <td>sauerkraut drained, Granny Smith apples sliced...</td>\n",
       "      <td>../data/RecSys/core_images/240488.jpg</td>\n",
       "    </tr>\n",
       "    <tr>\n",
       "      <th>1</th>\n",
       "      <td>218939</td>\n",
       "      <td>4.571429</td>\n",
       "      <td>12</td>\n",
       "      <td>Foolproof Rosemary Chicken Wings</td>\n",
       "      <td>chicken wings, sprigs rosemary, head garlic, o...</td>\n",
       "      <td>../data/RecSys/core_images/218939.jpg</td>\n",
       "    </tr>\n",
       "    <tr>\n",
       "      <th>2</th>\n",
       "      <td>87211</td>\n",
       "      <td>4.625000</td>\n",
       "      <td>163</td>\n",
       "      <td>Chicken Pesto Paninis</td>\n",
       "      <td>focaccia bread quartered, prepared basil pesto...</td>\n",
       "      <td>../data/RecSys/core_images/87211.jpg</td>\n",
       "    </tr>\n",
       "    <tr>\n",
       "      <th>3</th>\n",
       "      <td>245714</td>\n",
       "      <td>4.500000</td>\n",
       "      <td>2</td>\n",
       "      <td>Potato Bacon Pizza</td>\n",
       "      <td>red potatoes, strips bacon, Sauce:, heavy whip...</td>\n",
       "      <td>../data/RecSys/core_images/245714.jpg</td>\n",
       "    </tr>\n",
       "    <tr>\n",
       "      <th>4</th>\n",
       "      <td>218545</td>\n",
       "      <td>4.605769</td>\n",
       "      <td>85</td>\n",
       "      <td>Latin-Inspired Spicy Cream Chicken Stew</td>\n",
       "      <td>skinless boneless chicken breast halves, diced...</td>\n",
       "      <td>../data/RecSys/core_images/218545.jpg</td>\n",
       "    </tr>\n",
       "  </tbody>\n",
       "</table>\n",
       "</div>"
      ],
      "text/plain": [
       "   recipe_id  ave_rating  num_reviews  \\\n",
       "0     240488    4.764706           29   \n",
       "1     218939    4.571429           12   \n",
       "2      87211    4.625000          163   \n",
       "3     245714    4.500000            2   \n",
       "4     218545    4.605769           85   \n",
       "\n",
       "                               recipe_name  \\\n",
       "0        Pork Loin, Apples, and Sauerkraut   \n",
       "1         Foolproof Rosemary Chicken Wings   \n",
       "2                    Chicken Pesto Paninis   \n",
       "3                       Potato Bacon Pizza   \n",
       "4  Latin-Inspired Spicy Cream Chicken Stew   \n",
       "\n",
       "                                         ingredients  \\\n",
       "0  sauerkraut drained, Granny Smith apples sliced...   \n",
       "1  chicken wings, sprigs rosemary, head garlic, o...   \n",
       "2  focaccia bread quartered, prepared basil pesto...   \n",
       "3  red potatoes, strips bacon, Sauce:, heavy whip...   \n",
       "4  skinless boneless chicken breast halves, diced...   \n",
       "\n",
       "                                img_path  \n",
       "0  ../data/RecSys/core_images/240488.jpg  \n",
       "1  ../data/RecSys/core_images/218939.jpg  \n",
       "2   ../data/RecSys/core_images/87211.jpg  \n",
       "3  ../data/RecSys/core_images/245714.jpg  \n",
       "4  ../data/RecSys/core_images/218545.jpg  "
      ]
     },
     "execution_count": 50,
     "metadata": {},
     "output_type": "execute_result"
    }
   ],
   "source": [
    "img_paths = [ '../data/RecSys/core_images/{}.jpg'.format(x) for x in recipes3.recipe_id ] \n",
    "recipes3['img_path'] = img_paths\n",
    "recipes3.head()"
   ]
  },
  {
   "cell_type": "markdown",
   "metadata": {},
   "source": [
    "# Save"
   ]
  },
  {
   "cell_type": "code",
   "execution_count": 54,
   "metadata": {},
   "outputs": [],
   "source": [
    "recipes3.to_csv('../data/30_ingredients+ave_ratings.csv')"
   ]
  },
  {
   "cell_type": "code",
   "execution_count": 19,
   "metadata": {},
   "outputs": [
    {
     "data": {
      "text/plain": [
       "array([-1, -1, -1, ..., -1, -1, -1])"
      ]
     },
     "execution_count": 19,
     "metadata": {},
     "output_type": "execute_result"
    }
   ],
   "source": []
  },
  {
   "cell_type": "code",
   "execution_count": 17,
   "metadata": {},
   "outputs": [
    {
     "data": {
      "text/plain": [
       "-1"
      ]
     },
     "execution_count": 17,
     "metadata": {},
     "output_type": "execute_result"
    }
   ],
   "source": [
    "s.find(',')"
   ]
  },
  {
   "cell_type": "code",
   "execution_count": null,
   "metadata": {},
   "outputs": [],
   "source": []
  }
 ],
 "metadata": {
  "kernelspec": {
   "display_name": "Python 3",
   "language": "python",
   "name": "python3"
  },
  "language_info": {
   "codemirror_mode": {
    "name": "ipython",
    "version": 3
   },
   "file_extension": ".py",
   "mimetype": "text/x-python",
   "name": "python",
   "nbconvert_exporter": "python",
   "pygments_lexer": "ipython3",
   "version": "3.8.3"
  }
 },
 "nbformat": 4,
 "nbformat_minor": 4
}
